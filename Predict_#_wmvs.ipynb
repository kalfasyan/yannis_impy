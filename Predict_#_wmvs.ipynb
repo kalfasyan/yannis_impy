{
 "cells": [
  {
   "cell_type": "code",
   "execution_count": 166,
   "metadata": {},
   "outputs": [],
   "source": [
    "%reset -f\n",
    "from tensorflow.keras.models import Sequential, Model\n",
    "from tensorflow.keras.layers import Conv2D, MaxPooling2D, Activation, Flatten, Dense, GlobalAveragePooling2D, Dropout\n",
    "from tensorflow.keras.callbacks import ModelCheckpoint, TensorBoard, EarlyStopping, ReduceLROnPlateau, CSVLogger\n",
    "from tensorflow.keras.applications.vgg16 import VGG16\n",
    "from tensorflow.keras.applications.inception_v3 import InceptionV3\n",
    "from tensorflow.keras.applications.densenet import DenseNet121, DenseNet201\n",
    "from tensorflow.keras.applications import NASNetLarge, Xception\n",
    "from tensorflow.keras.preprocessing.image import ImageDataGenerator\n",
    "import matplotlib.pyplot as plt\n",
    "import pandas as pd\n",
    "import cv2, os, os, git, glob, random\n",
    "import numpy as np\n",
    "from insectrec.utils import get_dataset, train_generator, valid_generator, augment_trainset\n",
    "from tensorflow.keras.preprocessing.image import img_to_array\n",
    "from sklearn.preprocessing import LabelEncoder\n",
    "from sklearn.utils import shuffle\n",
    "from sklearn.model_selection import train_test_split\n",
    "seed = 42\n",
    "np.random.seed(seed)\n",
    "\n",
    "created_data_path = f'/home/kalfasyan/data/images/sticky_plates/created_data'\n",
    "path_crops_export = f'{created_data_path}/crops_export/'\n",
    "path_images_augmented = f'{created_data_path}/images_augmented/'\n",
    "\n",
    "nb_classes = 6\n",
    "\n",
    "if nb_classes == 9:\n",
    "    target_classes = ['m','v','bl','c','wmv','v(cy)','bv','sw','t']\n",
    "elif nb_classes == 6:\n",
    "    target_classes = ['m','v','bl','c','wmv','v(cy)']\n",
    "epochs = 100\n",
    "batch_size = 32\n",
    "monitor='val_accuracy'\n",
    "es_patience=7\n",
    "rlr_patience=3\n",
    "img_dim = 150\n",
    "modelname = f'DenseNet121_{nb_classes}classes_{img_dim}'"
   ]
  },
  {
   "cell_type": "markdown",
   "metadata": {},
   "source": [
    "## DenseNet121 trained from scratch"
   ]
  },
  {
   "cell_type": "code",
   "execution_count": 167,
   "metadata": {},
   "outputs": [],
   "source": [
    "from tensorflow.keras.applications import NASNetLarge\n",
    "\n",
    "base_model = DenseNet121(include_top=False, weights=None, \n",
    "                         input_shape=(img_dim,img_dim,3))\n",
    "x = base_model.output\n",
    "x = GlobalAveragePooling2D()(x)\n",
    "# x = Dense(128, activation='relu')(x)\n",
    "x = Dropout(0.5)(x)\n",
    "x = Dense(nb_classes, activation=None)(x)\n",
    "predictions = Activation('softmax')(x)\n",
    "model = Model(inputs=base_model.input, outputs=predictions)\n",
    "# model.summary()"
   ]
  },
  {
   "cell_type": "code",
   "execution_count": 168,
   "metadata": {},
   "outputs": [],
   "source": [
    "import math\n",
    "top_weights_path = f\"{created_data_path}/weights/{modelname}.h5\"\n",
    "model.load_weights(top_weights_path)\n",
    "model.compile(optimizer='adam', loss='categorical_crossentropy', metrics=['accuracy'])"
   ]
  },
  {
   "cell_type": "markdown",
   "metadata": {},
   "source": [
    "## Define test set made of 2020 insects"
   ]
  },
  {
   "cell_type": "code",
   "execution_count": 169,
   "metadata": {},
   "outputs": [],
   "source": [
    "# python organize.py --datadir /home/kalfasyan/data/images/sticky_plates --years 2020"
   ]
  },
  {
   "cell_type": "code",
   "execution_count": 170,
   "metadata": {},
   "outputs": [],
   "source": [
    "# Creating le for encoding labels\n",
    "le = LabelEncoder()\n",
    "\n",
    "# Creating dataframe with all the original data (x: filenames, textlabels, y: nummerical labels)\n",
    "df_test = pd.DataFrame()\n",
    "df_test['x'] = pd.Series(glob.glob(f\"{path_crops_export}/*/*.jpg\"))\n",
    "df_test['pname'] = df_test['x'].apply(lambda p: p.split('/')[-1][:-4])\n",
    "df_test['pname'] = df_test['pname'].apply(lambda x: '_'.join(x.split('_')[:-1]))\n",
    "df_test['y_text'] = df_test['x'].apply(lambda x: x.split('/')[-2])\n",
    "\n",
    "df_test = df_test[df_test.y_text.isin(target_classes)]\n",
    "\n",
    "df_test['y'] = le.fit_transform(df_test.y_text)"
   ]
  },
  {
   "cell_type": "code",
   "execution_count": 171,
   "metadata": {},
   "outputs": [
    {
     "data": {
      "text/html": [
       "<div>\n",
       "<style scoped>\n",
       "    .dataframe tbody tr th:only-of-type {\n",
       "        vertical-align: middle;\n",
       "    }\n",
       "\n",
       "    .dataframe tbody tr th {\n",
       "        vertical-align: top;\n",
       "    }\n",
       "\n",
       "    .dataframe thead th {\n",
       "        text-align: right;\n",
       "    }\n",
       "</style>\n",
       "<table border=\"1\" class=\"dataframe\">\n",
       "  <thead>\n",
       "    <tr style=\"text-align: right;\">\n",
       "      <th></th>\n",
       "      <th>x</th>\n",
       "      <th>pname</th>\n",
       "      <th>y_text</th>\n",
       "      <th>y</th>\n",
       "    </tr>\n",
       "  </thead>\n",
       "  <tbody>\n",
       "    <tr>\n",
       "      <th>2505</th>\n",
       "      <td>/home/kalfasyan/data/images/sticky_plates/crea...</td>\n",
       "      <td>Herent_w27_3-90_F10_51 mm_ISO160_1-15 s_Incand...</td>\n",
       "      <td>bl</td>\n",
       "      <td>0</td>\n",
       "    </tr>\n",
       "    <tr>\n",
       "      <th>2506</th>\n",
       "      <td>/home/kalfasyan/data/images/sticky_plates/crea...</td>\n",
       "      <td>Herent_w27_1-60_F10_51 mm_ISO160_1-15 s_Incand...</td>\n",
       "      <td>bl</td>\n",
       "      <td>0</td>\n",
       "    </tr>\n",
       "    <tr>\n",
       "      <th>2507</th>\n",
       "      <td>/home/kalfasyan/data/images/sticky_plates/crea...</td>\n",
       "      <td>Herent_w28_3-30_F10_51 mm_ISO160_1-15 s_Incand...</td>\n",
       "      <td>bl</td>\n",
       "      <td>0</td>\n",
       "    </tr>\n",
       "    <tr>\n",
       "      <th>2508</th>\n",
       "      <td>/home/kalfasyan/data/images/sticky_plates/crea...</td>\n",
       "      <td>Herent_w26_2-30_F10_51 mm_ISO160_1-15 s_Incand...</td>\n",
       "      <td>bl</td>\n",
       "      <td>0</td>\n",
       "    </tr>\n",
       "    <tr>\n",
       "      <th>2509</th>\n",
       "      <td>/home/kalfasyan/data/images/sticky_plates/crea...</td>\n",
       "      <td>Herent_w30_4-30_F10_51 mm_ISO160_1-15 s_Incand...</td>\n",
       "      <td>bl</td>\n",
       "      <td>0</td>\n",
       "    </tr>\n",
       "    <tr>\n",
       "      <th>...</th>\n",
       "      <td>...</td>\n",
       "      <td>...</td>\n",
       "      <td>...</td>\n",
       "      <td>...</td>\n",
       "    </tr>\n",
       "    <tr>\n",
       "      <th>10336</th>\n",
       "      <td>/home/kalfasyan/data/images/sticky_plates/crea...</td>\n",
       "      <td>Herent_w27_2-30_F10_51 mm_ISO160_1-15 s_Incand...</td>\n",
       "      <td>m</td>\n",
       "      <td>2</td>\n",
       "    </tr>\n",
       "    <tr>\n",
       "      <th>10337</th>\n",
       "      <td>/home/kalfasyan/data/images/sticky_plates/crea...</td>\n",
       "      <td>Herent_w27_3-60_F10_51 mm_ISO160_1-15 s_Incand...</td>\n",
       "      <td>m</td>\n",
       "      <td>2</td>\n",
       "    </tr>\n",
       "    <tr>\n",
       "      <th>10338</th>\n",
       "      <td>/home/kalfasyan/data/images/sticky_plates/crea...</td>\n",
       "      <td>Herent_w29_2-90_F10_51 mm_ISO160_1-15 s_Incand...</td>\n",
       "      <td>m</td>\n",
       "      <td>2</td>\n",
       "    </tr>\n",
       "    <tr>\n",
       "      <th>10339</th>\n",
       "      <td>/home/kalfasyan/data/images/sticky_plates/crea...</td>\n",
       "      <td>Herent_w28_2-90_F10_51 mm_ISO160_1-15 s_Incand...</td>\n",
       "      <td>m</td>\n",
       "      <td>2</td>\n",
       "    </tr>\n",
       "    <tr>\n",
       "      <th>10340</th>\n",
       "      <td>/home/kalfasyan/data/images/sticky_plates/crea...</td>\n",
       "      <td>Herent_w27_3-30_F10_51 mm_ISO160_1-15 s_Incand...</td>\n",
       "      <td>m</td>\n",
       "      <td>2</td>\n",
       "    </tr>\n",
       "  </tbody>\n",
       "</table>\n",
       "<p>7680 rows × 4 columns</p>\n",
       "</div>"
      ],
      "text/plain": [
       "                                                       x  \\\n",
       "2505   /home/kalfasyan/data/images/sticky_plates/crea...   \n",
       "2506   /home/kalfasyan/data/images/sticky_plates/crea...   \n",
       "2507   /home/kalfasyan/data/images/sticky_plates/crea...   \n",
       "2508   /home/kalfasyan/data/images/sticky_plates/crea...   \n",
       "2509   /home/kalfasyan/data/images/sticky_plates/crea...   \n",
       "...                                                  ...   \n",
       "10336  /home/kalfasyan/data/images/sticky_plates/crea...   \n",
       "10337  /home/kalfasyan/data/images/sticky_plates/crea...   \n",
       "10338  /home/kalfasyan/data/images/sticky_plates/crea...   \n",
       "10339  /home/kalfasyan/data/images/sticky_plates/crea...   \n",
       "10340  /home/kalfasyan/data/images/sticky_plates/crea...   \n",
       "\n",
       "                                                   pname y_text  y  \n",
       "2505   Herent_w27_3-90_F10_51 mm_ISO160_1-15 s_Incand...     bl  0  \n",
       "2506   Herent_w27_1-60_F10_51 mm_ISO160_1-15 s_Incand...     bl  0  \n",
       "2507   Herent_w28_3-30_F10_51 mm_ISO160_1-15 s_Incand...     bl  0  \n",
       "2508   Herent_w26_2-30_F10_51 mm_ISO160_1-15 s_Incand...     bl  0  \n",
       "2509   Herent_w30_4-30_F10_51 mm_ISO160_1-15 s_Incand...     bl  0  \n",
       "...                                                  ...    ... ..  \n",
       "10336  Herent_w27_2-30_F10_51 mm_ISO160_1-15 s_Incand...      m  2  \n",
       "10337  Herent_w27_3-60_F10_51 mm_ISO160_1-15 s_Incand...      m  2  \n",
       "10338  Herent_w29_2-90_F10_51 mm_ISO160_1-15 s_Incand...      m  2  \n",
       "10339  Herent_w28_2-90_F10_51 mm_ISO160_1-15 s_Incand...      m  2  \n",
       "10340  Herent_w27_3-30_F10_51 mm_ISO160_1-15 s_Incand...      m  2  \n",
       "\n",
       "[7680 rows x 4 columns]"
      ]
     },
     "execution_count": 171,
     "metadata": {},
     "output_type": "execute_result"
    }
   ],
   "source": [
    "df_test"
   ]
  },
  {
   "cell_type": "code",
   "execution_count": 172,
   "metadata": {},
   "outputs": [],
   "source": [
    "X_test, y_test = df_test.x, df_test.y"
   ]
  },
  {
   "cell_type": "code",
   "execution_count": 173,
   "metadata": {},
   "outputs": [
    {
     "data": {
      "text/plain": [
       "3    2904\n",
       "1    1768\n",
       "0    1390\n",
       "2    1245\n",
       "5     226\n",
       "4     147\n",
       "Name: y, dtype: int64"
      ]
     },
     "execution_count": 173,
     "metadata": {},
     "output_type": "execute_result"
    }
   ],
   "source": [
    "df_test.y.value_counts()"
   ]
  },
  {
   "cell_type": "code",
   "execution_count": 174,
   "metadata": {},
   "outputs": [
    {
     "name": "stdout",
     "output_type": "stream",
     "text": [
      "240/240 [==============================] - 9s 39ms/step\n"
     ]
    }
   ],
   "source": [
    "pred = model.predict(valid_generator(X_test.tolist(), y_test.tolist(), batch_size=batch_size, nb_classes=nb_classes, img_dim=img_dim), \n",
    "                         steps= len(X_test) / batch_size, \n",
    "                         verbose=1)\n",
    "y_pred = np.argmax(pred, axis=1)"
   ]
  },
  {
   "cell_type": "code",
   "execution_count": 175,
   "metadata": {},
   "outputs": [
    {
     "name": "stdout",
     "output_type": "stream",
     "text": [
      "{0: 'bl', 1: 'c', 2: 'm', 3: 'v', 4: 'v(cy)', 5: 'wmv'}\n"
     ]
    }
   ],
   "source": [
    "def get_labelencoder_mapping(le):\n",
    "    '''\n",
    "    Return a dict mapping labels to their integer values\n",
    "    from an SKlearn LabelEncoder\n",
    "    le = a fitted SKlearn LabelEncoder\n",
    "    '''\n",
    "    res = {}\n",
    "    for cl in le.classes_:\n",
    "        res.update({cl:le.transform([cl])[0]})\n",
    "\n",
    "    return res\n",
    "\n",
    "get_labelencoder_mapping(le)\n",
    "name_map = dict(zip(le.transform(le.classes_), le.classes_))\n",
    "inv_name_map = {v: k for k, v in name_map.items()}\n",
    "\n",
    "print(name_map)"
   ]
  },
  {
   "cell_type": "code",
   "execution_count": 176,
   "metadata": {},
   "outputs": [
    {
     "name": "stdout",
     "output_type": "stream",
     "text": [
      "0.5751379372436595\n"
     ]
    },
    {
     "data": {
      "image/png": "[encoded data removed]",
      "text/plain": [
       "<Figure size 1728x1008 with 2 Axes>"
      ]
     },
     "metadata": {},
     "output_type": "display_data"
    }
   ],
   "source": [
    "from sklearn.metrics import accuracy_score, balanced_accuracy_score, confusion_matrix\n",
    "import seaborn as sns\n",
    "print(balanced_accuracy_score(y_test, y_pred))\n",
    "\n",
    "\n",
    "plt.figure(figsize=(24,14))\n",
    "cm = confusion_matrix(le.fit_transform(y_test), y_pred)\n",
    "# cm = cm / cm.astype(np.float).sum(axis=0)\n",
    "sns.heatmap(cm, annot=True, xticklabels=list(name_map.values()), yticklabels=list(name_map.values()), fmt='g')\n",
    "sns.set(font_scale=1.1)"
   ]
  },
  {
   "cell_type": "code",
   "execution_count": 177,
   "metadata": {},
   "outputs": [
    {
     "data": {
      "text/plain": [
       "(226, 5)"
      ]
     },
     "execution_count": 177,
     "metadata": {},
     "output_type": "execute_result"
    }
   ],
   "source": [
    "df_test['pred'] = y_pred\n",
    "df_wmv = df_test[df_test.y_text=='wmv']\n",
    "df_wmv.shape"
   ]
  },
  {
   "cell_type": "code",
   "execution_count": 178,
   "metadata": {},
   "outputs": [],
   "source": [
    "actual, predicted = [], []\n",
    "for i, sub in df_wmv.groupby('pname'):\n",
    "    actual.append(sub.shape[0])\n",
    "    predicted.append(len(sub[sub.pred==inv_name_map['wmv']]))\n"
   ]
  },
  {
   "cell_type": "code",
   "execution_count": 179,
   "metadata": {},
   "outputs": [],
   "source": [
    "data = pd.DataFrame({\"actual\": actual,\"predicted\": predicted})"
   ]
  },
  {
   "cell_type": "code",
   "execution_count": 180,
   "metadata": {},
   "outputs": [],
   "source": [
    "from scipy import stats\n",
    "def r2(x, y):\n",
    "    return stats.pearsonr(x, y)[0] ** 2"
   ]
  },
  {
   "cell_type": "markdown",
   "metadata": {},
   "source": [
    "## 6 classes"
   ]
  },
  {
   "cell_type": "code",
   "execution_count": 181,
   "metadata": {},
   "outputs": [
    {
     "name": "stderr",
     "output_type": "stream",
     "text": [
      "/home/kalfasyan/anaconda3/envs/objdetect/lib/python3.7/site-packages/seaborn/axisgrid.py:1840: UserWarning: JointGrid annotation is deprecated and will be removed in a future release.\n",
      "  warnings.warn(UserWarning(msg))\n"
     ]
    },
    {
     "data": {
      "text/plain": [
       "(0.0, 25.0)"
      ]
     },
     "execution_count": 181,
     "metadata": {},
     "output_type": "execute_result"
    },
    {
     "data": {
      "image/png": "[encoded data removed]",
      "text/plain": [
       "<Figure size 432x432 with 3 Axes>"
      ]
     },
     "metadata": {},
     "output_type": "display_data"
    }
   ],
   "source": [
    "sns.jointplot(actual,predicted, kind=\"reg\", stat_func=r2); plt.ylim(0,25); plt.xlim(0,25)"
   ]
  },
  {
   "cell_type": "markdown",
   "metadata": {},
   "source": [
    "## 9 classes"
   ]
  },
  {
   "cell_type": "code",
   "execution_count": 165,
   "metadata": {},
   "outputs": [
    {
     "name": "stderr",
     "output_type": "stream",
     "text": [
      "/home/kalfasyan/anaconda3/envs/objdetect/lib/python3.7/site-packages/seaborn/axisgrid.py:1840: UserWarning: JointGrid annotation is deprecated and will be removed in a future release.\n",
      "  warnings.warn(UserWarning(msg))\n"
     ]
    },
    {
     "data": {
      "text/plain": [
       "(0.0, 25.0)"
      ]
     },
     "execution_count": 165,
     "metadata": {},
     "output_type": "execute_result"
    },
    {
     "data": {
      "image/png": "[encoded data removed]",
      "text/plain": [
       "<Figure size 432x432 with 3 Axes>"
      ]
     },
     "metadata": {},
     "output_type": "display_data"
    }
   ],
   "source": [
    "sns.jointplot(actual,predicted, kind=\"reg\", stat_func=r2); plt.ylim(0,25); plt.xlim(0,25)"
   ]
  },
  {
   "cell_type": "code",
   "execution_count": null,
   "metadata": {},
   "outputs": [],
   "source": []
  }
 ],
 "metadata": {
  "kernelspec": {
   "display_name": "Python 3.7.8 64-bit ('objdetect': conda)",
   "language": "python",
   "name": "python37864bitobjdetectconda8045af5fdfef4ca9b47f908473881f2a"
  },
  "language_info": {
   "codemirror_mode": {
    "name": "ipython",
    "version": 3
   },
   "file_extension": ".py",
   "mimetype": "text/x-python",
   "name": "python",
   "nbconvert_exporter": "python",
   "pygments_lexer": "ipython3",
   "version": "3.7.8"
  }
 },
 "nbformat": 4,
 "nbformat_minor": 4
}
