{
 "cells": [
  {
   "cell_type": "code",
   "execution_count": 1,
   "metadata": {},
   "outputs": [],
   "source": [
    "import numpy as np\n",
    "seed = 42\n",
    "np.random.seed(seed)\n",
    "import pandas as pd\n",
    "import os, shutil, glob, cv2, sys, argparse\n",
    "from natsort import natsorted\n",
    "from insectrec.utils import clean_folder, get_plate_names, export_labels, SAVE_DIR, read_plate\n",
    "from tqdm import tqdm"
   ]
  },
  {
   "cell_type": "code",
   "execution_count": 2,
   "metadata": {},
   "outputs": [],
   "source": [
    "datadir = '/home/kalfasyan/data/images/sticky_plates/'\n",
    "years = ['2020']"
   ]
  },
  {
   "cell_type": "code",
   "execution_count": 4,
   "metadata": {
    "tags": []
   },
   "outputs": [
    {
     "name": "stdout",
     "output_type": "stream",
     "text": [
      "Cleaning directories..\n"
     ]
    }
   ],
   "source": [
    "created_data_path = f'{datadir}/created_data'\n",
    "\n",
    "# CREATING NECESSARY DIRECTORIES FOR THE PROJECT\n",
    "path_annotations = f'{created_data_path}/annotations/'\n",
    "path_images = f'{created_data_path}/images/'\n",
    "path_voc_annotations = f'{created_data_path}/voc_annotations/'\n",
    "path_crops_export = f'{created_data_path}/crops_export/'\n",
    "path_images_augmented = f'{created_data_path}/images_augmented/'\n",
    "path_weights = f'{created_data_path}/weights/'\n",
    "path_logs = f'{created_data_path}/logs/'\n",
    "for path in [created_data_path, path_annotations, path_images, path_voc_annotations, \n",
    "\t\t\tpath_crops_export, path_weights, path_logs, path_images_augmented]:\n",
    "\tif not os.path.isdir(path):\n",
    "\t\tos.mkdir(path)\t\n",
    "\n",
    "include_herent = True\n",
    "yolo_to_voc = True # In the end of the script, yolo annotations get converted to voc\n",
    "extract_boxes = True # Only works if above is true. Bounding boxes extracted and saved as images\n",
    "clean = True # Deleting previous data created here (i.e. except of logs and weights)\n",
    "save_extractions = False # Whether to save the extracted insect crops \n",
    "\n",
    "if clean:\n",
    "\tprint(f'Cleaning directories..')\n",
    "\tclean_folder(path_annotations)\n",
    "\tclean_folder(path_images)\n",
    "\tclean_folder(path_voc_annotations)\n",
    "\tos.system(f'rm -rf {path_crops_export}*')\n",
    "\tos.system(f'rm -rf {path_images_augmented}*')\n",
    "\tos.system(f'rm {created_data_path}/df_*')\n",
    "\tos.system(f'rm {created_data_path}/class_mapping.csv')\n"
   ]
  },
  {
   "cell_type": "code",
   "execution_count": 5,
   "metadata": {
    "tags": []
   },
   "outputs": [
    {
     "name": "stdout",
     "output_type": "stream",
     "text": [
      "Number of plates: 212 for year: 2020\n"
     ]
    }
   ],
   "source": [
    "# Get name data from the sticky plates (their names)\n",
    "BASE_DATA_DIR = f\"{datadir}\"\n",
    "assert all([y in ['2019','2020'] for y in years]), 'Wrong year given or in wrong format.'\n",
    "plates = []\n",
    "for y in years:\n",
    "\ty_plates = get_plate_names(y, base_dir=BASE_DATA_DIR)\n",
    "\tplates += y_plates\n",
    "\tprint(f\"Number of plates: {len(y_plates)} for year: {y}\")"
   ]
  },
  {
   "cell_type": "code",
   "execution_count": 6,
   "metadata": {
    "tags": []
   },
   "outputs": [
    {
     "name": "stdout",
     "output_type": "stream",
     "text": [
      "Number of ALL plates: 212\n"
     ]
    }
   ],
   "source": [
    "print(f\"Number of ALL plates: {len(plates)}\")"
   ]
  },
  {
   "cell_type": "code",
   "execution_count": 7,
   "metadata": {},
   "outputs": [],
   "source": [
    "# export_labels(created_data_dir=created_data_path, years=years)\n",
    "# class_map = pd.read_csv(f'{created_data_path}/class_mapping.csv')\n",
    "# assert len(class_map), \"Couldn't read class mapping\"\n",
    "# sub = class_map[['class', 'class_encoded']].drop_duplicates()\n",
    "# nan_code = sub[sub['class'].isnull()]['class_encoded'].iloc[0]"
   ]
  },
  {
   "cell_type": "code",
   "execution_count": 8,
   "metadata": {},
   "outputs": [],
   "source": [
    "# # Create a dataframe to save some statistics about the plates\n",
    "# # such as the number of nans and number of unique insects per plate\n",
    "# short_platenames = pd.Series(plates).apply(lambda x: x.split(\"/\")[-1][:-4])\n",
    "# df_stats = pd.DataFrame(columns=['nr_nans','unique_insects','annotated'], index=short_platenames)\n",
    "# all_specs = []\n",
    "\n",
    "# annotated_plates, incomplete_plates = [], []\n",
    "\n",
    "# # Plates to ignore, since they were found to contain bad data (blurred/misclassified etc.)\n",
    "# bad_plates = []\n",
    "# # \"['brainlal_w27_A_58_160_1-15 s_11_48 mm_Manual_Manual_6240 x 4160', \n",
    "# # \t\t\t'brainelal_8719_B_81_160_1-15 s_11_48 mm_Manual_Manual_6240 x 4160',\n",
    "# # \t\t\t'kampen_w25_C_72_160_1-15 s_11_48 mm_Manual_Manual_6240 x 4160',\n",
    "# # \t\t\t'kampen_w25_B_71_160_1-15 s_11_48 mm_Manual_Manual_6240 x 4160']\""
   ]
  },
  {
   "cell_type": "code",
   "execution_count": 9,
   "metadata": {},
   "outputs": [
    {
     "name": "stderr",
     "output_type": "stream",
     "text": [
      "1it [00:00,  4.81it/s]"
     ]
    },
    {
     "name": "stdout",
     "output_type": "stream",
     "text": [
      "\n",
      "Found annotated data for plate: True ----> Copying plate\n",
      "Platename: beauv_15_7_B_53_160_1-15 s_11_48 mm_Manual_Manual_6240 x 4160.png\n"
     ]
    },
    {
     "name": "stderr",
     "output_type": "stream",
     "text": [
      "1it [00:01,  1.05s/it]\n"
     ]
    }
   ],
   "source": [
    "labview_cols = ['Center of Mass X.1', 'Center of Mass Y.1', 'Bounding Rect Left.1',\n",
    "       'Bounding Rect Top.1', 'Bounding Rect Right.1',\n",
    "       'Bounding Rect Bottom.1', 'Equivalent Ellipse Major Axis.1',\n",
    "       'Equivalent Ellipse Minor Axis.1', 'Area.1', 'Convex Hull Area.1',\n",
    "       'Orientation.1', 'Ratio of Equivalent Ellipse Axes.1',\n",
    "       'Ratio of Equivalent Rect Sides.1', 'Elongation Factor.1',\n",
    "       'Compactness Factor.1', 'Heywood Circularity Factor.1', 'Type Factor.1',\n",
    "       'R', 'G', 'B']\n",
    "\n",
    "# Loop through all plates and nested loop through all insects in the plates\n",
    "for p, platename in tqdm(enumerate(plates)):\n",
    "    # Skip very early plates from herent that were imaged with old Canon \n",
    "    if not include_herent:\n",
    "        if platename.split('/')[-1].startswith('her'):\n",
    "            print(\"SKIPPING HERENT PLATE\")\n",
    "            continue\n",
    "    if platename.split('/')[-1][:-4] in bad_plates:\n",
    "        print(\"SKIPPING BAD PLATE\")\n",
    "        continue\n",
    "\n",
    "    # Defining the platename\n",
    "    pname = platename.split('/')[-1][:-4] \n",
    "    if 'empty' in pname:\n",
    "        continue\n",
    "\n",
    "    # Reading the plate image (converting BGR -> RGB)\n",
    "    plate_img = read_plate(platename) \n",
    "    H,W,_ = plate_img.shape\n",
    "\n",
    "    # Reading the specifications of the plate\n",
    "    spec = pd.read_csv(plates[p][:-4] + '.txt', sep=\"\\t\") \n",
    "    # Fetching column names (only needed once)\n",
    "    if p == 0: \n",
    "        columns = [ii for ii in spec.columns if ii.endswith('.1')]\n",
    "        colextensions = ['index', 'name plate', 'R','G','B']\n",
    "        columns.extend(colextensions) # adding extra columns\n",
    "    spec = spec[columns]\n",
    "    spec.rename(columns={'index': 'insect_idx'}, inplace=True)\n",
    "    spec.dropna(axis=0, how='any', inplace=True)\n",
    "\n",
    "    # ADDING YOLO AND HUMAN-READABLE ANNOTATION TO COLUMNS\n",
    "    cmap = class_map[class_map['platename'] == pname].drop_duplicates(subset='idx', keep='first')\n",
    "    sub_map = cmap[['idx','class_encoded']].set_index('idx')\n",
    "    sub_map2 = cmap[['idx','class']].set_index('idx')\n",
    "    spec['yolo_class'] = sub_map\n",
    "    spec['normal_class'] = sub_map2\n",
    "\n",
    "    # REMOVING UNWANTED CLASSES \n",
    "    spec = spec[spec.normal_class != 'st'] # removing \"stuk\" class\n",
    "    spec = spec[spec.normal_class != 'vuil'] # removing \"vuil\" class\n",
    "    spec = spec[spec.normal_class.apply(lambda x: '+' not in str(x))]\n",
    "    # SELECTING WANTED CLASSES\n",
    "    wanted_classes = ['m','v','bl','c','wmv','v(cy)','bv','sw','t']\n",
    "    # ['m','v','bl','c','wmv','v(cy)']\n",
    "    # ['m','v','c','wmv','v(cy)','t']\n",
    "    # ['m','v','bl','c','wmv','v(cy)','bv','gaasvlieg','grv','k','kever','nl','psylloidea','sp','sst','sw','t','vlieg','weg','wnv','wswl']\n",
    "    spec = spec[spec.normal_class.isin(wanted_classes)]\n",
    "\n",
    "    # Replacing commas from labview columns with dots\n",
    "    for col in labview_cols:\n",
    "        spec[col] = spec[col].str.replace(\",\",\".\").astype(float)\n",
    "\n",
    "    spec_nr_classes = spec['yolo_class'].unique().shape[0]\n",
    "    condition1 = (spec_nr_classes >= 0)\n",
    "    condition2 = True # (spec['yolo_class'].unique()[0] not in [nan_code, np.nan])\n",
    "    condition3 = (spec['yolo_class'].isnull().sum() != spec['yolo_class'].shape[0])\n",
    "\n",
    "    df_stats.loc[pname] = pd.Series({'nr_nans': spec[spec['yolo_class'] == nan_code].shape[0], \n",
    "                                        'unique_insects': spec['yolo_class'][spec['yolo_class'] != nan_code].unique().shape[0],\n",
    "                                        'annotated': False})\n",
    "\n",
    "    # finding the annotated plates - i.e the ones that don't have all nans in 'class'\n",
    "    if condition1 and condition2 and condition3:\n",
    "        print(f'\\nFound annotated data for plate: {condition1 and condition2} ----> Copying plate')\n",
    "        annotated_plates.append(platename)\n",
    "        print(f\"Platename: {platename.split('/')[-1]}\")\n",
    "        spec['pname'] = pname\n",
    "        # Making extracted boxes squares (to avoid distortions in future resizing)\n",
    "        spec['width'] = 150\n",
    "        spec['height'] = 150\n",
    "\n",
    "        # Creating specifications according to 'YOLO' format\n",
    "        spec['yolo_class'].fillna(0, inplace=True)\n",
    "        spec['yolo_class'] = spec['yolo_class'].astype(int)\n",
    "        spec['yolo_x'] = np.abs(spec['Bounding Rect Right.1'] - np.abs(spec['Bounding Rect Left.1'] - spec['Bounding Rect Right.1']) /2) / W\n",
    "        spec['yolo_y'] = np.abs(spec['Bounding Rect Bottom.1'] - np.abs(spec['Bounding Rect Top.1'] - spec['Bounding Rect Bottom.1']) /2) / H\n",
    "        spec['yolo_width'] = pd.concat([spec['width'], spec['height']], axis=1).max(axis=1) / W \n",
    "        spec['yolo_height'] = pd.concat([spec['width'], spec['height']], axis=1).max(axis=1) / H\n",
    "\n",
    "        ann_full_new = os.path.join( path_annotations , f\"{pname}.txt\" )\n",
    "        img_full_new = os.path.join( path_images , pname ) + '.jpg'\n",
    "\n",
    "        # SAVING IMAGES\n",
    "        if not os.path.isfile( img_full_new ):\n",
    "            cv2.imwrite(img_full_new, plate_img)\n",
    "        # SAVING ANNOTATIONS\n",
    "        if not len(spec) and not os.path.isfile( ann_full_new ):\n",
    "            print('Empty file', ann_full_new)\n",
    "            break\n",
    "        else:#if not os.path.isfile( ann_full_new ):\n",
    "            spec[['yolo_class','yolo_x','yolo_y','yolo_width','yolo_height']].to_csv(ann_full_new, sep=' ', index=False, header=False)\n",
    "\n",
    "        df_stats.loc[pname] = pd.Series({'nr_nans': spec[spec['yolo_class'] == nan_code].shape[0], \n",
    "                                            'unique_insects': spec['yolo_class'][spec['yolo_class'] != nan_code].unique().shape[0],\n",
    "                                            'annotated': True})\n",
    "\n",
    "        all_specs.append(spec)\n",
    "\n",
    "    else:\n",
    "        incomplete_plates.append(platename)\n",
    "    if p > 0 : \n",
    "        break  \n",
    "\n",
    "# df_specs = pd.concat(all_specs, axis=0)"
   ]
  },
  {
   "cell_type": "code",
   "execution_count": 10,
   "metadata": {},
   "outputs": [
    {
     "data": {
      "text/plain": [
       "'v(cy)'"
      ]
     },
     "execution_count": 10,
     "metadata": {},
     "output_type": "execute_result"
    }
   ],
   "source": [
    "row = spec.iloc[13]\n",
    "row.normal_class"
   ]
  },
  {
   "cell_type": "code",
   "execution_count": 16,
   "metadata": {},
   "outputs": [
    {
     "name": "stdout",
     "output_type": "stream",
     "text": [
      "left: 1653, right: 1803, top: 906, bot: 1056\n"
     ]
    },
    {
     "ename": "FileExistsError",
     "evalue": "[Errno 17] File exists: '/home/kalfasyan/data/images/sticky_plates//created_data/impy_crops_export//v(cy)/'",
     "output_type": "error",
     "traceback": [
      "\u001b[0;31m---------------------------------------------------------------------------\u001b[0m",
      "\u001b[0;31mFileExistsError\u001b[0m                           Traceback (most recent call last)",
      "\u001b[0;32m<ipython-input-16-cdca78a4032b>\u001b[0m in \u001b[0;36m<module>\u001b[0;34m\u001b[0m\n\u001b[1;32m     14\u001b[0m \u001b[0mcrop_plate\u001b[0m \u001b[0;34m=\u001b[0m \u001b[0mpname\u001b[0m\u001b[0;34m.\u001b[0m\u001b[0msplit\u001b[0m\u001b[0;34m(\u001b[0m\u001b[0;34m' '\u001b[0m\u001b[0;34m)\u001b[0m\u001b[0;34m[\u001b[0m\u001b[0;36m0\u001b[0m\u001b[0;34m]\u001b[0m\u001b[0;34m\u001b[0m\u001b[0;34m\u001b[0m\u001b[0m\n\u001b[1;32m     15\u001b[0m \u001b[0msavepath\u001b[0m \u001b[0;34m=\u001b[0m \u001b[0;34mf\"{path_impy_crops_export}/{row.normal_class}/\"\u001b[0m\u001b[0;34m\u001b[0m\u001b[0;34m\u001b[0m\u001b[0m\n\u001b[0;32m---> 16\u001b[0;31m \u001b[0mos\u001b[0m\u001b[0;34m.\u001b[0m\u001b[0mmakedirs\u001b[0m\u001b[0;34m(\u001b[0m\u001b[0msavepath\u001b[0m\u001b[0;34m)\u001b[0m\u001b[0;34m\u001b[0m\u001b[0;34m\u001b[0m\u001b[0m\n\u001b[0m\u001b[1;32m     17\u001b[0m \u001b[0mcv2\u001b[0m\u001b[0;34m.\u001b[0m\u001b[0mimwrite\u001b[0m\u001b[0;34m(\u001b[0m\u001b[0;34mf\"{savepath}/{row.pname}_{row.yolo_class}_{row.normal_class}_{row.insect_idx}.jpg\"\u001b[0m\u001b[0;34m,\u001b[0m \u001b[0mcrop\u001b[0m\u001b[0;34m)\u001b[0m\u001b[0;34m\u001b[0m\u001b[0;34m\u001b[0m\u001b[0m\n",
      "\u001b[0;32m~/anaconda3/envs/objdetect/lib/python3.7/os.py\u001b[0m in \u001b[0;36mmakedirs\u001b[0;34m(name, mode, exist_ok)\u001b[0m\n\u001b[1;32m    221\u001b[0m             \u001b[0;32mreturn\u001b[0m\u001b[0;34m\u001b[0m\u001b[0;34m\u001b[0m\u001b[0m\n\u001b[1;32m    222\u001b[0m     \u001b[0;32mtry\u001b[0m\u001b[0;34m:\u001b[0m\u001b[0;34m\u001b[0m\u001b[0;34m\u001b[0m\u001b[0m\n\u001b[0;32m--> 223\u001b[0;31m         \u001b[0mmkdir\u001b[0m\u001b[0;34m(\u001b[0m\u001b[0mname\u001b[0m\u001b[0;34m,\u001b[0m \u001b[0mmode\u001b[0m\u001b[0;34m)\u001b[0m\u001b[0;34m\u001b[0m\u001b[0;34m\u001b[0m\u001b[0m\n\u001b[0m\u001b[1;32m    224\u001b[0m     \u001b[0;32mexcept\u001b[0m \u001b[0mOSError\u001b[0m\u001b[0;34m:\u001b[0m\u001b[0;34m\u001b[0m\u001b[0;34m\u001b[0m\u001b[0m\n\u001b[1;32m    225\u001b[0m         \u001b[0;31m# Cannot rely on checking for EEXIST, since the operating system\u001b[0m\u001b[0;34m\u001b[0m\u001b[0;34m\u001b[0m\u001b[0;34m\u001b[0m\u001b[0m\n",
      "\u001b[0;31mFileExistsError\u001b[0m: [Errno 17] File exists: '/home/kalfasyan/data/images/sticky_plates//created_data/impy_crops_export//v(cy)/'"
     ]
    }
   ],
   "source": [
    "left  = int((row.yolo_x-row.yolo_width/2.)*W)\n",
    "right = int((row.yolo_x+row.yolo_width/2.)*W)\n",
    "top   = int((row.yolo_y-row.yolo_height/2.)*H)\n",
    "bot   = int((row.yolo_y+row.yolo_height/2.)*H)\n",
    "\n",
    "if left < 0: left = 0;\n",
    "if(right > W-1): right = W-1;\n",
    "if(top < 0): top = 0;\n",
    "if(bot > H-1): bot = H-1;\n",
    "\n",
    "print(f\"left: {left}, right: {right}, top: {top}, bot: {bot}\")\n",
    "\n",
    "crop = plate_img[top:bot, left:right]\n",
    "crop_plate = pname.split(' ')[0]\n",
    "savepath = f\"{path_impy_crops_export}/{row.normal_class}/\"\n",
    "os.makedirs(savepath)\n",
    "cv2.imwrite(f\"{savepath}/{row.pname}_{row.yolo_class}_{row.normal_class}_{row.insect_idx}.jpg\", crop)"
   ]
  },
  {
   "cell_type": "code",
   "execution_count": 14,
   "metadata": {},
   "outputs": [
    {
     "data": {
      "text/plain": [
       "'/home/kalfasyan/data/images/sticky_plates//created_data/impy_crops_export//v(cy)/'"
      ]
     },
     "execution_count": 14,
     "metadata": {},
     "output_type": "execute_result"
    }
   ],
   "source": [
    "f'{path_impy_crops_export}/{row.normal_class}/'"
   ]
  },
  {
   "cell_type": "code",
   "execution_count": 13,
   "metadata": {},
   "outputs": [],
   "source": [
    "# left = int(row['Bounding Rect Left.1'])\n",
    "# right = int(row['Bounding Rect Right.1'])\n",
    "# top = int(row['Bounding Rect Top.1'])\n",
    "# bot = int(row['Bounding Rect Bottom.1'])\n",
    "\n",
    "# print(f\"left: {left}, right: {right}, top: {top}, bot: {bot}\")"
   ]
  },
  {
   "cell_type": "code",
   "execution_count": 15,
   "metadata": {},
   "outputs": [
    {
     "data": {
      "text/plain": [
       "<matplotlib.image.AxesImage at 0x7f5af80f77d0>"
      ]
     },
     "execution_count": 15,
     "metadata": {},
     "output_type": "execute_result"
    },
    {
     "data": {
      "image/png": "[encoded data removed]",
      "text/plain": [
       "<Figure size 432x288 with 1 Axes>"
      ]
     },
     "metadata": {
      "needs_background": "light"
     },
     "output_type": "display_data"
    }
   ],
   "source": [
    "import matplotlib.pyplot as plt\n",
    "\n",
    "plt.imshow(crop)"
   ]
  },
  {
   "cell_type": "code",
   "execution_count": null,
   "metadata": {},
   "outputs": [],
   "source": []
  }
 ],
 "metadata": {
  "kernelspec": {
   "display_name": "Python 3.7.8 64-bit ('objdetect': conda)",
   "language": "python",
   "name": "python37864bitobjdetectconda8045af5fdfef4ca9b47f908473881f2a"
  },
  "language_info": {
   "codemirror_mode": {
    "name": "ipython",
    "version": 3
   },
   "file_extension": ".py",
   "mimetype": "text/x-python",
   "name": "python",
   "nbconvert_exporter": "python",
   "pygments_lexer": "ipython3",
   "version": "3.7.8"
  }
 },
 "nbformat": 4,
 "nbformat_minor": 4
}
