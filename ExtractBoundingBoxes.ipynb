{
 "cells": [
  {
   "cell_type": "code",
   "execution_count": 6,
   "metadata": {},
   "outputs": [],
   "source": [
    "%reset -f\n",
    "import sys\n",
    "sys.path.insert(0,'impy/')\n",
    "import pandas as pd\n",
    "from impy.ObjectDetectionDataset import ObjectDetectionDataset\n",
    "import os\n",
    "import tqdm\n",
    "import json\n",
    "import math\n",
    "import numpy as np\n",
    "# from interface import implements\n",
    "from tqdm import tqdm"
   ]
  },
  {
   "cell_type": "code",
   "execution_count": 7,
   "metadata": {},
   "outputs": [],
   "source": [
    "sticky = ObjectDetectionDataset(imagesDirectory='./insectrec/created_data/images/', annotationsDirectory='./insectrec/created_data/converted_labels/')\n",
    "# sticky.computeBoundingBoxStats()"
   ]
  },
  {
   "cell_type": "code",
   "execution_count": 9,
   "metadata": {
    "scrolled": true
   },
   "outputs": [
    {
     "name": "stderr",
     "output_type": "stream",
     "text": [
      "\n",
      "  0%|          | 0/153 [00:00<?, ?it/s]\u001b[A"
     ]
    },
    {
     "name": "stdout",
     "output_type": "stream",
     "text": [
      "kampen_w25_A_70_160_1-15 s_11_48 mm_Manual_Manual_6240 x 4160\n",
      "img:./insectrec/created_data/images/kampen_w25_A_70_160_1-15 s_11_48 mm_Manual_Manual_6240 x 4160.jpg\n"
     ]
    },
    {
     "name": "stderr",
     "output_type": "stream",
     "text": [
      "\n",
      "  1%|          | 1/153 [00:00<00:48,  3.16it/s]\u001b[A"
     ]
    },
    {
     "name": "stdout",
     "output_type": "stream",
     "text": [
      "kampen_w28_C_66_160_1-15 s_11_48 mm_Manual_Manual_6240 x 4160\n",
      "img:./insectrec/created_data/images/kampen_w28_C_66_160_1-15 s_11_48 mm_Manual_Manual_6240 x 4160.jpg\n"
     ]
    },
    {
     "name": "stderr",
     "output_type": "stream",
     "text": [
      "\n",
      "  1%|▏         | 2/153 [00:00<00:45,  3.32it/s]\u001b[A"
     ]
    },
    {
     "name": "stdout",
     "output_type": "stream",
     "text": [
      "her_2856719_03_02_160_1-15 s_11_48 mm_Manual_Manual_6240 x 4160\n",
      "img:./insectrec/created_data/images/her_2856719_03_02_160_1-15 s_11_48 mm_Manual_Manual_6240 x 4160.jpg\n"
     ]
    },
    {
     "name": "stderr",
     "output_type": "stream",
     "text": [
      "\n",
      "  2%|▏         | 3/153 [00:00<00:44,  3.40it/s]\u001b[A"
     ]
    },
    {
     "name": "stdout",
     "output_type": "stream",
     "text": [
      "her_24310519_0003\n",
      "img:./insectrec/created_data/images/her_24310519_0003.jpg\n"
     ]
    },
    {
     "name": "stderr",
     "output_type": "stream",
     "text": [
      "\n",
      "  3%|▎         | 4/153 [00:01<00:40,  3.70it/s]\u001b[A"
     ]
    },
    {
     "name": "stdout",
     "output_type": "stream",
     "text": [
      "kampen_w27_AAA_69_160_1-15 s_11_48 mm_Manual_Manual_6240 x 4160\n",
      "img:./insectrec/created_data/images/kampen_w27_AAA_69_160_1-15 s_11_48 mm_Manual_Manual_6240 x 4160.jpg\n"
     ]
    },
    {
     "name": "stderr",
     "output_type": "stream",
     "text": [
      "\n",
      "  3%|▎         | 5/153 [00:01<00:41,  3.58it/s]\u001b[A"
     ]
    },
    {
     "name": "stdout",
     "output_type": "stream",
     "text": [
      "kampen_w32_AAA_16_F10_51 mm_ISO160_1-15 s_3daysold\n",
      "img:./insectrec/created_data/images/kampen_w32_AAA_16_F10_51 mm_ISO160_1-15 s_3daysold.jpg\n"
     ]
    },
    {
     "name": "stderr",
     "output_type": "stream",
     "text": [
      "\n",
      "  4%|▍         | 6/153 [00:01<00:42,  3.49it/s]\u001b[A"
     ]
    },
    {
     "name": "stdout",
     "output_type": "stream",
     "text": [
      "kampen_w28_A_64_160_1-15 s_11_48 mm_Manual_Manual_6240 x 4160\n",
      "img:./insectrec/created_data/images/kampen_w28_A_64_160_1-15 s_11_48 mm_Manual_Manual_6240 x 4160.jpg\n"
     ]
    },
    {
     "name": "stderr",
     "output_type": "stream",
     "text": [
      "\n",
      "  5%|▍         | 7/153 [00:01<00:41,  3.49it/s]\u001b[A"
     ]
    },
    {
     "name": "stdout",
     "output_type": "stream",
     "text": [
      "kampen_w32_AA_17_F10_51 mm_ISO160_1-15 s_3daysold\n",
      "img:./insectrec/created_data/images/kampen_w32_AA_17_F10_51 mm_ISO160_1-15 s_3daysold.jpg\n"
     ]
    },
    {
     "name": "stderr",
     "output_type": "stream",
     "text": [
      "\n",
      "  5%|▌         | 8/153 [00:02<00:42,  3.39it/s]\u001b[A"
     ]
    },
    {
     "name": "stdout",
     "output_type": "stream",
     "text": [
      "her_2128619_09_41_160_1-15 s_11_48 mm_Manual_Manual_6240 x 4160\n",
      "img:./insectrec/created_data/images/her_2128619_09_41_160_1-15 s_11_48 mm_Manual_Manual_6240 x 4160.jpg\n"
     ]
    },
    {
     "name": "stderr",
     "output_type": "stream",
     "text": [
      "\n",
      "  6%|▌         | 9/153 [00:02<00:43,  3.33it/s]\u001b[A"
     ]
    },
    {
     "name": "stdout",
     "output_type": "stream",
     "text": [
      "herent_09160819_09_F10_51 mm_ISO160_1-15 s\n",
      "img:./insectrec/created_data/images/herent_09160819_09_F10_51 mm_ISO160_1-15 s.jpg\n"
     ]
    },
    {
     "name": "stderr",
     "output_type": "stream",
     "text": [
      "\n",
      "  7%|▋         | 10/153 [00:02<00:42,  3.38it/s]\u001b[A"
     ]
    },
    {
     "name": "stdout",
     "output_type": "stream",
     "text": [
      "her_512719_01_17_160_1-15 s_11_48 mm_Manual_Manual_6240 x 4160\n",
      "img:./insectrec/created_data/images/her_512719_01_17_160_1-15 s_11_48 mm_Manual_Manual_6240 x 4160.jpg\n"
     ]
    },
    {
     "name": "stderr",
     "output_type": "stream",
     "text": [
      "\n",
      "  7%|▋         | 11/153 [00:03<00:41,  3.44it/s]\u001b[A"
     ]
    },
    {
     "name": "stdout",
     "output_type": "stream",
     "text": [
      "herent_09160819_16_F10_51 mm_ISO160_1-15 s\n",
      "img:./insectrec/created_data/images/herent_09160819_16_F10_51 mm_ISO160_1-15 s.jpg\n"
     ]
    },
    {
     "name": "stderr",
     "output_type": "stream",
     "text": [
      "\n",
      "  8%|▊         | 12/153 [00:03<00:39,  3.58it/s]\u001b[A"
     ]
    },
    {
     "name": "stdout",
     "output_type": "stream",
     "text": [
      "her_07140619_0003\n",
      "img:./insectrec/created_data/images/her_07140619_0003.jpg\n"
     ]
    },
    {
     "name": "stderr",
     "output_type": "stream",
     "text": [
      "\n",
      "  8%|▊         | 13/153 [00:03<00:36,  3.86it/s]\u001b[A"
     ]
    },
    {
     "name": "stdout",
     "output_type": "stream",
     "text": [
      "her_24310519_0008\n",
      "img:./insectrec/created_data/images/her_24310519_0008.jpg\n"
     ]
    },
    {
     "name": "stderr",
     "output_type": "stream",
     "text": [
      "\n",
      "  9%|▉         | 14/153 [00:03<00:34,  4.06it/s]\u001b[A\n",
      " 10%|▉         | 15/153 [00:04<00:32,  4.30it/s]\u001b[A"
     ]
    },
    {
     "name": "stdout",
     "output_type": "stream",
     "text": [
      "her_24310519_0012\n",
      "img:./insectrec/created_data/images/her_24310519_0012.jpg\n",
      "beauv_w27_A_55_160_1-15 s_11_48 mm_Manual_Manual_6240 x 4160\n",
      "img:./insectrec/created_data/images/beauv_w27_A_55_160_1-15 s_11_48 mm_Manual_Manual_6240 x 4160.jpg\n"
     ]
    },
    {
     "name": "stderr",
     "output_type": "stream",
     "text": [
      "\n",
      " 10%|█         | 16/153 [00:04<00:33,  4.12it/s]\u001b[A"
     ]
    },
    {
     "name": "stdout",
     "output_type": "stream",
     "text": [
      "kampen_w26_B_78_160_1-15 s_11_48 mm_Manual_Manual_6240 x 4160\n",
      "img:./insectrec/created_data/images/kampen_w26_B_78_160_1-15 s_11_48 mm_Manual_Manual_6240 x 4160.jpg\n"
     ]
    },
    {
     "name": "stderr",
     "output_type": "stream",
     "text": [
      "\n",
      " 11%|█         | 17/153 [00:04<00:35,  3.81it/s]\u001b[A\n",
      " 12%|█▏        | 18/153 [00:04<00:32,  4.20it/s]\u001b[A"
     ]
    },
    {
     "name": "stdout",
     "output_type": "stream",
     "text": [
      "her_14210619_0013\n",
      "img:./insectrec/created_data/images/her_14210619_0013.jpg\n",
      "brainelal_w25_A_74_160_1-15 s_11_48 mm_Manual_Manual_6240 x 4160\n",
      "img:./insectrec/created_data/images/brainelal_w25_A_74_160_1-15 s_11_48 mm_Manual_Manual_6240 x 4160.jpg\n"
     ]
    },
    {
     "name": "stderr",
     "output_type": "stream",
     "text": [
      "\n",
      " 12%|█▏        | 19/153 [00:05<00:34,  3.90it/s]\u001b[A"
     ]
    },
    {
     "name": "stdout",
     "output_type": "stream",
     "text": [
      "her_14210619_0005\n",
      "img:./insectrec/created_data/images/her_14210619_0005.jpg\n"
     ]
    },
    {
     "name": "stderr",
     "output_type": "stream",
     "text": [
      "\n",
      " 13%|█▎        | 20/153 [00:05<00:32,  4.15it/s]\u001b[A"
     ]
    },
    {
     "name": "stdout",
     "output_type": "stream",
     "text": [
      "kampen_w32_A_18_F10_51 mm_ISO160_1-15 s_3daysold\n",
      "img:./insectrec/created_data/images/kampen_w32_A_18_F10_51 mm_ISO160_1-15 s_3daysold.jpg\n"
     ]
    },
    {
     "name": "stderr",
     "output_type": "stream",
     "text": [
      "\n",
      " 14%|█▎        | 21/153 [00:05<00:32,  4.02it/s]\u001b[A"
     ]
    },
    {
     "name": "stdout",
     "output_type": "stream",
     "text": [
      "brainelal_w32_C_19_F10_51 mm_ISO160_1-15 s_3daysold\n",
      "img:./insectrec/created_data/images/brainelal_w32_C_19_F10_51 mm_ISO160_1-15 s_3daysold.jpg\n"
     ]
    },
    {
     "name": "stderr",
     "output_type": "stream",
     "text": [
      "\n",
      " 14%|█▍        | 22/153 [00:05<00:33,  3.96it/s]\u001b[A\n",
      " 15%|█▌        | 23/153 [00:06<00:30,  4.23it/s]\u001b[A"
     ]
    },
    {
     "name": "stdout",
     "output_type": "stream",
     "text": [
      "her_14210619_0003\n",
      "img:./insectrec/created_data/images/her_14210619_0003.jpg\n",
      "her_31070619_0013\n",
      "img:./insectrec/created_data/images/her_31070619_0013.jpg\n"
     ]
    },
    {
     "name": "stderr",
     "output_type": "stream",
     "text": [
      "\n",
      " 16%|█▌        | 24/153 [00:06<00:29,  4.40it/s]\u001b[A"
     ]
    },
    {
     "name": "stdout",
     "output_type": "stream",
     "text": [
      "her_2856719_14_14_160_1-15 s_11_48 mm_Manual_Manual_6240 x 4160\n",
      "img:./insectrec/created_data/images/her_2856719_14_14_160_1-15 s_11_48 mm_Manual_Manual_6240 x 4160.jpg\n"
     ]
    },
    {
     "name": "stderr",
     "output_type": "stream",
     "text": [
      "\n",
      " 16%|█▋        | 25/153 [00:06<00:31,  4.11it/s]\u001b[A"
     ]
    },
    {
     "name": "stdout",
     "output_type": "stream",
     "text": [
      "brainlal_15_7_B_62_160_1-15 s_11_48 mm_Manual_Manual_6240 x 4160\n",
      "img:./insectrec/created_data/images/brainlal_15_7_B_62_160_1-15 s_11_48 mm_Manual_Manual_6240 x 4160.jpg\n"
     ]
    },
    {
     "name": "stderr",
     "output_type": "stream",
     "text": [
      "\n",
      " 17%|█▋        | 26/153 [00:06<00:32,  3.93it/s]\u001b[A\n",
      " 18%|█▊        | 27/153 [00:06<00:29,  4.23it/s]\u001b[A"
     ]
    },
    {
     "name": "stdout",
     "output_type": "stream",
     "text": [
      "her_14210619_0008\n",
      "img:./insectrec/created_data/images/her_14210619_0008.jpg\n",
      "her_07140619_0015\n",
      "img:./insectrec/created_data/images/her_07140619_0015.jpg\n"
     ]
    },
    {
     "name": "stderr",
     "output_type": "stream",
     "text": [
      "\n",
      " 18%|█▊        | 28/153 [00:07<00:27,  4.55it/s]\u001b[A"
     ]
    },
    {
     "name": "stdout",
     "output_type": "stream",
     "text": [
      "her_512719_15_31_160_1-15 s_11_48 mm_Manual_Manual_6240 x 4160\n",
      "img:./insectrec/created_data/images/her_512719_15_31_160_1-15 s_11_48 mm_Manual_Manual_6240 x 4160.jpg\n"
     ]
    },
    {
     "name": "stderr",
     "output_type": "stream",
     "text": [
      "\n",
      " 19%|█▉        | 29/153 [00:07<00:28,  4.28it/s]\u001b[A\n",
      " 20%|█▉        | 30/153 [00:07<00:27,  4.49it/s]\u001b[A"
     ]
    },
    {
     "name": "stdout",
     "output_type": "stream",
     "text": [
      "her_07140619_0008\n",
      "img:./insectrec/created_data/images/her_07140619_0008.jpg\n",
      "her_2128619_05_37_160_1-15 s_11_48 mm_Manual_Manual_6240 x 4160\n",
      "img:./insectrec/created_data/images/her_2128619_05_37_160_1-15 s_11_48 mm_Manual_Manual_6240 x 4160.jpg\n"
     ]
    },
    {
     "name": "stderr",
     "output_type": "stream",
     "text": [
      "\n",
      " 20%|██        | 31/153 [00:07<00:30,  3.99it/s]\u001b[A"
     ]
    },
    {
     "name": "stdout",
     "output_type": "stream",
     "text": [
      "beauv_w25_B_50_160_1-15 s_11_48 mm_Manual_Manual_6240 x 4160\n",
      "img:./insectrec/created_data/images/beauv_w25_B_50_160_1-15 s_11_48 mm_Manual_Manual_6240 x 4160.jpg\n"
     ]
    },
    {
     "name": "stderr",
     "output_type": "stream",
     "text": [
      "\n",
      " 21%|██        | 32/153 [00:08<00:31,  3.82it/s]\u001b[A"
     ]
    },
    {
     "name": "stdout",
     "output_type": "stream",
     "text": [
      "kampen_w25_C_72_160_1-15 s_11_48 mm_Manual_Manual_6240 x 4160\n",
      "img:./insectrec/created_data/images/kampen_w25_C_72_160_1-15 s_11_48 mm_Manual_Manual_6240 x 4160.jpg\n"
     ]
    },
    {
     "name": "stderr",
     "output_type": "stream",
     "text": [
      "\n",
      " 22%|██▏       | 33/153 [00:08<00:31,  3.75it/s]\u001b[A"
     ]
    },
    {
     "name": "stdout",
     "output_type": "stream",
     "text": [
      "beauv_w27_A2_73_160_1-15 s_11_48 mm_Manual_Manual_6240 x 4160\n",
      "img:./insectrec/created_data/images/beauv_w27_A2_73_160_1-15 s_11_48 mm_Manual_Manual_6240 x 4160.jpg\n"
     ]
    },
    {
     "name": "stderr",
     "output_type": "stream",
     "text": [
      "\n",
      " 22%|██▏       | 34/153 [00:08<00:33,  3.58it/s]\u001b[A"
     ]
    },
    {
     "name": "stdout",
     "output_type": "stream",
     "text": [
      "her_512719_10_26_160_1-15 s_11_48 mm_Manual_Manual_6240 x 4160\n",
      "img:./insectrec/created_data/images/her_512719_10_26_160_1-15 s_11_48 mm_Manual_Manual_6240 x 4160.jpg\n"
     ]
    },
    {
     "name": "stderr",
     "output_type": "stream",
     "text": [
      "\n",
      " 23%|██▎       | 35/153 [00:09<00:32,  3.65it/s]\u001b[A\n",
      " 24%|██▎       | 36/153 [00:09<00:28,  4.10it/s]\u001b[A"
     ]
    },
    {
     "name": "stdout",
     "output_type": "stream",
     "text": [
      "her_07140619_0007\n",
      "img:./insectrec/created_data/images/her_07140619_0007.jpg\n",
      "brainelal_w25_C_76_160_1-15 s_11_48 mm_Manual_Manual_6240 x 4160\n",
      "img:./insectrec/created_data/images/brainelal_w25_C_76_160_1-15 s_11_48 mm_Manual_Manual_6240 x 4160.jpg\n"
     ]
    },
    {
     "name": "stderr",
     "output_type": "stream",
     "text": [
      "\n",
      " 24%|██▍       | 37/153 [00:09<00:30,  3.81it/s]\u001b[A"
     ]
    },
    {
     "name": "stdout",
     "output_type": "stream",
     "text": [
      "beauv_15_7_B_53_160_1-15 s_11_48 mm_Manual_Manual_6240 x 4160\n",
      "img:./insectrec/created_data/images/beauv_15_7_B_53_160_1-15 s_11_48 mm_Manual_Manual_6240 x 4160.jpg\n"
     ]
    },
    {
     "name": "stderr",
     "output_type": "stream",
     "text": [
      "\n",
      " 25%|██▍       | 38/153 [00:09<00:31,  3.63it/s]\u001b[A"
     ]
    },
    {
     "name": "stdout",
     "output_type": "stream",
     "text": [
      "brainelal_8719_C_82_160_1-15 s_11_48 mm_Manual_Manual_6240 x 4160\n",
      "img:./insectrec/created_data/images/brainelal_8719_C_82_160_1-15 s_11_48 mm_Manual_Manual_6240 x 4160.jpg\n"
     ]
    },
    {
     "name": "stderr",
     "output_type": "stream",
     "text": [
      "\n",
      " 25%|██▌       | 39/153 [00:10<00:31,  3.60it/s]\u001b[A\n"
     ]
    },
    {
     "name": "stdout",
     "output_type": "stream",
     "text": [
      "her_24310519_0009\n",
      "img:./insectrec/created_data/images/her_24310519_0009.jpg\n"
     ]
    },
    {
     "name": "stderr",
     "output_type": "stream",
     "text": [
      " 26%|██▌       | 40/153 [00:10<00:28,  3.92it/s]\u001b[A"
     ]
    },
    {
     "name": "stdout",
     "output_type": "stream",
     "text": [
      "brainelal_w32_A_21_F10_51 mm_ISO160_1-15 s_3daysold\n",
      "img:./insectrec/created_data/images/brainelal_w32_A_21_F10_51 mm_ISO160_1-15 s_3daysold.jpg\n"
     ]
    },
    {
     "name": "stderr",
     "output_type": "stream",
     "text": [
      "\n",
      " 27%|██▋       | 41/153 [00:10<00:28,  3.88it/s]\u001b[A"
     ]
    },
    {
     "name": "stdout",
     "output_type": "stream",
     "text": [
      "her_512719_05_21_160_1-15 s_11_48 mm_Manual_Manual_6240 x 4160\n",
      "img:./insectrec/created_data/images/her_512719_05_21_160_1-15 s_11_48 mm_Manual_Manual_6240 x 4160.jpg\n"
     ]
    },
    {
     "name": "stderr",
     "output_type": "stream",
     "text": [
      "\n",
      " 27%|██▋       | 42/153 [00:10<00:29,  3.76it/s]\u001b[A"
     ]
    },
    {
     "name": "stdout",
     "output_type": "stream",
     "text": [
      "herent_09160819_07_F10_51 mm_ISO160_1-15 s\n",
      "img:./insectrec/created_data/images/herent_09160819_07_F10_51 mm_ISO160_1-15 s.jpg\n"
     ]
    },
    {
     "name": "stderr",
     "output_type": "stream",
     "text": [
      "\n",
      " 28%|██▊       | 43/153 [00:11<00:29,  3.75it/s]\u001b[A"
     ]
    },
    {
     "name": "stdout",
     "output_type": "stream",
     "text": [
      "her_2856719_10_10_160_1-15 s_11_48 mm_Manual_Manual_6240 x 4160\n",
      "img:./insectrec/created_data/images/her_2856719_10_10_160_1-15 s_11_48 mm_Manual_Manual_6240 x 4160.jpg\n"
     ]
    },
    {
     "name": "stderr",
     "output_type": "stream",
     "text": [
      "\n",
      " 29%|██▉       | 44/153 [00:11<00:30,  3.58it/s]\u001b[A"
     ]
    },
    {
     "name": "stdout",
     "output_type": "stream",
     "text": [
      "herent_09160819_12_F10_51 mm_ISO160_1-15 s\n",
      "img:./insectrec/created_data/images/herent_09160819_12_F10_51 mm_ISO160_1-15 s.jpg\n"
     ]
    },
    {
     "name": "stderr",
     "output_type": "stream",
     "text": [
      "\n",
      " 29%|██▉       | 45/153 [00:11<00:30,  3.57it/s]\u001b[A"
     ]
    },
    {
     "name": "stdout",
     "output_type": "stream",
     "text": [
      "her_2856719_11_11_160_1-15 s_11_48 mm_Manual_Manual_6240 x 4160\n",
      "img:./insectrec/created_data/images/her_2856719_11_11_160_1-15 s_11_48 mm_Manual_Manual_6240 x 4160.jpg\n"
     ]
    },
    {
     "name": "stderr",
     "output_type": "stream",
     "text": [
      "\n",
      " 30%|███       | 46/153 [00:12<00:30,  3.48it/s]\u001b[A"
     ]
    },
    {
     "name": "stdout",
     "output_type": "stream",
     "text": [
      "herent_09160819_10_F10_51 mm_ISO160_1-15 s\n",
      "img:./insectrec/created_data/images/herent_09160819_10_F10_51 mm_ISO160_1-15 s.jpg\n"
     ]
    },
    {
     "name": "stderr",
     "output_type": "stream",
     "text": [
      "\n",
      " 31%|███       | 47/153 [00:12<00:30,  3.46it/s]\u001b[A"
     ]
    },
    {
     "name": "stdout",
     "output_type": "stream",
     "text": [
      "her_24310519_0011\n",
      "img:./insectrec/created_data/images/her_24310519_0011.jpg\n"
     ]
    },
    {
     "name": "stderr",
     "output_type": "stream",
     "text": [
      "\n",
      " 31%|███▏      | 48/153 [00:12<00:27,  3.80it/s]\u001b[A"
     ]
    },
    {
     "name": "stdout",
     "output_type": "stream",
     "text": [
      "beauvech_w32_A_24_F10_51 mm_ISO160_1-15 s_3daysold\n",
      "img:./insectrec/created_data/images/beauvech_w32_A_24_F10_51 mm_ISO160_1-15 s_3daysold.jpg\n"
     ]
    },
    {
     "name": "stderr",
     "output_type": "stream",
     "text": [
      "\n",
      " 32%|███▏      | 49/153 [00:12<00:28,  3.70it/s]\u001b[A"
     ]
    },
    {
     "name": "stdout",
     "output_type": "stream",
     "text": [
      "herent_09160819_06_F10_51 mm_ISO160_1-15 s\n",
      "img:./insectrec/created_data/images/herent_09160819_06_F10_51 mm_ISO160_1-15 s.jpg\n"
     ]
    },
    {
     "name": "stderr",
     "output_type": "stream",
     "text": [
      "\n",
      " 33%|███▎      | 50/153 [00:13<00:28,  3.66it/s]\u001b[A"
     ]
    },
    {
     "name": "stdout",
     "output_type": "stream",
     "text": [
      "her_31070619_0014\n",
      "img:./insectrec/created_data/images/her_31070619_0014.jpg\n"
     ]
    },
    {
     "name": "stderr",
     "output_type": "stream",
     "text": [
      "\n",
      " 33%|███▎      | 51/153 [00:13<00:25,  3.93it/s]\u001b[A"
     ]
    },
    {
     "name": "stdout",
     "output_type": "stream",
     "text": [
      "herent_09160819_03_F10_51 mm_ISO160_1-15 s\n",
      "img:./insectrec/created_data/images/herent_09160819_03_F10_51 mm_ISO160_1-15 s.jpg\n"
     ]
    },
    {
     "name": "stderr",
     "output_type": "stream",
     "text": [
      "\n",
      " 34%|███▍      | 52/153 [00:13<00:26,  3.85it/s]\u001b[A"
     ]
    },
    {
     "name": "stdout",
     "output_type": "stream",
     "text": [
      "her_2128619_07_39_160_1-15 s_11_48 mm_Manual_Manual_6240 x 4160\n",
      "img:./insectrec/created_data/images/her_2128619_07_39_160_1-15 s_11_48 mm_Manual_Manual_6240 x 4160.jpg\n"
     ]
    },
    {
     "name": "stderr",
     "output_type": "stream",
     "text": [
      "\n",
      " 35%|███▍      | 53/153 [00:13<00:27,  3.69it/s]\u001b[A"
     ]
    },
    {
     "name": "stdout",
     "output_type": "stream",
     "text": [
      "beauvech_w32_C_22_F10_51 mm_ISO160_1-15 s_3daysold\n",
      "img:./insectrec/created_data/images/beauvech_w32_C_22_F10_51 mm_ISO160_1-15 s_3daysold.jpg\n"
     ]
    },
    {
     "name": "stderr",
     "output_type": "stream",
     "text": [
      "\n",
      " 35%|███▌      | 54/153 [00:14<00:27,  3.62it/s]\u001b[A"
     ]
    },
    {
     "name": "stdout",
     "output_type": "stream",
     "text": [
      "her_14210619_0010\n",
      "img:./insectrec/created_data/images/her_14210619_0010.jpg\n"
     ]
    },
    {
     "name": "stderr",
     "output_type": "stream",
     "text": [
      "\n",
      " 36%|███▌      | 55/153 [00:14<00:25,  3.86it/s]\u001b[A"
     ]
    },
    {
     "name": "stdout",
     "output_type": "stream",
     "text": [
      "herent_09160819_02_F10_51 mm_ISO160_1-15 s\n",
      "img:./insectrec/created_data/images/herent_09160819_02_F10_51 mm_ISO160_1-15 s.jpg\n"
     ]
    },
    {
     "name": "stderr",
     "output_type": "stream",
     "text": [
      "\n",
      " 37%|███▋      | 56/153 [00:14<00:25,  3.78it/s]\u001b[A\n",
      " 37%|███▋      | 57/153 [00:14<00:23,  4.11it/s]\u001b[A"
     ]
    },
    {
     "name": "stdout",
     "output_type": "stream",
     "text": [
      "her_07140619_0006\n",
      "img:./insectrec/created_data/images/her_07140619_0006.jpg\n",
      "her_512719_03_19_160_1-15 s_11_48 mm_Manual_Manual_6240 x 4160\n",
      "img:./insectrec/created_data/images/her_512719_03_19_160_1-15 s_11_48 mm_Manual_Manual_6240 x 4160.jpg\n"
     ]
    },
    {
     "name": "stderr",
     "output_type": "stream",
     "text": [
      "\n",
      " 38%|███▊      | 58/153 [00:15<00:24,  3.80it/s]\u001b[A"
     ]
    },
    {
     "name": "stdout",
     "output_type": "stream",
     "text": [
      "her_2856719_12_12_160_1-15 s_11_48 mm_Manual_Manual_6240 x 4160\n",
      "img:./insectrec/created_data/images/her_2856719_12_12_160_1-15 s_11_48 mm_Manual_Manual_6240 x 4160.jpg\n"
     ]
    },
    {
     "name": "stderr",
     "output_type": "stream",
     "text": [
      "\n",
      " 39%|███▊      | 59/153 [00:15<00:25,  3.65it/s]\u001b[A"
     ]
    },
    {
     "name": "stdout",
     "output_type": "stream",
     "text": [
      "herent_09160819_14_F10_51 mm_ISO160_1-15 s\n",
      "img:./insectrec/created_data/images/herent_09160819_14_F10_51 mm_ISO160_1-15 s.jpg\n"
     ]
    },
    {
     "name": "stderr",
     "output_type": "stream",
     "text": [
      "\n",
      " 39%|███▉      | 60/153 [00:15<00:25,  3.64it/s]\u001b[A"
     ]
    },
    {
     "name": "stdout",
     "output_type": "stream",
     "text": [
      "her_512719_04_20_160_1-15 s_11_48 mm_Manual_Manual_6240 x 4160\n",
      "img:./insectrec/created_data/images/her_512719_04_20_160_1-15 s_11_48 mm_Manual_Manual_6240 x 4160.jpg\n"
     ]
    },
    {
     "name": "stderr",
     "output_type": "stream",
     "text": [
      "\n",
      " 40%|███▉      | 61/153 [00:16<00:25,  3.55it/s]\u001b[A"
     ]
    },
    {
     "name": "stdout",
     "output_type": "stream",
     "text": [
      "beauv_w25_C_51_160_1-15 s_11_48 mm_Manual_Manual_6240 x 4160\n",
      "img:./insectrec/created_data/images/beauv_w25_C_51_160_1-15 s_11_48 mm_Manual_Manual_6240 x 4160.jpg\n"
     ]
    },
    {
     "name": "stderr",
     "output_type": "stream",
     "text": [
      "\n",
      " 41%|████      | 62/153 [00:16<00:26,  3.39it/s]\u001b[A"
     ]
    },
    {
     "name": "stdout",
     "output_type": "stream",
     "text": [
      "her_2128619_14_46_160_1-15 s_11_48 mm_Manual_Manual_6240 x 4160\n",
      "img:./insectrec/created_data/images/her_2128619_14_46_160_1-15 s_11_48 mm_Manual_Manual_6240 x 4160.jpg\n"
     ]
    },
    {
     "name": "stderr",
     "output_type": "stream",
     "text": [
      "\n",
      " 41%|████      | 63/153 [00:16<00:27,  3.30it/s]\u001b[A"
     ]
    },
    {
     "name": "stdout",
     "output_type": "stream",
     "text": [
      "kampen_w27_A_67_160_1-15 s_11_48 mm_Manual_Manual_6240 x 4160\n",
      "img:./insectrec/created_data/images/kampen_w27_A_67_160_1-15 s_11_48 mm_Manual_Manual_6240 x 4160.jpg\n"
     ]
    },
    {
     "name": "stderr",
     "output_type": "stream",
     "text": [
      "\n",
      " 42%|████▏     | 64/153 [00:17<00:26,  3.33it/s]\u001b[A"
     ]
    },
    {
     "name": "stdout",
     "output_type": "stream",
     "text": [
      "kampen_w27_AA_68_160_1-15 s_11_48 mm_Manual_Manual_6240 x 4160\n",
      "img:./insectrec/created_data/images/kampen_w27_AA_68_160_1-15 s_11_48 mm_Manual_Manual_6240 x 4160.jpg\n"
     ]
    },
    {
     "name": "stderr",
     "output_type": "stream",
     "text": [
      "\n",
      " 42%|████▏     | 65/153 [00:17<00:26,  3.36it/s]\u001b[A\n",
      " 43%|████▎     | 66/153 [00:17<00:23,  3.74it/s]\u001b[A"
     ]
    },
    {
     "name": "stdout",
     "output_type": "stream",
     "text": [
      "her_07140619_0009\n",
      "img:./insectrec/created_data/images/her_07140619_0009.jpg\n",
      "brainlal_w27_C_60_160_1-15 s_11_48 mm_Manual_Manual_6240 x 4160\n",
      "img:./insectrec/created_data/images/brainlal_w27_C_60_160_1-15 s_11_48 mm_Manual_Manual_6240 x 4160.jpg\n"
     ]
    },
    {
     "name": "stderr",
     "output_type": "stream",
     "text": [
      "\n",
      " 44%|████▍     | 67/153 [00:17<00:24,  3.44it/s]\u001b[A"
     ]
    },
    {
     "name": "stdout",
     "output_type": "stream",
     "text": [
      "her_24310519_0010\n",
      "img:./insectrec/created_data/images/her_24310519_0010.jpg\n"
     ]
    },
    {
     "name": "stderr",
     "output_type": "stream",
     "text": [
      "\n",
      " 44%|████▍     | 68/153 [00:18<00:23,  3.66it/s]\u001b[A"
     ]
    },
    {
     "name": "stdout",
     "output_type": "stream",
     "text": [
      "her_2856719_06_06_160_1-15 s_11_48 mm_Manual_Manual_6240 x 4160\n",
      "img:./insectrec/created_data/images/her_2856719_06_06_160_1-15 s_11_48 mm_Manual_Manual_6240 x 4160.jpg\n"
     ]
    },
    {
     "name": "stderr",
     "output_type": "stream",
     "text": [
      "\n",
      " 45%|████▌     | 69/153 [00:18<00:23,  3.60it/s]\u001b[A"
     ]
    },
    {
     "name": "stdout",
     "output_type": "stream",
     "text": [
      "kampen_w26_A_77_160_1-15 s_11_48 mm_Manual_Manual_6240 x 4160\n",
      "img:./insectrec/created_data/images/kampen_w26_A_77_160_1-15 s_11_48 mm_Manual_Manual_6240 x 4160.jpg\n"
     ]
    },
    {
     "name": "stderr",
     "output_type": "stream",
     "text": [
      "\n",
      " 46%|████▌     | 70/153 [00:18<00:24,  3.44it/s]\u001b[A"
     ]
    },
    {
     "name": "stdout",
     "output_type": "stream",
     "text": [
      "her_2856719_03_03_160_1-15 s_11_48 mm_Manual_Manual_6240 x 4160\n",
      "img:./insectrec/created_data/images/her_2856719_03_03_160_1-15 s_11_48 mm_Manual_Manual_6240 x 4160.jpg\n"
     ]
    },
    {
     "name": "stderr",
     "output_type": "stream",
     "text": [
      "\n",
      " 46%|████▋     | 71/153 [00:19<00:24,  3.31it/s]\u001b[A"
     ]
    },
    {
     "name": "stdout",
     "output_type": "stream",
     "text": [
      "beauvech_w32_B_23_F10_51 mm_ISO160_1-15 s_3daysold\n",
      "img:./insectrec/created_data/images/beauvech_w32_B_23_F10_51 mm_ISO160_1-15 s_3daysold.jpg\n"
     ]
    },
    {
     "name": "stderr",
     "output_type": "stream",
     "text": [
      "\n",
      " 47%|████▋     | 72/153 [00:19<00:24,  3.36it/s]\u001b[A"
     ]
    },
    {
     "name": "stdout",
     "output_type": "stream",
     "text": [
      "her_2856719_07_07_160_1-15 s_11_48 mm_Manual_Manual_6240 x 4160\n",
      "img:./insectrec/created_data/images/her_2856719_07_07_160_1-15 s_11_48 mm_Manual_Manual_6240 x 4160.jpg\n"
     ]
    },
    {
     "name": "stderr",
     "output_type": "stream",
     "text": [
      "\n",
      " 48%|████▊     | 73/153 [00:19<00:24,  3.31it/s]\u001b[A"
     ]
    },
    {
     "name": "stdout",
     "output_type": "stream",
     "text": [
      "her_14210619_0015\n",
      "img:./insectrec/created_data/images/her_14210619_0015.jpg\n"
     ]
    },
    {
     "name": "stderr",
     "output_type": "stream",
     "text": [
      "\n",
      " 48%|████▊     | 74/153 [00:19<00:21,  3.62it/s]\u001b[A"
     ]
    },
    {
     "name": "stdout",
     "output_type": "stream",
     "text": [
      "her_512719_14_30_160_1-15 s_11_48 mm_Manual_Manual_6240 x 4160\n",
      "img:./insectrec/created_data/images/her_512719_14_30_160_1-15 s_11_48 mm_Manual_Manual_6240 x 4160.jpg\n"
     ]
    },
    {
     "name": "stderr",
     "output_type": "stream",
     "text": [
      "\n",
      " 49%|████▉     | 75/153 [00:20<00:21,  3.59it/s]\u001b[A"
     ]
    },
    {
     "name": "stdout",
     "output_type": "stream",
     "text": [
      "her_31070619_0015\n",
      "img:./insectrec/created_data/images/her_31070619_0015.jpg\n"
     ]
    },
    {
     "name": "stderr",
     "output_type": "stream",
     "text": [
      "\n",
      " 50%|████▉     | 76/153 [00:20<00:20,  3.78it/s]\u001b[A"
     ]
    },
    {
     "name": "stdout",
     "output_type": "stream",
     "text": [
      "her_24310519_0006\n",
      "img:./insectrec/created_data/images/her_24310519_0006.jpg\n"
     ]
    },
    {
     "name": "stderr",
     "output_type": "stream",
     "text": [
      "\n",
      " 50%|█████     | 77/153 [00:20<00:18,  4.05it/s]\u001b[A"
     ]
    },
    {
     "name": "stdout",
     "output_type": "stream",
     "text": [
      "her_14210619_0014\n",
      "img:./insectrec/created_data/images/her_14210619_0014.jpg\n"
     ]
    },
    {
     "name": "stderr",
     "output_type": "stream",
     "text": [
      "\n",
      " 51%|█████     | 78/153 [00:20<00:17,  4.24it/s]\u001b[A"
     ]
    },
    {
     "name": "stdout",
     "output_type": "stream",
     "text": [
      "her_14210619_0011\n",
      "img:./insectrec/created_data/images/her_14210619_0011.jpg\n"
     ]
    },
    {
     "name": "stderr",
     "output_type": "stream",
     "text": [
      "\n",
      " 52%|█████▏    | 79/153 [00:20<00:16,  4.40it/s]\u001b[A"
     ]
    },
    {
     "name": "stdout",
     "output_type": "stream",
     "text": [
      "brainlal_w27_B_59_160_1-15 s_11_48 mm_Manual_Manual_6240 x 4160\n",
      "img:./insectrec/created_data/images/brainlal_w27_B_59_160_1-15 s_11_48 mm_Manual_Manual_6240 x 4160.jpg\n"
     ]
    },
    {
     "name": "stderr",
     "output_type": "stream",
     "text": [
      "\n",
      " 52%|█████▏    | 80/153 [00:21<00:18,  3.93it/s]\u001b[A"
     ]
    },
    {
     "name": "stdout",
     "output_type": "stream",
     "text": [
      "beauv_8719_B_83_160_1-15 s_11_48 mm_Manual_Manual_6240 x 4160\n",
      "img:./insectrec/created_data/images/beauv_8719_B_83_160_1-15 s_11_48 mm_Manual_Manual_6240 x 4160.jpg\n"
     ]
    },
    {
     "name": "stderr",
     "output_type": "stream",
     "text": [
      "\n",
      " 53%|█████▎    | 81/153 [00:21<00:19,  3.69it/s]\u001b[A"
     ]
    },
    {
     "name": "stdout",
     "output_type": "stream",
     "text": [
      "her_07140619_0014\n",
      "img:./insectrec/created_data/images/her_07140619_0014.jpg\n"
     ]
    },
    {
     "name": "stderr",
     "output_type": "stream",
     "text": [
      "\n",
      " 54%|█████▎    | 82/153 [00:21<00:18,  3.89it/s]\u001b[A"
     ]
    },
    {
     "name": "stdout",
     "output_type": "stream",
     "text": [
      "brainelal_w32_B_20_F10_51 mm_ISO160_1-15 s_3daysold\n",
      "img:./insectrec/created_data/images/brainelal_w32_B_20_F10_51 mm_ISO160_1-15 s_3daysold.jpg\n"
     ]
    },
    {
     "name": "stderr",
     "output_type": "stream",
     "text": [
      "\n",
      " 54%|█████▍    | 83/153 [00:22<00:18,  3.83it/s]\u001b[A"
     ]
    },
    {
     "name": "stdout",
     "output_type": "stream",
     "text": [
      "her_2128619_15_47_160_1-15 s_11_48 mm_Manual_Manual_6240 x 4160\n",
      "img:./insectrec/created_data/images/her_2128619_15_47_160_1-15 s_11_48 mm_Manual_Manual_6240 x 4160.jpg\n"
     ]
    },
    {
     "name": "stderr",
     "output_type": "stream",
     "text": [
      "\n",
      " 55%|█████▍    | 84/153 [00:22<00:18,  3.69it/s]\u001b[A"
     ]
    },
    {
     "name": "stdout",
     "output_type": "stream",
     "text": [
      "her_512719_11_27_160_1-15 s_11_48 mm_Manual_Manual_6240 x 4160\n",
      "img:./insectrec/created_data/images/her_512719_11_27_160_1-15 s_11_48 mm_Manual_Manual_6240 x 4160.jpg\n"
     ]
    },
    {
     "name": "stderr",
     "output_type": "stream",
     "text": [
      "\n",
      " 56%|█████▌    | 85/153 [00:22<00:18,  3.72it/s]\u001b[A"
     ]
    },
    {
     "name": "stdout",
     "output_type": "stream",
     "text": [
      "herent_09160819_15_F10_51 mm_ISO160_1-15 s\n",
      "img:./insectrec/created_data/images/herent_09160819_15_F10_51 mm_ISO160_1-15 s.jpg\n"
     ]
    },
    {
     "name": "stderr",
     "output_type": "stream",
     "text": [
      "\n",
      " 56%|█████▌    | 86/153 [00:22<00:18,  3.68it/s]\u001b[A"
     ]
    },
    {
     "name": "stdout",
     "output_type": "stream",
     "text": [
      "her_2128619_08_40_160_1-15 s_11_48 mm_Manual_Manual_6240 x 4160\n",
      "img:./insectrec/created_data/images/her_2128619_08_40_160_1-15 s_11_48 mm_Manual_Manual_6240 x 4160.jpg\n"
     ]
    },
    {
     "name": "stderr",
     "output_type": "stream",
     "text": [
      "\n",
      " 57%|█████▋    | 87/153 [00:23<00:18,  3.56it/s]\u001b[A"
     ]
    },
    {
     "name": "stdout",
     "output_type": "stream",
     "text": [
      "her_512719_06_22_160_1-15 s_11_48 mm_Manual_Manual_6240 x 4160\n",
      "img:./insectrec/created_data/images/her_512719_06_22_160_1-15 s_11_48 mm_Manual_Manual_6240 x 4160.jpg\n"
     ]
    },
    {
     "name": "stderr",
     "output_type": "stream",
     "text": [
      "\n",
      " 58%|█████▊    | 88/153 [00:23<00:18,  3.56it/s]\u001b[A"
     ]
    },
    {
     "name": "stdout",
     "output_type": "stream",
     "text": [
      "brainelal_8719_B_81_160_1-15 s_11_48 mm_Manual_Manual_6240 x 4160\n",
      "img:./insectrec/created_data/images/brainelal_8719_B_81_160_1-15 s_11_48 mm_Manual_Manual_6240 x 4160.jpg\n"
     ]
    },
    {
     "name": "stderr",
     "output_type": "stream",
     "text": [
      "\n",
      " 58%|█████▊    | 89/153 [00:23<00:18,  3.50it/s]\u001b[A\n",
      " 59%|█████▉    | 90/153 [00:23<00:16,  3.92it/s]\u001b[A"
     ]
    },
    {
     "name": "stdout",
     "output_type": "stream",
     "text": [
      "her_24310519_0001\n",
      "img:./insectrec/created_data/images/her_24310519_0001.jpg\n",
      "beauv_w27_B_56_160_1-15 s_11_48 mm_Manual_Manual_6240 x 4160\n",
      "img:./insectrec/created_data/images/beauv_w27_B_56_160_1-15 s_11_48 mm_Manual_Manual_6240 x 4160.jpg\n"
     ]
    },
    {
     "name": "stderr",
     "output_type": "stream",
     "text": [
      "\n",
      " 59%|█████▉    | 91/153 [00:24<00:16,  3.82it/s]\u001b[A\n",
      " 60%|██████    | 92/153 [00:24<00:14,  4.23it/s]\u001b[A"
     ]
    },
    {
     "name": "stdout",
     "output_type": "stream",
     "text": [
      "her_14210619_0001\n",
      "img:./insectrec/created_data/images/her_14210619_0001.jpg\n",
      "her_31070619_0009\n",
      "img:./insectrec/created_data/images/her_31070619_0009.jpg\n"
     ]
    },
    {
     "name": "stderr",
     "output_type": "stream",
     "text": [
      "\n",
      " 61%|██████    | 93/153 [00:24<00:13,  4.32it/s]\u001b[A"
     ]
    },
    {
     "name": "stdout",
     "output_type": "stream",
     "text": [
      "her_2856719_08_08_160_1-15 s_11_48 mm_Manual_Manual_6240 x 4160\n",
      "img:./insectrec/created_data/images/her_2856719_08_08_160_1-15 s_11_48 mm_Manual_Manual_6240 x 4160.jpg\n"
     ]
    },
    {
     "name": "stderr",
     "output_type": "stream",
     "text": [
      "\n",
      " 61%|██████▏   | 94/153 [00:24<00:14,  4.13it/s]\u001b[A"
     ]
    },
    {
     "name": "stdout",
     "output_type": "stream",
     "text": [
      "her_31070619_0012\n",
      "img:./insectrec/created_data/images/her_31070619_0012.jpg\n"
     ]
    },
    {
     "name": "stderr",
     "output_type": "stream",
     "text": [
      "\n",
      " 62%|██████▏   | 95/153 [00:25<00:13,  4.26it/s]\u001b[A"
     ]
    },
    {
     "name": "stdout",
     "output_type": "stream",
     "text": [
      "brainelal_w27_A_80_160_1-15 s_11_48 mm_Manual_Manual_6240 x 4160\n",
      "img:./insectrec/created_data/images/brainelal_w27_A_80_160_1-15 s_11_48 mm_Manual_Manual_6240 x 4160.jpg\n"
     ]
    },
    {
     "name": "stderr",
     "output_type": "stream",
     "text": [
      "\n",
      " 63%|██████▎   | 96/153 [00:25<00:13,  4.10it/s]\u001b[A"
     ]
    },
    {
     "name": "stdout",
     "output_type": "stream",
     "text": [
      "her_2856719_04_04_160_1-15 s_11_48 mm_Manual_Manual_6240 x 4160\n",
      "img:./insectrec/created_data/images/her_2856719_04_04_160_1-15 s_11_48 mm_Manual_Manual_6240 x 4160.jpg\n"
     ]
    },
    {
     "name": "stderr",
     "output_type": "stream",
     "text": [
      "\n",
      " 63%|██████▎   | 97/153 [00:25<00:14,  3.95it/s]\u001b[A"
     ]
    },
    {
     "name": "stdout",
     "output_type": "stream",
     "text": [
      "her_2128619_10_42_160_1-15 s_11_48 mm_Manual_Manual_6240 x 4160\n",
      "img:./insectrec/created_data/images/her_2128619_10_42_160_1-15 s_11_48 mm_Manual_Manual_6240 x 4160.jpg\n"
     ]
    },
    {
     "name": "stderr",
     "output_type": "stream",
     "text": [
      "\n",
      " 64%|██████▍   | 98/153 [00:26<00:15,  3.65it/s]\u001b[A"
     ]
    },
    {
     "name": "stdout",
     "output_type": "stream",
     "text": [
      "her_512719_07_23_160_1-15 s_11_48 mm_Manual_Manual_6240 x 4160\n",
      "img:./insectrec/created_data/images/her_512719_07_23_160_1-15 s_11_48 mm_Manual_Manual_6240 x 4160.jpg\n"
     ]
    },
    {
     "name": "stderr",
     "output_type": "stream",
     "text": [
      "\n",
      " 65%|██████▍   | 99/153 [00:26<00:14,  3.68it/s]\u001b[A\n",
      " 65%|██████▌   | 100/153 [00:26<00:12,  4.14it/s]\u001b[A"
     ]
    },
    {
     "name": "stdout",
     "output_type": "stream",
     "text": [
      "her_31070619_0008\n",
      "img:./insectrec/created_data/images/her_31070619_0008.jpg\n",
      "her_14210619_0009\n",
      "img:./insectrec/created_data/images/her_14210619_0009.jpg\n"
     ]
    },
    {
     "name": "stderr",
     "output_type": "stream",
     "text": [
      "\n",
      " 66%|██████▌   | 101/153 [00:26<00:11,  4.51it/s]\u001b[A"
     ]
    },
    {
     "name": "stdout",
     "output_type": "stream",
     "text": [
      "her_14210619_0004\n",
      "img:./insectrec/created_data/images/her_14210619_0004.jpg\n"
     ]
    },
    {
     "name": "stderr",
     "output_type": "stream",
     "text": [
      "\n",
      " 67%|██████▋   | 102/153 [00:26<00:11,  4.53it/s]\u001b[A"
     ]
    },
    {
     "name": "stdout",
     "output_type": "stream",
     "text": [
      "her_24310519_0013\n",
      "img:./insectrec/created_data/images/her_24310519_0013.jpg\n"
     ]
    },
    {
     "name": "stderr",
     "output_type": "stream",
     "text": [
      "\n",
      " 67%|██████▋   | 103/153 [00:27<00:10,  4.61it/s]\u001b[A"
     ]
    },
    {
     "name": "stdout",
     "output_type": "stream",
     "text": [
      "beauv_8719_C_84_160_1-15 s_11_48 mm_Manual_Manual_6240 x 4160\n",
      "img:./insectrec/created_data/images/beauv_8719_C_84_160_1-15 s_11_48 mm_Manual_Manual_6240 x 4160.jpg\n"
     ]
    },
    {
     "name": "stderr",
     "output_type": "stream",
     "text": [
      "\n",
      " 68%|██████▊   | 104/153 [00:27<00:12,  4.01it/s]\u001b[A"
     ]
    },
    {
     "name": "stdout",
     "output_type": "stream",
     "text": [
      "her_2128619_06_38_160_1-15 s_11_48 mm_Manual_Manual_6240 x 4160\n",
      "img:./insectrec/created_data/images/her_2128619_06_38_160_1-15 s_11_48 mm_Manual_Manual_6240 x 4160.jpg\n"
     ]
    },
    {
     "name": "stderr",
     "output_type": "stream",
     "text": [
      "\n",
      " 69%|██████▊   | 105/153 [00:27<00:12,  3.85it/s]\u001b[A"
     ]
    },
    {
     "name": "stdout",
     "output_type": "stream",
     "text": [
      "her_512719_13_29_160_1-15 s_11_48 mm_Manual_Manual_6240 x 4160\n",
      "img:./insectrec/created_data/images/her_512719_13_29_160_1-15 s_11_48 mm_Manual_Manual_6240 x 4160.jpg\n"
     ]
    },
    {
     "name": "stderr",
     "output_type": "stream",
     "text": [
      "\n",
      " 69%|██████▉   | 106/153 [00:27<00:12,  3.81it/s]\u001b[A"
     ]
    },
    {
     "name": "stdout",
     "output_type": "stream",
     "text": [
      "her_2128619_02_34_160_1-15 s_11_48 mm_Manual_Manual_6240 x 4160\n",
      "img:./insectrec/created_data/images/her_2128619_02_34_160_1-15 s_11_48 mm_Manual_Manual_6240 x 4160.jpg\n"
     ]
    },
    {
     "name": "stderr",
     "output_type": "stream",
     "text": [
      "\n",
      " 70%|██████▉   | 107/153 [00:28<00:12,  3.81it/s]\u001b[A"
     ]
    },
    {
     "name": "stdout",
     "output_type": "stream",
     "text": [
      "her_512719_12_28_160_1-15 s_11_48 mm_Manual_Manual_6240 x 4160\n",
      "img:./insectrec/created_data/images/her_512719_12_28_160_1-15 s_11_48 mm_Manual_Manual_6240 x 4160.jpg\n"
     ]
    },
    {
     "name": "stderr",
     "output_type": "stream",
     "text": [
      "\n",
      " 71%|███████   | 108/153 [00:28<00:11,  3.81it/s]\u001b[A"
     ]
    },
    {
     "name": "stdout",
     "output_type": "stream",
     "text": [
      "her_2856719_05_05_160_1-15 s_11_48 mm_Manual_Manual_6240 x 4160\n",
      "img:./insectrec/created_data/images/her_2856719_05_05_160_1-15 s_11_48 mm_Manual_Manual_6240 x 4160.jpg\n"
     ]
    },
    {
     "name": "stderr",
     "output_type": "stream",
     "text": [
      "\n",
      " 71%|███████   | 109/153 [00:28<00:12,  3.62it/s]\u001b[A"
     ]
    },
    {
     "name": "stdout",
     "output_type": "stream",
     "text": [
      "brainlal_15_7_C_63_160_1-15 s_11_48 mm_Manual_Manual_6240 x 4160\n",
      "img:./insectrec/created_data/images/brainlal_15_7_C_63_160_1-15 s_11_48 mm_Manual_Manual_6240 x 4160.jpg\n"
     ]
    },
    {
     "name": "stderr",
     "output_type": "stream",
     "text": [
      "\n",
      " 72%|███████▏  | 110/153 [00:29<00:11,  3.64it/s]\u001b[A"
     ]
    },
    {
     "name": "stdout",
     "output_type": "stream",
     "text": [
      "her_2856719_15_15_160_1-15 s_11_48 mm_Manual_Manual_6240 x 4160\n",
      "img:./insectrec/created_data/images/her_2856719_15_15_160_1-15 s_11_48 mm_Manual_Manual_6240 x 4160.jpg\n"
     ]
    },
    {
     "name": "stderr",
     "output_type": "stream",
     "text": [
      "\n",
      " 73%|███████▎  | 111/153 [00:29<00:11,  3.62it/s]\u001b[A"
     ]
    },
    {
     "name": "stdout",
     "output_type": "stream",
     "text": [
      "herent_09160819_05_F10_51 mm_ISO160_1-15 s\n",
      "img:./insectrec/created_data/images/herent_09160819_05_F10_51 mm_ISO160_1-15 s.jpg\n"
     ]
    },
    {
     "name": "stderr",
     "output_type": "stream",
     "text": [
      "\n",
      " 73%|███████▎  | 112/153 [00:29<00:11,  3.69it/s]\u001b[A"
     ]
    },
    {
     "name": "stdout",
     "output_type": "stream",
     "text": [
      "her_31070619_0003\n",
      "img:./insectrec/created_data/images/her_31070619_0003.jpg\n"
     ]
    },
    {
     "name": "stderr",
     "output_type": "stream",
     "text": [
      "\n",
      " 74%|███████▍  | 113/153 [00:29<00:10,  3.86it/s]\u001b[A"
     ]
    },
    {
     "name": "stdout",
     "output_type": "stream",
     "text": [
      "her_2856719_13_13_160_1-15 s_11_48 mm_Manual_Manual_6240 x 4160\n",
      "img:./insectrec/created_data/images/her_2856719_13_13_160_1-15 s_11_48 mm_Manual_Manual_6240 x 4160.jpg\n"
     ]
    },
    {
     "name": "stderr",
     "output_type": "stream",
     "text": [
      "\n",
      " 75%|███████▍  | 114/153 [00:30<00:10,  3.72it/s]\u001b[A\n"
     ]
    },
    {
     "name": "stdout",
     "output_type": "stream",
     "text": [
      "her_07140619_0012\n",
      "img:./insectrec/created_data/images/her_07140619_0012.jpg\n"
     ]
    },
    {
     "name": "stderr",
     "output_type": "stream",
     "text": [
      " 75%|███████▌  | 115/153 [00:30<00:09,  4.03it/s]\u001b[A"
     ]
    },
    {
     "name": "stdout",
     "output_type": "stream",
     "text": [
      "her_2856719_09_09_160_1-15 s_11_48 mm_Manual_Manual_6240 x 4160\n",
      "img:./insectrec/created_data/images/her_2856719_09_09_160_1-15 s_11_48 mm_Manual_Manual_6240 x 4160.jpg\n"
     ]
    },
    {
     "name": "stderr",
     "output_type": "stream",
     "text": [
      "\n",
      " 76%|███████▌  | 116/153 [00:30<00:09,  3.86it/s]\u001b[A"
     ]
    },
    {
     "name": "stdout",
     "output_type": "stream",
     "text": [
      "herent_09160819_01_F10_51 mm_ISO160_1-15 s\n",
      "img:./insectrec/created_data/images/herent_09160819_01_F10_51 mm_ISO160_1-15 s.jpg\n"
     ]
    },
    {
     "name": "stderr",
     "output_type": "stream",
     "text": [
      "\n",
      " 76%|███████▋  | 117/153 [00:30<00:09,  3.84it/s]\u001b[A"
     ]
    },
    {
     "name": "stdout",
     "output_type": "stream",
     "text": [
      "beauv_w27_C_57_160_1-15 s_11_48 mm_Manual_Manual_6240 x 4160\n",
      "img:./insectrec/created_data/images/beauv_w27_C_57_160_1-15 s_11_48 mm_Manual_Manual_6240 x 4160.jpg\n"
     ]
    },
    {
     "name": "stderr",
     "output_type": "stream",
     "text": [
      "\n",
      " 77%|███████▋  | 118/153 [00:31<00:09,  3.77it/s]\u001b[A"
     ]
    },
    {
     "name": "stdout",
     "output_type": "stream",
     "text": [
      "her_2128619_13_45_160_1-15 s_11_48 mm_Manual_Manual_6240 x 4160\n",
      "img:./insectrec/created_data/images/her_2128619_13_45_160_1-15 s_11_48 mm_Manual_Manual_6240 x 4160.jpg\n"
     ]
    },
    {
     "name": "stderr",
     "output_type": "stream",
     "text": [
      "\n",
      " 78%|███████▊  | 119/153 [00:31<00:09,  3.60it/s]\u001b[A\n",
      " 78%|███████▊  | 120/153 [00:31<00:08,  3.93it/s]\u001b[A"
     ]
    },
    {
     "name": "stdout",
     "output_type": "stream",
     "text": [
      "her_14210619_0012\n",
      "img:./insectrec/created_data/images/her_14210619_0012.jpg\n",
      "kampen_w26_C_79_160_1-15 s_11_48 mm_Manual_Manual_6240 x 4160\n",
      "img:./insectrec/created_data/images/kampen_w26_C_79_160_1-15 s_11_48 mm_Manual_Manual_6240 x 4160.jpg\n"
     ]
    },
    {
     "name": "stderr",
     "output_type": "stream",
     "text": [
      "\n",
      " 79%|███████▉  | 121/153 [00:31<00:09,  3.52it/s]\u001b[A"
     ]
    },
    {
     "name": "stdout",
     "output_type": "stream",
     "text": [
      "her_512719_08_24_160_1-15 s_11_48 mm_Manual_Manual_6240 x 4160\n",
      "img:./insectrec/created_data/images/her_512719_08_24_160_1-15 s_11_48 mm_Manual_Manual_6240 x 4160.jpg\n"
     ]
    },
    {
     "name": "stderr",
     "output_type": "stream",
     "text": [
      "\n",
      " 80%|███████▉  | 122/153 [00:32<00:08,  3.61it/s]\u001b[A"
     ]
    },
    {
     "name": "stdout",
     "output_type": "stream",
     "text": [
      "beauv_w25_A_49_160_1-15 s_11_48 mm_Manual_Manual_6240 x 4160\n",
      "img:./insectrec/created_data/images/beauv_w25_A_49_160_1-15 s_11_48 mm_Manual_Manual_6240 x 4160.jpg\n"
     ]
    },
    {
     "name": "stderr",
     "output_type": "stream",
     "text": [
      "\n",
      " 80%|████████  | 123/153 [00:32<00:08,  3.58it/s]\u001b[A\n",
      " 81%|████████  | 124/153 [00:32<00:07,  3.96it/s]\u001b[A"
     ]
    },
    {
     "name": "stdout",
     "output_type": "stream",
     "text": [
      "her_07140619_0013\n",
      "img:./insectrec/created_data/images/her_07140619_0013.jpg\n",
      "her_14210619_0006\n",
      "img:./insectrec/created_data/images/her_14210619_0006.jpg\n"
     ]
    },
    {
     "name": "stderr",
     "output_type": "stream",
     "text": [
      "\n",
      " 82%|████████▏ | 125/153 [00:32<00:06,  4.32it/s]\u001b[A"
     ]
    },
    {
     "name": "stdout",
     "output_type": "stream",
     "text": [
      "her_2128619_03_35_160_1-15 s_11_48 mm_Manual_Manual_6240 x 4160\n",
      "img:./insectrec/created_data/images/her_2128619_03_35_160_1-15 s_11_48 mm_Manual_Manual_6240 x 4160.jpg\n"
     ]
    },
    {
     "name": "stderr",
     "output_type": "stream",
     "text": [
      "\n",
      " 82%|████████▏ | 126/153 [00:33<00:06,  3.90it/s]\u001b[A\n",
      " 83%|████████▎ | 127/153 [00:33<00:06,  4.29it/s]\u001b[A"
     ]
    },
    {
     "name": "stdout",
     "output_type": "stream",
     "text": [
      "her_07140619_0004\n",
      "img:./insectrec/created_data/images/her_07140619_0004.jpg\n",
      "kampen_w28_B_65_160_1-15 s_11_48 mm_Manual_Manual_6240 x 4160\n",
      "img:./insectrec/created_data/images/kampen_w28_B_65_160_1-15 s_11_48 mm_Manual_Manual_6240 x 4160.jpg\n"
     ]
    },
    {
     "name": "stderr",
     "output_type": "stream",
     "text": [
      "\n",
      " 84%|████████▎ | 128/153 [00:33<00:06,  4.10it/s]\u001b[A\n",
      " 84%|████████▍ | 129/153 [00:33<00:05,  4.35it/s]\u001b[A"
     ]
    },
    {
     "name": "stdout",
     "output_type": "stream",
     "text": [
      "her_31070619_0001\n",
      "img:./insectrec/created_data/images/her_31070619_0001.jpg\n",
      "herent_09160819_08_F10_51 mm_ISO160_1-15 s\n",
      "img:./insectrec/created_data/images/herent_09160819_08_F10_51 mm_ISO160_1-15 s.jpg\n"
     ]
    },
    {
     "name": "stderr",
     "output_type": "stream",
     "text": [
      "\n",
      " 85%|████████▍ | 130/153 [00:34<00:05,  4.19it/s]\u001b[A"
     ]
    },
    {
     "name": "stdout",
     "output_type": "stream",
     "text": [
      "her_24310519_0004\n",
      "img:./insectrec/created_data/images/her_24310519_0004.jpg\n"
     ]
    },
    {
     "name": "stderr",
     "output_type": "stream",
     "text": [
      "\n",
      " 86%|████████▌ | 131/153 [00:34<00:05,  4.37it/s]\u001b[A"
     ]
    },
    {
     "name": "stdout",
     "output_type": "stream",
     "text": [
      "her_2128619_12_44_160_1-15 s_11_48 mm_Manual_Manual_6240 x 4160\n",
      "img:./insectrec/created_data/images/her_2128619_12_44_160_1-15 s_11_48 mm_Manual_Manual_6240 x 4160.jpg\n"
     ]
    },
    {
     "name": "stderr",
     "output_type": "stream",
     "text": [
      "\n",
      " 86%|████████▋ | 132/153 [00:34<00:05,  4.05it/s]\u001b[A"
     ]
    },
    {
     "name": "stdout",
     "output_type": "stream",
     "text": [
      "her_2856719_16_16_160_1-15 s_11_48 mm_Manual_Manual_6240 x 4160\n",
      "img:./insectrec/created_data/images/her_2856719_16_16_160_1-15 s_11_48 mm_Manual_Manual_6240 x 4160.jpg\n"
     ]
    },
    {
     "name": "stderr",
     "output_type": "stream",
     "text": [
      "\n",
      " 87%|████████▋ | 133/153 [00:34<00:05,  3.84it/s]\u001b[A"
     ]
    },
    {
     "name": "stdout",
     "output_type": "stream",
     "text": [
      "her_512719_02_18_160_1-15 s_11_48 mm_Manual_Manual_6240 x 4160\n",
      "img:./insectrec/created_data/images/her_512719_02_18_160_1-15 s_11_48 mm_Manual_Manual_6240 x 4160.jpg\n"
     ]
    },
    {
     "name": "stderr",
     "output_type": "stream",
     "text": [
      "\n",
      " 88%|████████▊ | 134/153 [00:35<00:05,  3.78it/s]\u001b[A"
     ]
    },
    {
     "name": "stdout",
     "output_type": "stream",
     "text": [
      "herent_09160819_04_F10_51 mm_ISO160_1-15 s\n",
      "img:./insectrec/created_data/images/herent_09160819_04_F10_51 mm_ISO160_1-15 s.jpg\n"
     ]
    },
    {
     "name": "stderr",
     "output_type": "stream",
     "text": [
      "\n",
      " 88%|████████▊ | 135/153 [00:35<00:04,  3.75it/s]\u001b[A"
     ]
    },
    {
     "name": "stdout",
     "output_type": "stream",
     "text": [
      "her_2128619_01_33_160_1-15 s_11_48 mm_Manual_Manual_6240 x 4160\n",
      "img:./insectrec/created_data/images/her_2128619_01_33_160_1-15 s_11_48 mm_Manual_Manual_6240 x 4160.jpg\n"
     ]
    },
    {
     "name": "stderr",
     "output_type": "stream",
     "text": [
      "\n",
      " 89%|████████▉ | 136/153 [00:35<00:04,  3.61it/s]\u001b[A\n",
      " 90%|████████▉ | 137/153 [00:35<00:04,  3.94it/s]\u001b[A"
     ]
    },
    {
     "name": "stdout",
     "output_type": "stream",
     "text": [
      "her_24310519_0014\n",
      "img:./insectrec/created_data/images/her_24310519_0014.jpg\n"
     ]
    },
    {
     "name": "stderr",
     "output_type": "stream",
     "text": [
      "\n",
      " 90%|█████████ | 138/153 [00:36<00:03,  4.09it/s]\u001b[A"
     ]
    },
    {
     "name": "stdout",
     "output_type": "stream",
     "text": [
      "her_31070619_0006\n",
      "img:./insectrec/created_data/images/her_31070619_0006.jpg\n",
      "her_2128619_04_36_160_1-15 s_11_48 mm_Manual_Manual_6240 x 4160\n",
      "img:./insectrec/created_data/images/her_2128619_04_36_160_1-15 s_11_48 mm_Manual_Manual_6240 x 4160.jpg\n"
     ]
    },
    {
     "name": "stderr",
     "output_type": "stream",
     "text": [
      "\n",
      " 91%|█████████ | 139/153 [00:36<00:03,  3.84it/s]\u001b[A"
     ]
    },
    {
     "name": "stdout",
     "output_type": "stream",
     "text": [
      "her_512719_09_25_160_1-15 s_11_48 mm_Manual_Manual_6240 x 4160\n",
      "img:./insectrec/created_data/images/her_512719_09_25_160_1-15 s_11_48 mm_Manual_Manual_6240 x 4160.jpg\n"
     ]
    },
    {
     "name": "stderr",
     "output_type": "stream",
     "text": [
      "\n",
      " 92%|█████████▏| 140/153 [00:36<00:03,  3.82it/s]\u001b[A"
     ]
    },
    {
     "name": "stdout",
     "output_type": "stream",
     "text": [
      "her_2856719_01_01_160_1-15 s_11_48 mm_Manual_Manual_6240 x 4160\n",
      "img:./insectrec/created_data/images/her_2856719_01_01_160_1-15 s_11_48 mm_Manual_Manual_6240 x 4160.jpg\n"
     ]
    },
    {
     "name": "stderr",
     "output_type": "stream",
     "text": [
      "\n",
      " 92%|█████████▏| 141/153 [00:37<00:03,  3.74it/s]\u001b[A\n",
      " 93%|█████████▎| 142/153 [00:37<00:02,  4.10it/s]\u001b[A"
     ]
    },
    {
     "name": "stdout",
     "output_type": "stream",
     "text": [
      "her_24310519_0007\n",
      "img:./insectrec/created_data/images/her_24310519_0007.jpg\n",
      "herent_09160819_13_F10_51 mm_ISO160_1-15 s\n",
      "img:./insectrec/created_data/images/herent_09160819_13_F10_51 mm_ISO160_1-15 s.jpg\n"
     ]
    },
    {
     "name": "stderr",
     "output_type": "stream",
     "text": [
      "\n",
      " 93%|█████████▎| 143/153 [00:37<00:02,  3.97it/s]\u001b[A"
     ]
    },
    {
     "name": "stdout",
     "output_type": "stream",
     "text": [
      "her_2128619_11_43_160_1-15 s_11_48 mm_Manual_Manual_6240 x 4160\n",
      "img:./insectrec/created_data/images/her_2128619_11_43_160_1-15 s_11_48 mm_Manual_Manual_6240 x 4160.jpg\n"
     ]
    },
    {
     "name": "stderr",
     "output_type": "stream",
     "text": [
      "\n",
      " 94%|█████████▍| 144/153 [00:37<00:02,  3.79it/s]\u001b[A"
     ]
    },
    {
     "name": "stdout",
     "output_type": "stream",
     "text": [
      "brainlal_w27_A_58_160_1-15 s_11_48 mm_Manual_Manual_6240 x 4160\n",
      "img:./insectrec/created_data/images/brainlal_w27_A_58_160_1-15 s_11_48 mm_Manual_Manual_6240 x 4160.jpg\n"
     ]
    },
    {
     "name": "stderr",
     "output_type": "stream",
     "text": [
      "\n",
      " 95%|█████████▍| 145/153 [00:38<00:02,  3.70it/s]\u001b[A"
     ]
    },
    {
     "name": "stdout",
     "output_type": "stream",
     "text": [
      "her_2128619_16_48_160_1-15 s_11_48 mm_Manual_Manual_6240 x 4160\n",
      "img:./insectrec/created_data/images/her_2128619_16_48_160_1-15 s_11_48 mm_Manual_Manual_6240 x 4160.jpg\n"
     ]
    },
    {
     "name": "stderr",
     "output_type": "stream",
     "text": [
      "\n",
      " 95%|█████████▌| 146/153 [00:38<00:01,  3.65it/s]\u001b[A"
     ]
    },
    {
     "name": "stdout",
     "output_type": "stream",
     "text": [
      "herent_09160819_11_F10_51 mm_ISO160_1-15 s\n",
      "img:./insectrec/created_data/images/herent_09160819_11_F10_51 mm_ISO160_1-15 s.jpg\n"
     ]
    },
    {
     "name": "stderr",
     "output_type": "stream",
     "text": [
      "\n",
      " 96%|█████████▌| 147/153 [00:38<00:01,  3.73it/s]\u001b[A"
     ]
    },
    {
     "name": "stdout",
     "output_type": "stream",
     "text": [
      "brainelal_w25_B_75_160_1-15 s_11_48 mm_Manual_Manual_6240 x 4160\n",
      "img:./insectrec/created_data/images/brainelal_w25_B_75_160_1-15 s_11_48 mm_Manual_Manual_6240 x 4160.jpg\n"
     ]
    },
    {
     "name": "stderr",
     "output_type": "stream",
     "text": [
      "\n",
      " 97%|█████████▋| 148/153 [00:38<00:01,  3.58it/s]\u001b[A"
     ]
    },
    {
     "name": "stdout",
     "output_type": "stream",
     "text": [
      "brainlal_15_7_A_61_160_1-15 s_11_48 mm_Manual_Manual_6240 x 4160\n",
      "img:./insectrec/created_data/images/brainlal_15_7_A_61_160_1-15 s_11_48 mm_Manual_Manual_6240 x 4160.jpg\n"
     ]
    },
    {
     "name": "stderr",
     "output_type": "stream",
     "text": [
      "\n",
      " 97%|█████████▋| 149/153 [00:39<00:01,  3.62it/s]\u001b[A\n",
      " 98%|█████████▊| 150/153 [00:39<00:00,  3.98it/s]\u001b[A"
     ]
    },
    {
     "name": "stdout",
     "output_type": "stream",
     "text": [
      "her_14210619_0016\n",
      "img:./insectrec/created_data/images/her_14210619_0016.jpg\n",
      "kampen_w25_B_71_160_1-15 s_11_48 mm_Manual_Manual_6240 x 4160\n",
      "img:./insectrec/created_data/images/kampen_w25_B_71_160_1-15 s_11_48 mm_Manual_Manual_6240 x 4160.jpg\n"
     ]
    },
    {
     "name": "stderr",
     "output_type": "stream",
     "text": [
      "\n",
      " 99%|█████████▊| 151/153 [00:39<00:00,  3.68it/s]\u001b[A"
     ]
    },
    {
     "name": "stdout",
     "output_type": "stream",
     "text": [
      "her_512719_16_32_160_1-15 s_11_48 mm_Manual_Manual_6240 x 4160\n",
      "img:./insectrec/created_data/images/her_512719_16_32_160_1-15 s_11_48 mm_Manual_Manual_6240 x 4160.jpg\n"
     ]
    },
    {
     "name": "stderr",
     "output_type": "stream",
     "text": [
      "\n",
      " 99%|█████████▉| 152/153 [00:39<00:00,  3.71it/s]\u001b[A\n",
      "100%|██████████| 153/153 [00:40<00:00,  3.81it/s]\u001b[A"
     ]
    },
    {
     "name": "stdout",
     "output_type": "stream",
     "text": [
      "her_31070619_0007\n",
      "img:./insectrec/created_data/images/her_31070619_0007.jpg\n"
     ]
    },
    {
     "name": "stderr",
     "output_type": "stream",
     "text": [
      "\n"
     ]
    }
   ],
   "source": [
    "sticky.saveBoundingBoxes(outputDirectory='./insectrec/created_data/impy_crops_export/')"
   ]
  }
 ],
 "metadata": {
  "kernelspec": {
   "display_name": "Python 3",
   "language": "python",
   "name": "python3"
  },
  "language_info": {
   "codemirror_mode": {
    "name": "ipython",
    "version": 3
   },
   "file_extension": ".py",
   "mimetype": "text/x-python",
   "name": "python",
   "nbconvert_exporter": "python",
   "pygments_lexer": "ipython3",
   "version": "3.7.6"
  }
 },
 "nbformat": 4,
 "nbformat_minor": 4
}
