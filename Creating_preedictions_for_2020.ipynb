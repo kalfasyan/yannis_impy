{
 "cells": [
  {
   "cell_type": "code",
   "execution_count": 10,
   "metadata": {},
   "outputs": [
    {
     "name": "stdout",
     "output_type": "stream",
     "text": [
      "Deleting old augmented\n"
     ]
    }
   ],
   "source": [
    "%reset -f\n",
    "from tensorflow.keras.models import Sequential, Model\n",
    "from tensorflow.keras.layers import Conv2D, MaxPooling2D, Activation, Flatten, Dense, GlobalAveragePooling2D, Dropout\n",
    "from tensorflow.keras.callbacks import ModelCheckpoint, TensorBoard, EarlyStopping, ReduceLROnPlateau, CSVLogger\n",
    "from tensorflow.keras.applications.vgg16 import VGG16\n",
    "from tensorflow.keras.applications.inception_v3 import InceptionV3\n",
    "from tensorflow.keras.applications.densenet import DenseNet121, DenseNet201\n",
    "from tensorflow.keras.applications import NASNetLarge, Xception\n",
    "from tensorflow.keras.preprocessing.image import ImageDataGenerator\n",
    "import matplotlib.pyplot as plt\n",
    "import pandas as pd\n",
    "import cv2, os, os, git, glob, random\n",
    "import numpy as np\n",
    "from insectrec.utils import get_dataset, train_generator, valid_generator, augment_trainset, get_labelencoder_mapping\n",
    "from tensorflow.keras.preprocessing.image import img_to_array\n",
    "from sklearn.preprocessing import LabelEncoder\n",
    "from sklearn.utils import shuffle\n",
    "from sklearn.model_selection import train_test_split\n",
    "from insectrec.utils import *\n",
    "\n",
    "import seaborn as sns\n",
    "seed = 42\n",
    "np.random.seed(seed)\n",
    "\n",
    "created_data_path = f'/home/kalfasyan/data/images/sticky_plates/created_data'\n",
    "path_crops_export = f'{created_data_path}/crops_export/'\n",
    "path_images_augmented = f'{created_data_path}/images_augmented/'\n",
    "\n",
    "clean = True\n",
    "if clean:\n",
    "    print(\"Deleting old augmented\")\n",
    "    os.system(f'rm -rf {path_images_augmented}*')\n",
    "\n",
    "nb_classes = 9\n",
    "\n",
    "if nb_classes == 3:\n",
    "    target_classes = ['v','wmv','v(cy)','other']\n",
    "elif nb_classes == 9:\n",
    "    target_classes = ['m','v','bl','c','wmv','v(cy)','bv','sw','t','other']\n",
    "elif nb_classes == 6:\n",
    "    target_classes = ['m','v','bl','c','wmv','v(cy)','other']\n",
    "elif nb_classes == 21:\n",
    "    target_classes = ['m','v','bl','c','wmv','v(cy)','bv','gaasvlieg','grv','k','kever','nl','psylloidea','sp','sst','sw','t','vlieg','weg','wnv','wswl','other']\n",
    "elif nb_classes == 1:\n",
    "    target_classes = ['wmv', 'other']\n",
    "\n",
    "epochs = 100\n",
    "batch_size = 32\n",
    "monitor='val_accuracy'\n",
    "es_patience=7\n",
    "rlr_patience=3\n",
    "img_dim = 150\n",
    "modelname = f'DenseNet121_{nb_classes}classes_{img_dim}'"
   ]
  },
  {
   "cell_type": "code",
   "execution_count": 11,
   "metadata": {},
   "outputs": [],
   "source": [
    "base_model = DenseNet121(include_top=False, weights=None, \n",
    "                        input_shape=(img_dim,img_dim,3))\n",
    "# EfficientNetB2\n",
    "# base_model = DenseNet121(include_top=False, weights='imagenet', \n",
    "#                         input_shape=(img_dim,img_dim,3))\n",
    "x = base_model.output\n",
    "x = GlobalAveragePooling2D()(x)\n",
    "# x = Dense(128, activation='relu')(x)\n",
    "x = Dropout(0.3)(x)\n",
    "x = Dense(nb_classes+1, activation=None)(x)\n",
    "predictions = Activation('softmax')(x)\n",
    "\n",
    "model = Model(inputs=base_model.input, outputs=predictions)\n",
    "\n",
    "top_weights_path = f\"{created_data_path}/weights/{modelname}.h5\"\n",
    "model.load_weights(top_weights_path)\n",
    "model.compile(optimizer='adam', loss='categorical_crossentropy', metrics=['accuracy'])"
   ]
  },
  {
   "cell_type": "code",
   "execution_count": null,
   "metadata": {},
   "outputs": [],
   "source": []
  },
  {
   "cell_type": "code",
   "execution_count": null,
   "metadata": {},
   "outputs": [],
   "source": []
  },
  {
   "cell_type": "code",
   "execution_count": null,
   "metadata": {},
   "outputs": [],
   "source": []
  },
  {
   "cell_type": "code",
   "execution_count": null,
   "metadata": {},
   "outputs": [],
   "source": []
  },
  {
   "cell_type": "code",
   "execution_count": null,
   "metadata": {},
   "outputs": [],
   "source": []
  },
  {
   "cell_type": "code",
   "execution_count": null,
   "metadata": {},
   "outputs": [],
   "source": []
  },
  {
   "cell_type": "code",
   "execution_count": 5,
   "metadata": {},
   "outputs": [],
   "source": [
    "# %reset -f\n",
    "# # import the necessary packages\n",
    "# from tensorflow.keras.models import Sequential, Model\n",
    "# from tensorflow.keras.layers import Conv2D, MaxPooling2D, Activation, Flatten, Dense, GlobalAveragePooling2D, Dropout\n",
    "# from tensorflow.keras import backend as K\n",
    "# from tensorflow.keras.callbacks import ModelCheckpoint, TensorBoard, EarlyStopping, ReduceLROnPlateau, CSVLogger\n",
    "# from tensorflow.keras.applications.vgg16 import VGG16\n",
    "# from tensorflow.keras.applications.inception_v3 import InceptionV3\n",
    "# from tensorflow.keras.applications.densenet import DenseNet121, DenseNet201\n",
    "# from tensorflow.keras.preprocessing.image import ImageDataGenerator\n",
    "# from tensorflow.keras.optimizers import Adam\n",
    "# from sklearn.model_selection import train_test_split\n",
    "# from tensorflow.keras.utils import to_categorical\n",
    "# from sklearn.metrics import confusion_matrix, balanced_accuracy_score\n",
    "# import seaborn as sns\n",
    "# from sklearn import preprocessing\n",
    "# from sklearn.utils import shuffle\n",
    "# from sklearn.preprocessing import LabelEncoder\n",
    "# import matplotlib.pyplot as plt\n",
    "# import pandas as pd\n",
    "# import numpy as np\n",
    "# import argparse\n",
    "# import random\n",
    "# import cv2, glob\n",
    "# import os\n",
    "# import numpy as np\n",
    "# seed = 42\n",
    "# np.random.seed(seed)\n",
    "# import os, shutil, glob, cv2, sys, argparse\n",
    "# from natsort import natsorted\n",
    "# from insectrec.utils import *\n",
    "# from tqdm import tqdm\n",
    "# # sns.set()\n",
    "# seed = 42\n",
    "# np.random.seed(seed)\n",
    "# batch_size = 32\n",
    "# nb_classes = 9\n",
    "\n",
    "# created_data_path = '/home/kalfasyan/data/images/sticky_plates/created_data'\n",
    "# path_impy_crops_export = f'{created_data_path}/impy_crops_export/'\n",
    "# path_images_augmented = f'{created_data_path}/images_augmented/'\n",
    "# img_dim = 150\n",
    "# modelname = 'model_platebased_DENSE121_dropout05_150.h5'\n",
    "\n",
    "# from tensorflow.keras.applications import NASNetLarge\n",
    "\n",
    "# base_model = DenseNet121(include_top=False, weights=None, \n",
    "#                          input_shape=(img_dim,img_dim,3))\n",
    "# x = base_model.output\n",
    "# x = GlobalAveragePooling2D()(x)\n",
    "# x = Dropout(0.5)(x)\n",
    "# predictions = Dense(nb_classes, activation='softmax')(x)\n",
    "# model = Model(inputs=base_model.input, outputs=predictions)\n",
    "# # model.summary()\n",
    "\n",
    "# import math\n",
    "# top_weights_path = f\"{created_data_path}/weights/{modelname}\"\n",
    "# model.load_weights(top_weights_path)\n",
    "# model.compile(optimizer='adam', loss='categorical_crossentropy', metrics=['accuracy'])"
   ]
  },
  {
   "cell_type": "code",
   "execution_count": 6,
   "metadata": {},
   "outputs": [],
   "source": [
    "# pred = model.predict(valid_generator(X_test, y_test, batch_size=batch_size, nb_classes=nb_classes, img_dim=img_dim), \n",
    "#                          steps= len(X_test) / batch_size, \n",
    "#                          verbose=1)"
   ]
  },
  {
   "cell_type": "code",
   "execution_count": 12,
   "metadata": {},
   "outputs": [],
   "source": [
    "datadir = '/home/kalfasyan/data/images/sticky_plates/'\n",
    "years = ['2020']"
   ]
  },
  {
   "cell_type": "code",
   "execution_count": 13,
   "metadata": {
    "tags": []
   },
   "outputs": [
    {
     "name": "stdout",
     "output_type": "stream",
     "text": [
      "Cleaning directories..\n"
     ]
    }
   ],
   "source": [
    "created_data_path = f'{datadir}/created_data'\n",
    "\n",
    "# CREATING NECESSARY DIRECTORIES FOR THE PROJECT\n",
    "path_annotations = f'{created_data_path}/annotations/'\n",
    "path_images = f'{created_data_path}/images/'\n",
    "path_voc_annotations = f'{created_data_path}/voc_annotations/'\n",
    "path_crops_export = f'{created_data_path}/crops_export/'\n",
    "path_images_augmented = f'{created_data_path}/images_augmented/'\n",
    "path_weights = f'{created_data_path}/weights/'\n",
    "path_logs = f'{created_data_path}/logs/'\n",
    "for path in [created_data_path, path_annotations, path_images, path_voc_annotations, \n",
    "            path_crops_export, path_weights, path_logs, path_images_augmented]:\n",
    "    if not os.path.isdir(path):\n",
    "        os.mkdir(path)\t\n",
    "\n",
    "include_herent = True\n",
    "yolo_to_voc = True # In the end of the script, yolo annotations get converted to voc\n",
    "extract_boxes = True # Only works if above is true. Bounding boxes extracted and saved as images\n",
    "clean = True # Deleting previous data created here (i.e. except of logs and weights)\n",
    "save_extractions = True # Whether to save the extracted insect crops \n",
    "\n",
    "if clean:\n",
    "    print(f'Cleaning directories..')\n",
    "    clean_folder(path_annotations)\n",
    "    clean_folder(path_images)\n",
    "    clean_folder(path_voc_annotations)\n",
    "    os.system(f'rm -rf {path_crops_export}*')\n",
    "    os.system(f'rm -rf {path_images_augmented}*')\n",
    "    os.system(f'rm {created_data_path}/df_*')\n",
    "    os.system(f'rm {created_data_path}/class_mapping.csv')\n"
   ]
  },
  {
   "cell_type": "code",
   "execution_count": 15,
   "metadata": {
    "tags": []
   },
   "outputs": [
    {
     "name": "stdout",
     "output_type": "stream",
     "text": [
      "Number of plates: 212 for year: 2020\n"
     ]
    }
   ],
   "source": [
    "plates = []\n",
    "for y in years:\n",
    "\ty_plates = get_plate_names(y, base_dir=datadir)\n",
    "\tplates += y_plates\n",
    "\tprint(f\"Number of plates: {len(y_plates)} for year: {y}\")"
   ]
  },
  {
   "cell_type": "code",
   "execution_count": 16,
   "metadata": {},
   "outputs": [],
   "source": [
    "labview_cols = ['Center of Mass X.1', 'Center of Mass Y.1', 'Bounding Rect Left.1',\n",
    "       'Bounding Rect Top.1', 'Bounding Rect Right.1',\n",
    "       'Bounding Rect Bottom.1', 'Equivalent Ellipse Major Axis.1',\n",
    "       'Equivalent Ellipse Minor Axis.1', 'Area.1', 'Convex Hull Area.1',\n",
    "       'Orientation.1', 'Ratio of Equivalent Ellipse Axes.1',\n",
    "       'Ratio of Equivalent Rect Sides.1', 'Elongation Factor.1',\n",
    "       'Compactness Factor.1', 'Heywood Circularity Factor.1', 'Type Factor.1',\n",
    "       'R', 'G', 'B']\n",
    "all_specs = []"
   ]
  },
  {
   "cell_type": "code",
   "execution_count": 22,
   "metadata": {},
   "outputs": [],
   "source": [
    "from tqdm import tqdm"
   ]
  },
  {
   "cell_type": "code",
   "execution_count": 26,
   "metadata": {
    "scrolled": true,
    "tags": []
   },
   "outputs": [
    {
     "name": "stderr",
     "output_type": "stream",
     "text": [
      "0it [00:00, ?it/s]/home/kalfasyan/anaconda3/envs/objdetect/lib/python3.7/site-packages/ipykernel_launcher.py:33: FutureWarning: The pandas.np module is deprecated and will be removed from pandas in a future version. Import numpy directly instead\n"
     ]
    },
    {
     "name": "stdout",
     "output_type": "stream",
     "text": [
      "Platename: HerentCONTROLE_w04_F10_51 mm_ISO160_1-15 s_IncandescentWB.png\n",
      "1/0 [==============================] - 11s 11s/step\n"
     ]
    },
    {
     "name": "stderr",
     "output_type": "stream",
     "text": [
      "1it [00:11, 11.92s/it]"
     ]
    },
    {
     "name": "stdout",
     "output_type": "stream",
     "text": [
      "Platename: HerentCONTROLE_w05_F10_51 mm_ISO160_1-15 s_IncandescentWB.png\n",
      "2/1 [==========================================] - 2s 1s/step\n"
     ]
    },
    {
     "name": "stderr",
     "output_type": "stream",
     "text": [
      "2it [00:15,  9.46s/it]"
     ]
    },
    {
     "name": "stdout",
     "output_type": "stream",
     "text": [
      "Platename: HerentVAL1_w04_F10_51 mm_ISO160_1-15 s_IncandescentWB.png\n",
      "2/1 [======================================================] - 1s 526ms/step\n"
     ]
    },
    {
     "name": "stderr",
     "output_type": "stream",
     "text": [
      "3it [00:18,  7.57s/it]"
     ]
    },
    {
     "name": "stdout",
     "output_type": "stream",
     "text": [
      "Platename: HerentVAL1_w05_F10_51 mm_ISO160_1-15 s_IncandescentWB.png\n",
      "1/0 [=========================================================================] - 0s 22ms/step\n"
     ]
    },
    {
     "name": "stderr",
     "output_type": "stream",
     "text": [
      "4it [00:20,  5.84s/it]"
     ]
    },
    {
     "name": "stdout",
     "output_type": "stream",
     "text": [
      "Platename: HerentVAL2_w04_F10_51 mm_ISO160_1-15 s_IncandescentWB.png\n",
      "2/1 [=================================================] - 1s 546ms/step\n"
     ]
    },
    {
     "name": "stderr",
     "output_type": "stream",
     "text": [
      "5it [00:23,  4.83s/it]"
     ]
    },
    {
     "name": "stdout",
     "output_type": "stream",
     "text": [
      "Platename: HerentVAL2_w05_F10_51 mm_ISO160_1-15 s_IncandescentWB.png\n",
      "1/0 [=========================================] - 1s 1s/step\n"
     ]
    },
    {
     "name": "stderr",
     "output_type": "stream",
     "text": [
      "6it [00:26,  4.33s/it]"
     ]
    },
    {
     "name": "stdout",
     "output_type": "stream",
     "text": [
      "Platename: HerentVAL3_w04_F10_51 mm_ISO160_1-15 s_IncandescentWB.png\n",
      "1/0 [=========================================] - 0s 55ms/step\n"
     ]
    },
    {
     "name": "stderr",
     "output_type": "stream",
     "text": [
      "7it [00:28,  3.67s/it]"
     ]
    },
    {
     "name": "stdout",
     "output_type": "stream",
     "text": [
      "Platename: HerentVAL3_w05_F10_51 mm_ISO160_1-15 s_IncandescentWB.png\n",
      "2/1 [==========================================================] - 1s 544ms/step\n"
     ]
    },
    {
     "name": "stderr",
     "output_type": "stream",
     "text": [
      "8it [00:31,  3.56s/it]"
     ]
    },
    {
     "name": "stdout",
     "output_type": "stream",
     "text": [
      "Platename: HerentVALdelta_w04_F10_51 mm_ISO160_1-15 s_IncandescentWB.png\n",
      "2/1 [====================================] - 1s 629ms/step\n"
     ]
    },
    {
     "name": "stderr",
     "output_type": "stream",
     "text": [
      "9it [00:34,  3.47s/it]"
     ]
    },
    {
     "name": "stdout",
     "output_type": "stream",
     "text": [
      "Platename: HerentVALdelta_w05_F10_51 mm_ISO160_1-15 s_IncandescentWB.png\n",
      "2/1 [=================================================] - 0s 44ms/step\n"
     ]
    },
    {
     "name": "stderr",
     "output_type": "stream",
     "text": [
      "10it [00:36,  3.02s/it]"
     ]
    },
    {
     "name": "stdout",
     "output_type": "stream",
     "text": [
      "Platename: Herent_w26_1-30_F10_51 mm_ISO160_1-15 s_IncandescentWB.png\n",
      "7/6 [================================] - 1s 195ms/step\n"
     ]
    },
    {
     "name": "stderr",
     "output_type": "stream",
     "text": [
      "11it [00:41,  3.52s/it]"
     ]
    },
    {
     "name": "stdout",
     "output_type": "stream",
     "text": [
      "Platename: Herent_w26_1-60_F10_51 mm_ISO160_1-15 s_IncandescentWB.png\n",
      "8/7 [=================================] - 1s 159ms/step\n"
     ]
    },
    {
     "name": "stderr",
     "output_type": "stream",
     "text": [
      "12it [00:45,  3.52s/it]"
     ]
    },
    {
     "name": "stdout",
     "output_type": "stream",
     "text": [
      "Platename: Herent_w26_1-90_F10_51 mm_ISO160_1-15 s_IncandescentWB.png\n",
      "10/9 [================================] - 0s 44ms/step\n"
     ]
    },
    {
     "name": "stderr",
     "output_type": "stream",
     "text": [
      "13it [00:48,  3.59s/it]"
     ]
    },
    {
     "name": "stdout",
     "output_type": "stream",
     "text": [
      "Platename: Herent_w26_2-30_F10_51 mm_ISO160_1-15 s_IncandescentWB.png\n",
      "12/11 [================================] - 1s 119ms/step\n"
     ]
    },
    {
     "name": "stderr",
     "output_type": "stream",
     "text": [
      "14it [00:52,  3.47s/it]"
     ]
    },
    {
     "name": "stdout",
     "output_type": "stream",
     "text": [
      "Platename: Herent_w26_2-60_F10_51 mm_ISO160_1-15 s_IncandescentWB.png\n",
      "2/1 [======================================================] - 0s 43ms/step\n"
     ]
    },
    {
     "name": "stderr",
     "output_type": "stream",
     "text": [
      "15it [00:54,  3.15s/it]"
     ]
    },
    {
     "name": "stdout",
     "output_type": "stream",
     "text": [
      "Platename: Herent_w26_2-90_F10_51 mm_ISO160_1-15 s_IncandescentWB.png\n",
      "5/4 [=================================] - 0s 48ms/step\n"
     ]
    },
    {
     "name": "stderr",
     "output_type": "stream",
     "text": [
      "16it [00:56,  2.93s/it]"
     ]
    },
    {
     "name": "stdout",
     "output_type": "stream",
     "text": [
      "Platename: Herent_w26_3-30_F10_51 mm_ISO160_1-15 s_IncandescentWB.png\n",
      "9/8 [===============================] - 1s 159ms/step\n"
     ]
    },
    {
     "name": "stderr",
     "output_type": "stream",
     "text": [
      "17it [01:00,  3.01s/it]"
     ]
    },
    {
     "name": "stdout",
     "output_type": "stream",
     "text": [
      "Platename: Herent_w26_3-60_F10_51 mm_ISO160_1-15 s_IncandescentWB.png\n",
      "7/6 [=================================] - 1s 185ms/step\n"
     ]
    },
    {
     "name": "stderr",
     "output_type": "stream",
     "text": [
      "18it [01:03,  3.11s/it]"
     ]
    },
    {
     "name": "stdout",
     "output_type": "stream",
     "text": [
      "Platename: Herent_w26_3-90_F10_51 mm_ISO160_1-15 s_IncandescentWB.png\n",
      "7/6 [================================] - 1s 189ms/step\n"
     ]
    },
    {
     "name": "stderr",
     "output_type": "stream",
     "text": [
      "19it [01:06,  3.24s/it]"
     ]
    },
    {
     "name": "stdout",
     "output_type": "stream",
     "text": [
      "Platename: Herent_w26_4-30_F10_51 mm_ISO160_1-15 s_IncandescentWB.png\n",
      "11/10 [==============================] - 2s 142ms/step\n"
     ]
    },
    {
     "name": "stderr",
     "output_type": "stream",
     "text": [
      "20it [01:10,  3.40s/it]"
     ]
    },
    {
     "name": "stdout",
     "output_type": "stream",
     "text": [
      "Platename: Herent_w26_4-60_F10_51 mm_ISO160_1-15 s_IncandescentWB.png\n",
      "7/6 [================================] - 0s 47ms/step\n"
     ]
    },
    {
     "name": "stderr",
     "output_type": "stream",
     "text": [
      "21it [01:13,  3.29s/it]"
     ]
    },
    {
     "name": "stdout",
     "output_type": "stream",
     "text": [
      "Platename: Herent_w26_4-90_F10_51 mm_ISO160_1-15 s_IncandescentWB.png\n",
      "13/12 [================================] - 1s 107ms/step\n"
     ]
    },
    {
     "name": "stderr",
     "output_type": "stream",
     "text": [
      "22it [01:18,  3.67s/it]"
     ]
    },
    {
     "name": "stdout",
     "output_type": "stream",
     "text": [
      "Platename: Herent_w26_centroid_F10_51 mm_ISO160_1-15 s_IncandescentWB.png\n",
      "16/15 [==============================] - 1s 43ms/step\n"
     ]
    },
    {
     "name": "stderr",
     "output_type": "stream",
     "text": [
      "23it [01:22,  3.75s/it]"
     ]
    },
    {
     "name": "stdout",
     "output_type": "stream",
     "text": [
      "Platename: Herent_w27_1-30_F10_51 mm_ISO160_1-15 s_IncandescentWB.png\n",
      "10/9 [==============================] - 2s 163ms/step\n"
     ]
    },
    {
     "name": "stderr",
     "output_type": "stream",
     "text": [
      "24it [01:26,  3.76s/it]"
     ]
    },
    {
     "name": "stdout",
     "output_type": "stream",
     "text": [
      "Platename: Herent_w27_1-60_F10_51 mm_ISO160_1-15 s_IncandescentWB.png\n",
      "12/11 [===============================] - 2s 137ms/step\n"
     ]
    },
    {
     "name": "stderr",
     "output_type": "stream",
     "text": [
      "25it [01:29,  3.79s/it]"
     ]
    },
    {
     "name": "stdout",
     "output_type": "stream",
     "text": [
      "Platename: Herent_w27_1-90_F10_51 mm_ISO160_1-15 s_IncandescentWB.png\n",
      "10/9 [==============================] - 2s 165ms/step\n"
     ]
    },
    {
     "name": "stderr",
     "output_type": "stream",
     "text": [
      "26it [01:34,  3.92s/it]"
     ]
    },
    {
     "name": "stdout",
     "output_type": "stream",
     "text": [
      "Platename: Herent_w27_2-30_F10_51 mm_ISO160_1-15 s_IncandescentWB.png\n",
      "9/8 [=================================] - 1s 145ms/step\n"
     ]
    },
    {
     "name": "stderr",
     "output_type": "stream",
     "text": [
      "27it [01:38,  4.17s/it]"
     ]
    },
    {
     "name": "stdout",
     "output_type": "stream",
     "text": [
      "Platename: Herent_w27_2-60_F10_51 mm_ISO160_1-15 s_IncandescentWB.png\n",
      "8/7 [==============================] - 2s 196ms/step\n"
     ]
    },
    {
     "name": "stderr",
     "output_type": "stream",
     "text": [
      "28it [01:42,  3.94s/it]"
     ]
    },
    {
     "name": "stdout",
     "output_type": "stream",
     "text": [
      "Platename: Herent_w27_2-90_F10_51 mm_ISO160_1-15 s_IncandescentWB.png\n",
      "7/6 [==============================] - 0s 47ms/step\n"
     ]
    },
    {
     "name": "stderr",
     "output_type": "stream",
     "text": [
      "29it [01:44,  3.57s/it]"
     ]
    },
    {
     "name": "stdout",
     "output_type": "stream",
     "text": [
      "Platename: Herent_w27_3-30_F10_51 mm_ISO160_1-15 s_IncandescentWB.png\n",
      "11/10 [===============================] - 0s 44ms/step\n"
     ]
    },
    {
     "name": "stderr",
     "output_type": "stream",
     "text": [
      "30it [01:47,  3.24s/it]"
     ]
    },
    {
     "name": "stdout",
     "output_type": "stream",
     "text": [
      "Platename: Herent_w27_3-60_F10_51 mm_ISO160_1-15 s_IncandescentWB.png\n",
      "8/7 [===============================] - 0s 48ms/step\n"
     ]
    },
    {
     "name": "stderr",
     "output_type": "stream",
     "text": [
      "31it [01:50,  3.20s/it]"
     ]
    },
    {
     "name": "stdout",
     "output_type": "stream",
     "text": [
      "Platename: Herent_w27_3-90_F10_51 mm_ISO160_1-15 s_IncandescentWB.png\n",
      "7/6 [===============================] - 1s 187ms/step\n"
     ]
    },
    {
     "name": "stderr",
     "output_type": "stream",
     "text": [
      "32it [01:53,  3.11s/it]"
     ]
    },
    {
     "name": "stdout",
     "output_type": "stream",
     "text": [
      "Platename: Herent_w27_4-30_F10_51 mm_ISO160_1-15 s_IncandescentWB.png\n",
      "10/9 [==============================] - 0s 46ms/step\n"
     ]
    },
    {
     "name": "stderr",
     "output_type": "stream",
     "text": [
      "33it [01:55,  2.88s/it]"
     ]
    },
    {
     "name": "stdout",
     "output_type": "stream",
     "text": [
      "Platename: Herent_w27_4-60_F10_51 mm_ISO160_1-15 s_IncandescentWB.png\n",
      "5/4 [====================================] - 0s 51ms/step\n"
     ]
    },
    {
     "name": "stderr",
     "output_type": "stream",
     "text": [
      "34it [01:58,  2.82s/it]"
     ]
    },
    {
     "name": "stdout",
     "output_type": "stream",
     "text": [
      "Platename: Herent_w27_4-90_F10_51 mm_ISO160_1-15 s_IncandescentWB.png\n",
      "11/10 [==============================] - 2s 144ms/step\n"
     ]
    },
    {
     "name": "stderr",
     "output_type": "stream",
     "text": [
      "35it [02:01,  2.99s/it]"
     ]
    },
    {
     "name": "stdout",
     "output_type": "stream",
     "text": [
      "Platename: Herent_w27_centroid_F10_51 mm_ISO160_1-15 s_IncandescentWB.png\n",
      "4/3 [======================================] - 0s 48ms/step\n"
     ]
    },
    {
     "name": "stderr",
     "output_type": "stream",
     "text": [
      "36it [02:03,  2.73s/it]"
     ]
    },
    {
     "name": "stdout",
     "output_type": "stream",
     "text": [
      "Platename: Herent_w28_1-30_F10_51 mm_ISO160_1-15 s_IncandescentWB.png\n",
      "8/7 [==============================] - 0s 48ms/step\n"
     ]
    },
    {
     "name": "stderr",
     "output_type": "stream",
     "text": [
      "37it [02:06,  2.62s/it]"
     ]
    },
    {
     "name": "stdout",
     "output_type": "stream",
     "text": [
      "Platename: Herent_w28_1-60_F10_51 mm_ISO160_1-15 s_IncandescentWB.png\n",
      "9/8 [===============================] - 1s 152ms/step\n"
     ]
    },
    {
     "name": "stderr",
     "output_type": "stream",
     "text": [
      "38it [02:09,  2.74s/it]"
     ]
    },
    {
     "name": "stdout",
     "output_type": "stream",
     "text": [
      "Platename: Herent_w28_1-90_F10_51 mm_ISO160_1-15 s_IncandescentWB.png\n",
      "13/12 [===============================] - 1s 42ms/step\n"
     ]
    },
    {
     "name": "stderr",
     "output_type": "stream",
     "text": [
      "39it [02:12,  2.93s/it]"
     ]
    },
    {
     "name": "stdout",
     "output_type": "stream",
     "text": [
      "Platename: Herent_w28_2-30_F10_51 mm_ISO160_1-15 s_IncandescentWB.png\n",
      "7/6 [===============================] - 0s 43ms/step\n"
     ]
    },
    {
     "name": "stderr",
     "output_type": "stream",
     "text": [
      "40it [02:14,  2.67s/it]"
     ]
    },
    {
     "name": "stdout",
     "output_type": "stream",
     "text": [
      "Platename: Herent_w28_2-60_F10_51 mm_ISO160_1-15 s_IncandescentWB.png\n",
      "5/4 [==================================] - 1s 224ms/step\n"
     ]
    },
    {
     "name": "stderr",
     "output_type": "stream",
     "text": [
      "41it [02:17,  2.69s/it]"
     ]
    },
    {
     "name": "stdout",
     "output_type": "stream",
     "text": [
      "Platename: Herent_w28_2-90_F10_51 mm_ISO160_1-15 s_IncandescentWB.png\n",
      "15/14 [==============================] - 1s 41ms/step\n"
     ]
    },
    {
     "name": "stderr",
     "output_type": "stream",
     "text": [
      "42it [02:20,  2.67s/it]"
     ]
    },
    {
     "name": "stdout",
     "output_type": "stream",
     "text": [
      "Platename: Herent_w28_3-30_F10_51 mm_ISO160_1-15 s_IncandescentWB.png\n",
      "11/10 [==============================] - 0s 45ms/step\n"
     ]
    },
    {
     "name": "stderr",
     "output_type": "stream",
     "text": [
      "43it [02:22,  2.66s/it]"
     ]
    },
    {
     "name": "stdout",
     "output_type": "stream",
     "text": [
      "Platename: Herent_w28_3-60_F10_51 mm_ISO160_1-15 s_IncandescentWB.png\n",
      "9/8 [===============================] - 0s 45ms/step\n"
     ]
    },
    {
     "name": "stderr",
     "output_type": "stream",
     "text": [
      "44it [02:25,  2.65s/it]"
     ]
    },
    {
     "name": "stdout",
     "output_type": "stream",
     "text": [
      "Platename: Herent_w28_3-90_F10_51 mm_ISO160_1-15 s_IncandescentWB.png\n",
      "9/8 [================================] - 0s 33ms/step\n"
     ]
    },
    {
     "name": "stderr",
     "output_type": "stream",
     "text": [
      "45it [02:27,  2.40s/it]"
     ]
    },
    {
     "name": "stdout",
     "output_type": "stream",
     "text": [
      "Platename: Herent_w28_4-30_F10_51 mm_ISO160_1-15 s_IncandescentWB.png\n",
      "7/6 [================================] - 1s 179ms/step\n"
     ]
    },
    {
     "name": "stderr",
     "output_type": "stream",
     "text": [
      "46it [02:30,  2.53s/it]"
     ]
    },
    {
     "name": "stdout",
     "output_type": "stream",
     "text": [
      "Platename: Herent_w28_4-60_F10_51 mm_ISO160_1-15 s_IncandescentWB.png\n",
      "5/4 [================================] - 0s 34ms/step\n"
     ]
    },
    {
     "name": "stderr",
     "output_type": "stream",
     "text": [
      "47it [02:31,  2.33s/it]"
     ]
    },
    {
     "name": "stdout",
     "output_type": "stream",
     "text": [
      "Platename: Herent_w28_4-90_F10_51 mm_ISO160_1-15 s_IncandescentWB.png\n",
      "14/13 [==============================] - 2s 127ms/step\n"
     ]
    },
    {
     "name": "stderr",
     "output_type": "stream",
     "text": [
      "48it [02:36,  2.92s/it]"
     ]
    },
    {
     "name": "stdout",
     "output_type": "stream",
     "text": [
      "Platename: Herent_w28_centroid_F10_51 mm_ISO160_1-15 s_IncandescentWB.png\n",
      "5/4 [====================================] - 0s 46ms/step\n"
     ]
    },
    {
     "name": "stderr",
     "output_type": "stream",
     "text": [
      "49it [02:38,  2.84s/it]"
     ]
    },
    {
     "name": "stdout",
     "output_type": "stream",
     "text": [
      "Platename: Herent_w29_1-30_F10_51 mm_ISO160_1-15 s_IncandescentWB.png\n",
      "9/8 [=================================] - 0s 43ms/step\n"
     ]
    },
    {
     "name": "stderr",
     "output_type": "stream",
     "text": [
      "50it [02:41,  2.71s/it]"
     ]
    },
    {
     "name": "stdout",
     "output_type": "stream",
     "text": [
      "Platename: Herent_w29_1-60_F10_51 mm_ISO160_1-15 s_IncandescentWB.png\n",
      "13/12 [===============================] - 1s 43ms/step\n"
     ]
    },
    {
     "name": "stderr",
     "output_type": "stream",
     "text": [
      "51it [02:43,  2.63s/it]"
     ]
    },
    {
     "name": "stdout",
     "output_type": "stream",
     "text": [
      "Platename: Herent_w29_1-90_F10_51 mm_ISO160_1-15 s_IncandescentWB.png\n",
      "21/20 [==============================] - 1s 40ms/step\n"
     ]
    },
    {
     "name": "stderr",
     "output_type": "stream",
     "text": [
      "52it [02:46,  2.76s/it]"
     ]
    },
    {
     "name": "stdout",
     "output_type": "stream",
     "text": [
      "Platename: Herent_w29_2-30_F10_51 mm_ISO160_1-15 s_IncandescentWB_1.png\n",
      "8/7 [==============================] - 0s 34ms/step\n"
     ]
    },
    {
     "name": "stderr",
     "output_type": "stream",
     "text": [
      "53it [02:48,  2.54s/it]"
     ]
    },
    {
     "name": "stdout",
     "output_type": "stream",
     "text": [
      "Platename: Herent_w29_2-60_F10_51 mm_ISO160_1-15 s_IncandescentWB.png\n",
      "9/8 [================================] - 0s 46ms/step\n"
     ]
    },
    {
     "name": "stderr",
     "output_type": "stream",
     "text": [
      "54it [02:51,  2.51s/it]"
     ]
    },
    {
     "name": "stdout",
     "output_type": "stream",
     "text": [
      "Platename: Herent_w29_2-90_F10_51 mm_ISO160_1-15 s_IncandescentWB.png\n",
      "14/13 [===============================] - 2s 109ms/step\n"
     ]
    },
    {
     "name": "stderr",
     "output_type": "stream",
     "text": [
      "55it [02:55,  2.95s/it]"
     ]
    },
    {
     "name": "stdout",
     "output_type": "stream",
     "text": [
      "Platename: Herent_w29_3-30_F10_51 mm_ISO160_1-15 s_IncandescentWB.png\n",
      "14/13 [==============================] - 1s 43ms/step\n"
     ]
    },
    {
     "name": "stderr",
     "output_type": "stream",
     "text": [
      "56it [02:57,  2.89s/it]"
     ]
    },
    {
     "name": "stdout",
     "output_type": "stream",
     "text": [
      "Platename: Herent_w29_3-60_F10_51 mm_ISO160_1-15 s_IncandescentWB.png\n",
      "10/9 [==============================] - 0s 44ms/step\n"
     ]
    },
    {
     "name": "stderr",
     "output_type": "stream",
     "text": [
      "57it [03:00,  2.75s/it]"
     ]
    },
    {
     "name": "stdout",
     "output_type": "stream",
     "text": [
      "Platename: Herent_w29_3-90_F10_51 mm_ISO160_1-15 s_IncandescentWB.png\n",
      "15/14 [===============================] - 1s 41ms/step\n"
     ]
    },
    {
     "name": "stderr",
     "output_type": "stream",
     "text": [
      "58it [03:03,  2.86s/it]"
     ]
    },
    {
     "name": "stdout",
     "output_type": "stream",
     "text": [
      "Platename: Herent_w29_4-30_F10_51 mm_ISO160_1-15 s_IncandescentWB.png\n",
      "8/7 [=================================] - 0s 45ms/step\n"
     ]
    },
    {
     "name": "stderr",
     "output_type": "stream",
     "text": [
      "59it [03:05,  2.71s/it]"
     ]
    },
    {
     "name": "stdout",
     "output_type": "stream",
     "text": [
      "Platename: Herent_w29_4-60_F10_51 mm_ISO160_1-15 s_IncandescentWB.png\n",
      "7/6 [=================================] - 1s 184ms/step\n"
     ]
    },
    {
     "name": "stderr",
     "output_type": "stream",
     "text": [
      "60it [03:09,  3.01s/it]"
     ]
    },
    {
     "name": "stdout",
     "output_type": "stream",
     "text": [
      "Platename: Herent_w29_4-90_F10_51 mm_ISO160_1-15 s_IncandescentWB.png\n",
      "15/14 [==============================] - 1s 41ms/step\n"
     ]
    },
    {
     "name": "stderr",
     "output_type": "stream",
     "text": [
      "61it [03:12,  2.87s/it]"
     ]
    },
    {
     "name": "stdout",
     "output_type": "stream",
     "text": [
      "Platename: Herent_w29_centroid_F10_51 mm_ISO160_1-15 s_IncandescentWB.png\n",
      "6/5 [================================] - 0s 48ms/step\n"
     ]
    },
    {
     "name": "stderr",
     "output_type": "stream",
     "text": [
      "62it [03:14,  2.79s/it]"
     ]
    },
    {
     "name": "stdout",
     "output_type": "stream",
     "text": [
      "Platename: Racour_20200702_A_F10_51 mm_ISO160_1-15 s_IncandescentWB.png\n",
      "15/14 [==============================] - 1s 43ms/step\n"
     ]
    },
    {
     "name": "stderr",
     "output_type": "stream",
     "text": [
      "63it [03:17,  2.91s/it]"
     ]
    },
    {
     "name": "stdout",
     "output_type": "stream",
     "text": [
      "Platename: Racour_20200702_B_F10_51 mm_ISO160_1-15 s_IncandescentWB.png\n",
      "19/18 [==============================] - 2s 99ms/step\n"
     ]
    },
    {
     "name": "stderr",
     "output_type": "stream",
     "text": [
      "64it [03:22,  3.30s/it]"
     ]
    },
    {
     "name": "stdout",
     "output_type": "stream",
     "text": [
      "Platename: Racour_20200702_C_F10_51 mm_ISO160_1-15 s_IncandescentWB.png\n",
      "21/20 [==============================] - 1s 40ms/step\n"
     ]
    },
    {
     "name": "stderr",
     "output_type": "stream",
     "text": [
      "65it [03:25,  3.29s/it]"
     ]
    },
    {
     "name": "stdout",
     "output_type": "stream",
     "text": [
      "Platename: Racour_20200713_A_F10_51 mm_ISO160_1-15 s_IncandescentWB.png\n",
      "25/24 [==============================] - 1s 39ms/step\n"
     ]
    },
    {
     "name": "stderr",
     "output_type": "stream",
     "text": [
      "66it [03:29,  3.55s/it]"
     ]
    },
    {
     "name": "stdout",
     "output_type": "stream",
     "text": [
      "Platename: Racour_20200713_B_F10_51 mm_ISO160_1-15 s_IncandescentWB.png\n",
      "25/24 [==============================] - 1s 38ms/step\n"
     ]
    },
    {
     "name": "stderr",
     "output_type": "stream",
     "text": [
      "67it [03:32,  3.46s/it]"
     ]
    },
    {
     "name": "stdout",
     "output_type": "stream",
     "text": [
      "Platename: Racour_20200713_C_F10_51 mm_ISO160_1-15 s_IncandescentWB.png\n",
      "23/22 [==============================] - 1s 39ms/step\n"
     ]
    },
    {
     "name": "stderr",
     "output_type": "stream",
     "text": [
      "68it [03:36,  3.43s/it]"
     ]
    },
    {
     "name": "stdout",
     "output_type": "stream",
     "text": [
      "Platename: Herent_w30_1-30_F10_51 mm_ISO160_1-15 s_IncandescentWB.png\n",
      "6/5 [==============================] - 0s 50ms/step\n"
     ]
    },
    {
     "name": "stderr",
     "output_type": "stream",
     "text": [
      "69it [03:38,  3.02s/it]"
     ]
    },
    {
     "name": "stdout",
     "output_type": "stream",
     "text": [
      "Platename: Herent_w30_1-60_F10_51 mm_ISO160_1-15 s_IncandescentWB.png\n",
      "10/9 [================================] - 0s 44ms/step\n"
     ]
    },
    {
     "name": "stderr",
     "output_type": "stream",
     "text": [
      "70it [03:40,  2.89s/it]"
     ]
    },
    {
     "name": "stdout",
     "output_type": "stream",
     "text": [
      "Platename: Herent_w30_1-90_F10_51 mm_ISO160_1-15 s_IncandescentWB.png\n",
      "15/14 [==============================] - 1s 42ms/step\n"
     ]
    },
    {
     "name": "stderr",
     "output_type": "stream",
     "text": [
      "71it [03:43,  2.88s/it]"
     ]
    },
    {
     "name": "stdout",
     "output_type": "stream",
     "text": [
      "Platename: Herent_w30_2-30_F10_51 mm_ISO160_1-15 s_IncandescentWB.png\n",
      "9/8 [================================] - 0s 40ms/step\n"
     ]
    },
    {
     "name": "stderr",
     "output_type": "stream",
     "text": [
      "72it [03:45,  2.66s/it]"
     ]
    },
    {
     "name": "stdout",
     "output_type": "stream",
     "text": [
      "Platename: Herent_w30_2-60_F10_51 mm_ISO160_1-15 s_IncandescentWB.png\n",
      "9/8 [================================] - 0s 33ms/step\n"
     ]
    },
    {
     "name": "stderr",
     "output_type": "stream",
     "text": [
      "73it [03:47,  2.48s/it]"
     ]
    },
    {
     "name": "stdout",
     "output_type": "stream",
     "text": [
      "Platename: Herent_w30_2-90_F10_51 mm_ISO160_1-15 s_IncandescentWB.png\n",
      "10/9 [================================] - 0s 43ms/step\n"
     ]
    },
    {
     "name": "stderr",
     "output_type": "stream",
     "text": [
      "74it [03:51,  2.71s/it]"
     ]
    },
    {
     "name": "stdout",
     "output_type": "stream",
     "text": [
      "Platename: Herent_w30_3-30_F10_51 mm_ISO160_1-15 s_IncandescentWB.png\n",
      "10/9 [==============================] - 0s 47ms/step\n"
     ]
    },
    {
     "name": "stderr",
     "output_type": "stream",
     "text": [
      "75it [03:53,  2.61s/it]"
     ]
    },
    {
     "name": "stdout",
     "output_type": "stream",
     "text": [
      "Platename: Herent_w30_3-60_F10_51 mm_ISO160_1-15 s_IncandescentWB.png\n",
      "9/8 [=================================] - 0s 46ms/step\n"
     ]
    },
    {
     "name": "stderr",
     "output_type": "stream",
     "text": [
      "76it [03:56,  2.60s/it]"
     ]
    },
    {
     "name": "stdout",
     "output_type": "stream",
     "text": [
      "Platename: Herent_w30_3-90_F10_51 mm_ISO160_1-15 s_IncandescentWB.png\n",
      "10/9 [================================] - 0s 42ms/step\n"
     ]
    },
    {
     "name": "stderr",
     "output_type": "stream",
     "text": [
      "77it [03:58,  2.50s/it]"
     ]
    },
    {
     "name": "stdout",
     "output_type": "stream",
     "text": [
      "Platename: Herent_w30_4-30_F10_51 mm_ISO160_1-15 s_IncandescentWB.png\n",
      "9/8 [================================] - 0s 45ms/step\n"
     ]
    },
    {
     "name": "stderr",
     "output_type": "stream",
     "text": [
      "78it [04:01,  2.70s/it]"
     ]
    },
    {
     "name": "stdout",
     "output_type": "stream",
     "text": [
      "Platename: Herent_w30_4-60_F10_51 mm_ISO160_1-15 s_IncandescentWB.png\n",
      "10/9 [================================] - 0s 43ms/step\n"
     ]
    },
    {
     "name": "stderr",
     "output_type": "stream",
     "text": [
      "79it [04:04,  2.63s/it]"
     ]
    },
    {
     "name": "stdout",
     "output_type": "stream",
     "text": [
      "Platename: Herent_w30_4-90_F10_51 mm_ISO160_1-15 s_IncandescentWB.png\n",
      "16/15 [===============================] - 1s 41ms/step\n"
     ]
    },
    {
     "name": "stderr",
     "output_type": "stream",
     "text": [
      "80it [04:06,  2.67s/it]"
     ]
    },
    {
     "name": "stdout",
     "output_type": "stream",
     "text": [
      "Platename: Herent_w30_centroid_F10_51 mm_ISO160_1-15 s_IncandescentWB.png\n",
      "2/1 [==================================] - 1s 550ms/step\n"
     ]
    },
    {
     "name": "stderr",
     "output_type": "stream",
     "text": [
      "81it [04:09,  2.71s/it]"
     ]
    },
    {
     "name": "stdout",
     "output_type": "stream",
     "text": [
      "Platename: Merchtem_20200727_A_F10_51 mm_ISO160_1-15 s_IncandescentWB.png\n",
      "5/4 [===============================] - 0s 39ms/step\n"
     ]
    },
    {
     "name": "stderr",
     "output_type": "stream",
     "text": [
      "82it [04:11,  2.50s/it]"
     ]
    },
    {
     "name": "stdout",
     "output_type": "stream",
     "text": [
      "Platename: Merchtem_20200727_B_F10_51 mm_ISO160_1-15 s_IncandescentWB.png\n",
      "8/7 [==============================] - 0s 48ms/step\n"
     ]
    },
    {
     "name": "stderr",
     "output_type": "stream",
     "text": [
      "83it [04:13,  2.44s/it]"
     ]
    },
    {
     "name": "stdout",
     "output_type": "stream",
     "text": [
      "Platename: Merchtem_20200727_C_F10_51 mm_ISO160_1-15 s_IncandescentWB.png\n",
      "6/5 [================================] - 0s 34ms/step\n"
     ]
    },
    {
     "name": "stderr",
     "output_type": "stream",
     "text": [
      "84it [04:15,  2.25s/it]"
     ]
    },
    {
     "name": "stdout",
     "output_type": "stream",
     "text": [
      "Platename: Merchtem_20200728_B1_F10_51 mm_ISO160_1-15 s_IncandescentWB.png\n",
      "15/14 [===============================] - 1s 40ms/step\n"
     ]
    },
    {
     "name": "stderr",
     "output_type": "stream",
     "text": [
      "85it [04:18,  2.34s/it]"
     ]
    },
    {
     "name": "stdout",
     "output_type": "stream",
     "text": [
      "Platename: Merchtem_20200728_B2_F10_51 mm_ISO160_1-15 s_IncandescentWB.png\n",
      "14/14 [==============================] - 1s 42ms/step\n"
     ]
    },
    {
     "name": "stderr",
     "output_type": "stream",
     "text": [
      "86it [04:20,  2.42s/it]"
     ]
    },
    {
     "name": "stdout",
     "output_type": "stream",
     "text": [
      "Platename: Merchtem_20200728_B3_F10_51 mm_ISO160_1-15 s_IncandescentWB.png\n",
      "12/11 [==============================] - 1s 42ms/step\n"
     ]
    },
    {
     "name": "stderr",
     "output_type": "stream",
     "text": [
      "87it [04:23,  2.45s/it]"
     ]
    },
    {
     "name": "stdout",
     "output_type": "stream",
     "text": [
      "Platename: Merchtem_20200728_M1_F10_51 mm_ISO160_1-15 s_IncandescentWB.png\n",
      "6/5 [==================================] - 0s 50ms/step\n"
     ]
    },
    {
     "name": "stderr",
     "output_type": "stream",
     "text": [
      "88it [04:25,  2.48s/it]"
     ]
    },
    {
     "name": "stdout",
     "output_type": "stream",
     "text": [
      "Platename: Merchtem_20200728_M2_F10_51 mm_ISO160_1-15 s_IncandescentWB.png\n",
      "3/2 [================================] - 0s 36ms/step\n"
     ]
    },
    {
     "name": "stderr",
     "output_type": "stream",
     "text": [
      "89it [04:27,  2.27s/it]"
     ]
    },
    {
     "name": "stdout",
     "output_type": "stream",
     "text": [
      "Platename: Merchtem_20200728_M3_F10_51 mm_ISO160_1-15 s_IncandescentWB.png\n",
      "4/3 [==============================] - 0s 54ms/step\n"
     ]
    },
    {
     "name": "stderr",
     "output_type": "stream",
     "text": [
      "90it [04:29,  2.21s/it]"
     ]
    },
    {
     "name": "stdout",
     "output_type": "stream",
     "text": [
      "Platename: Herent_W31_1-30_F10_51 mm_ISO160_1-15 s_incandescent_17.png\n",
      "4/3 [===============================] - 0s 44ms/step\n"
     ]
    },
    {
     "name": "stderr",
     "output_type": "stream",
     "text": [
      "91it [04:31,  2.09s/it]"
     ]
    },
    {
     "name": "stdout",
     "output_type": "stream",
     "text": [
      "Platename: Herent_W31_1-60_F10_51 mm_ISO160_1-15 s_incandescent_27.png\n",
      "10/9 [===============================] - 0s 43ms/step\n"
     ]
    },
    {
     "name": "stderr",
     "output_type": "stream",
     "text": [
      "92it [04:34,  2.24s/it]"
     ]
    },
    {
     "name": "stdout",
     "output_type": "stream",
     "text": [
      "Platename: Herent_W31_1-90_F10_51 mm_ISO160_1-15 s_incandescent_28.png\n",
      "16/15 [==============================] - 1s 41ms/step\n"
     ]
    },
    {
     "name": "stderr",
     "output_type": "stream",
     "text": [
      "93it [04:37,  2.60s/it]"
     ]
    },
    {
     "name": "stdout",
     "output_type": "stream",
     "text": [
      "Platename: Herent_W31_2-30_F10_51 mm_ISO160_1-15 s_incandescent_21.png\n",
      "4/3 [======================================] - 0s 51ms/step\n"
     ]
    },
    {
     "name": "stderr",
     "output_type": "stream",
     "text": [
      "94it [04:39,  2.46s/it]"
     ]
    },
    {
     "name": "stdout",
     "output_type": "stream",
     "text": [
      "Platename: Herent_W31_2-60_F10_51 mm_ISO160_1-15 s_incandescent_22.png\n",
      "7/6 [=================================] - 0s 49ms/step\n"
     ]
    },
    {
     "name": "stderr",
     "output_type": "stream",
     "text": [
      "95it [04:42,  2.65s/it]"
     ]
    },
    {
     "name": "stdout",
     "output_type": "stream",
     "text": [
      "Platename: Herent_W31_2-90_F10_51 mm_ISO160_1-15 s_incandescent_23.png\n",
      "9/8 [================================] - 0s 45ms/step\n"
     ]
    },
    {
     "name": "stderr",
     "output_type": "stream",
     "text": [
      "96it [04:45,  2.54s/it]"
     ]
    },
    {
     "name": "stdout",
     "output_type": "stream",
     "text": [
      "Platename: Herent_W31_3-30_F10_51 mm_ISO160_1-15 s_incandescent_20.png\n",
      "10/9 [================================] - 0s 44ms/step\n"
     ]
    },
    {
     "name": "stderr",
     "output_type": "stream",
     "text": [
      "97it [04:48,  2.88s/it]"
     ]
    },
    {
     "name": "stdout",
     "output_type": "stream",
     "text": [
      "Platename: Herent_W31_3-60_F10_51 mm_ISO160_1-15 s_incandescent_19.png\n",
      "6/5 [=================================] - 0s 52ms/step\n"
     ]
    },
    {
     "name": "stderr",
     "output_type": "stream",
     "text": [
      "98it [04:51,  2.82s/it]"
     ]
    },
    {
     "name": "stdout",
     "output_type": "stream",
     "text": [
      "Platename: Herent_W31_3-90_F10_51 mm_ISO160_1-15 s_incandescent_18.png\n",
      "7/6 [===============================] - 0s 48ms/step\n"
     ]
    },
    {
     "name": "stderr",
     "output_type": "stream",
     "text": [
      "99it [04:53,  2.61s/it]"
     ]
    },
    {
     "name": "stdout",
     "output_type": "stream",
     "text": [
      "Platename: Herent_W31_4-30_F10_51 mm_ISO160_1-15 s_incandescent_26.png\n",
      "4/3 [=================================] - 0s 34ms/step\n"
     ]
    },
    {
     "name": "stderr",
     "output_type": "stream",
     "text": [
      "100it [04:55,  2.32s/it]"
     ]
    },
    {
     "name": "stdout",
     "output_type": "stream",
     "text": [
      "Platename: Herent_W31_4-60_F10_51 mm_ISO160_1-15 s_incandescent_25.png\n",
      "5/4 [===================================] - 0s 50ms/step\n"
     ]
    },
    {
     "name": "stderr",
     "output_type": "stream",
     "text": [
      "101it [04:58,  2.53s/it]"
     ]
    },
    {
     "name": "stdout",
     "output_type": "stream",
     "text": [
      "Platename: Herent_W31_4-90_F10_51 mm_ISO160_1-15 s_incandescent_24.png\n",
      "11/10 [==============================] - 1s 46ms/step\n"
     ]
    },
    {
     "name": "stderr",
     "output_type": "stream",
     "text": [
      "102it [05:00,  2.51s/it]"
     ]
    },
    {
     "name": "stdout",
     "output_type": "stream",
     "text": [
      "Platename: Herent_W31_centroid_F10_51 mm_ISO160_1-15 s_incandescent_29.png\n",
      "2/1 [=====================================================] - 0s 25ms/step\n"
     ]
    },
    {
     "name": "stderr",
     "output_type": "stream",
     "text": [
      "103it [05:02,  2.24s/it]"
     ]
    },
    {
     "name": "stdout",
     "output_type": "stream",
     "text": [
      "Platename: Racour_20200803_A_F10_51 mm_ISO160_1-15 s_incandescent_14.png\n",
      "10/9 [================================] - 0s 45ms/step\n"
     ]
    },
    {
     "name": "stderr",
     "output_type": "stream",
     "text": [
      "104it [05:05,  2.48s/it]"
     ]
    },
    {
     "name": "stdout",
     "output_type": "stream",
     "text": [
      "Platename: Racour_20200803_B_F10_51 mm_ISO160_1-15 s_incandescent_15.png\n",
      "12/11 [================================] - 0s 41ms/step\n"
     ]
    },
    {
     "name": "stderr",
     "output_type": "stream",
     "text": [
      "105it [05:09,  2.87s/it]"
     ]
    },
    {
     "name": "stdout",
     "output_type": "stream",
     "text": [
      "Platename: Racour_20200803_C_F10_51 mm_ISO160_1-15 s_incandescent_16.png\n",
      "11/10 [================================] - 0s 42ms/step\n"
     ]
    },
    {
     "name": "stderr",
     "output_type": "stream",
     "text": [
      "106it [05:11,  2.79s/it]"
     ]
    },
    {
     "name": "stdout",
     "output_type": "stream",
     "text": [
      "Platename: herent_w33_1-30_F10_51 mm_ISO160_1-15 s_IncandescentWB.png\n",
      "7/6 [=================================] - 0s 45ms/step\n"
     ]
    },
    {
     "name": "stderr",
     "output_type": "stream",
     "text": [
      "107it [05:14,  2.93s/it]"
     ]
    },
    {
     "name": "stdout",
     "output_type": "stream",
     "text": [
      "Platename: herent_w33_1-60_F10_51 mm_ISO160_1-15 s_IncandescentWB.png\n",
      "8/7 [=================================] - 0s 46ms/step\n"
     ]
    },
    {
     "name": "stderr",
     "output_type": "stream",
     "text": [
      "108it [05:17,  2.77s/it]"
     ]
    },
    {
     "name": "stdout",
     "output_type": "stream",
     "text": [
      "Platename: herent_w33_1-90_F10_51 mm_ISO160_1-15 s_IncandescentWB.png\n",
      "14/13 [==============================] - 1s 41ms/step\n"
     ]
    },
    {
     "name": "stderr",
     "output_type": "stream",
     "text": [
      "109it [05:20,  2.75s/it]"
     ]
    },
    {
     "name": "stdout",
     "output_type": "stream",
     "text": [
      "Platename: herent_w33_2-30_F10_51 mm_ISO160_1-15 s_IncandescentWB.png\n",
      "7/6 [===============================] - 0s 34ms/step\n"
     ]
    },
    {
     "name": "stderr",
     "output_type": "stream",
     "text": [
      "110it [05:21,  2.50s/it]"
     ]
    },
    {
     "name": "stdout",
     "output_type": "stream",
     "text": [
      "Platename: herent_w33_2-60_F10_51 mm_ISO160_1-15 s_IncandescentWB.png\n",
      "6/5 [==============================] - 0s 34ms/step\n"
     ]
    },
    {
     "name": "stderr",
     "output_type": "stream",
     "text": [
      "111it [05:23,  2.35s/it]"
     ]
    },
    {
     "name": "stdout",
     "output_type": "stream",
     "text": [
      "Platename: herent_w33_2-90_F10_51 mm_ISO160_1-15 s_IncandescentWB.png\n",
      "11/10 [================================] - 0s 41ms/step\n"
     ]
    },
    {
     "name": "stderr",
     "output_type": "stream",
     "text": [
      "112it [05:26,  2.30s/it]"
     ]
    },
    {
     "name": "stdout",
     "output_type": "stream",
     "text": [
      "Platename: herent_w33_3-30_F10_51 mm_ISO160_1-15 s_IncandescentWB.png\n",
      "6/6 [==============================] - 0s 51ms/step\n"
     ]
    },
    {
     "name": "stderr",
     "output_type": "stream",
     "text": [
      "113it [05:29,  2.46s/it]"
     ]
    },
    {
     "name": "stdout",
     "output_type": "stream",
     "text": [
      "Platename: herent_w33_3-60_F10_51 mm_ISO160_1-15 s_IncandescentWB.png\n",
      "6/5 [=================================] - 0s 44ms/step\n"
     ]
    },
    {
     "name": "stderr",
     "output_type": "stream",
     "text": [
      "114it [05:30,  2.30s/it]"
     ]
    },
    {
     "name": "stdout",
     "output_type": "stream",
     "text": [
      "Platename: herent_w33_3-90_F10_51 mm_ISO160_1-15 s_IncandescentWB.png\n",
      "5/4 [==================================] - 0s 54ms/step\n"
     ]
    },
    {
     "name": "stderr",
     "output_type": "stream",
     "text": [
      "115it [05:33,  2.44s/it]"
     ]
    },
    {
     "name": "stdout",
     "output_type": "stream",
     "text": [
      "Platename: herent_w33_4-30_F10_51 mm_ISO160_1-15 s_IncandescentWB.png\n",
      "7/6 [===============================] - 0s 50ms/step\n"
     ]
    },
    {
     "name": "stderr",
     "output_type": "stream",
     "text": [
      "116it [05:36,  2.51s/it]"
     ]
    },
    {
     "name": "stdout",
     "output_type": "stream",
     "text": [
      "Platename: herent_w33_4-60_F10_51 mm_ISO160_1-15 s_IncandescentWB.png\n",
      "7/6 [==============================] - 2s 215ms/step\n"
     ]
    },
    {
     "name": "stderr",
     "output_type": "stream",
     "text": [
      "117it [05:39,  2.83s/it]"
     ]
    },
    {
     "name": "stdout",
     "output_type": "stream",
     "text": [
      "Platename: herent_w33_4-90_F10_51 mm_ISO160_1-15 s_IncandescentWB.png\n",
      "12/11 [==============================] - 1s 44ms/step\n"
     ]
    },
    {
     "name": "stderr",
     "output_type": "stream",
     "text": [
      "118it [05:44,  3.21s/it]"
     ]
    },
    {
     "name": "stdout",
     "output_type": "stream",
     "text": [
      "Platename: herent_w33_centroid_F10_51 mm_ISO160_1-15 s_IncandescentWB.png\n",
      "5/4 [==============================] - 0s 53ms/step\n"
     ]
    },
    {
     "name": "stderr",
     "output_type": "stream",
     "text": [
      "119it [05:46,  2.84s/it]"
     ]
    },
    {
     "name": "stdout",
     "output_type": "stream",
     "text": [
      "Platename: merchtem_20200818_B1_F10_51 mm_ISO160_1-15 s_IncandescentWB.png\n",
      "12/11 [==============================] - 1s 45ms/step\n"
     ]
    },
    {
     "name": "stderr",
     "output_type": "stream",
     "text": [
      "120it [05:49,  3.01s/it]"
     ]
    },
    {
     "name": "stdout",
     "output_type": "stream",
     "text": [
      "Platename: merchtem_20200818_B2_F10_51 mm_ISO160_1-15 s_IncandescentWB.png\n",
      "7/6 [=================================] - 0s 45ms/step\n"
     ]
    },
    {
     "name": "stderr",
     "output_type": "stream",
     "text": [
      "121it [05:51,  2.80s/it]"
     ]
    },
    {
     "name": "stdout",
     "output_type": "stream",
     "text": [
      "Platename: merchtem_20200818_B3_F10_51 mm_ISO160_1-15 s_IncandescentWB.png\n",
      "8/7 [===============================] - 0s 45ms/step\n"
     ]
    },
    {
     "name": "stderr",
     "output_type": "stream",
     "text": [
      "122it [05:54,  2.68s/it]"
     ]
    },
    {
     "name": "stdout",
     "output_type": "stream",
     "text": [
      "Platename: merchtem_20200818_M1_F10_51 mm_ISO160_1-15 s_IncandescentWB.png\n",
      "9/8 [===============================] - 0s 47ms/step\n"
     ]
    },
    {
     "name": "stderr",
     "output_type": "stream",
     "text": [
      "123it [05:57,  2.76s/it]"
     ]
    },
    {
     "name": "stdout",
     "output_type": "stream",
     "text": [
      "Platename: merchtem_20200818_M2_F10_51 mm_ISO160_1-15 s_IncandescentWB.png\n",
      "8/7 [=================================] - 0s 47ms/step\n"
     ]
    },
    {
     "name": "stderr",
     "output_type": "stream",
     "text": [
      "124it [06:00,  2.95s/it]"
     ]
    },
    {
     "name": "stdout",
     "output_type": "stream",
     "text": [
      "Platename: merchtem_20200818_M3_F10_51 mm_ISO160_1-15 s_IncandescentWB.png\n",
      "9/8 [================================] - 0s 45ms/step\n"
     ]
    },
    {
     "name": "stderr",
     "output_type": "stream",
     "text": [
      "125it [06:03,  2.88s/it]"
     ]
    },
    {
     "name": "stdout",
     "output_type": "stream",
     "text": [
      "Platename: racour_20200817_A_F10_51 mm_ISO160_1-15 s_IncandescentWB.png\n",
      "7/6 [==============================] - 0s 47ms/step\n"
     ]
    },
    {
     "name": "stderr",
     "output_type": "stream",
     "text": [
      "126it [06:05,  2.68s/it]"
     ]
    },
    {
     "name": "stdout",
     "output_type": "stream",
     "text": [
      "Platename: racour_20200817_B_F10_51 mm_ISO160_1-15 s_IncandescentWB.png\n",
      "8/7 [================================] - 0s 45ms/step\n"
     ]
    },
    {
     "name": "stderr",
     "output_type": "stream",
     "text": [
      "127it [06:07,  2.61s/it]"
     ]
    },
    {
     "name": "stdout",
     "output_type": "stream",
     "text": [
      "Platename: racour_20200817_C_F10_51 mm_ISO160_1-15 s_IncandescentWB.png\n",
      "7/6 [==================================] - 0s 45ms/step\n"
     ]
    },
    {
     "name": "stderr",
     "output_type": "stream",
     "text": [
      "128it [06:10,  2.76s/it]"
     ]
    },
    {
     "name": "stdout",
     "output_type": "stream",
     "text": [
      "Platename: herent_w34_1-30_F10_51 mm_ISO160_1-15 s_IncandescentWB.png\n",
      "4/3 [===============================] - 0s 52ms/step\n"
     ]
    },
    {
     "name": "stderr",
     "output_type": "stream",
     "text": [
      "129it [06:13,  2.65s/it]"
     ]
    },
    {
     "name": "stdout",
     "output_type": "stream",
     "text": [
      "Platename: herent_w34_1-60_F10_51 mm_ISO160_1-15 s_IncandescentWB.png\n",
      "3/2 [================================] - 0s 44ms/step\n"
     ]
    },
    {
     "name": "stderr",
     "output_type": "stream",
     "text": [
      "130it [06:14,  2.33s/it]"
     ]
    },
    {
     "name": "stdout",
     "output_type": "stream",
     "text": [
      "Platename: herent_w34_1-90_F10_51 mm_ISO160_1-15 s_IncandescentWB.png\n",
      "4/3 [=======================================] - 0s 51ms/step\n"
     ]
    },
    {
     "name": "stderr",
     "output_type": "stream",
     "text": [
      "131it [06:17,  2.26s/it]"
     ]
    },
    {
     "name": "stdout",
     "output_type": "stream",
     "text": [
      "Platename: herent_w34_2-30_F10_51 mm_ISO160_1-15 s_IncandescentWB.png\n",
      "4/3 [===================================] - 0s 52ms/step\n"
     ]
    },
    {
     "name": "stderr",
     "output_type": "stream",
     "text": [
      "132it [06:19,  2.25s/it]"
     ]
    },
    {
     "name": "stdout",
     "output_type": "stream",
     "text": [
      "Platename: herent_w34_2-60_F10_51 mm_ISO160_1-15 s_IncandescentWB.png\n",
      "2/1 [=======================================] - 0s 35ms/step\n"
     ]
    },
    {
     "name": "stderr",
     "output_type": "stream",
     "text": [
      "133it [06:20,  2.09s/it]"
     ]
    },
    {
     "name": "stdout",
     "output_type": "stream",
     "text": [
      "Platename: herent_w34_2-90_F10_51 mm_ISO160_1-15 s_IncandescentWB.png\n",
      "5/4 [================================] - 0s 56ms/step\n"
     ]
    },
    {
     "name": "stderr",
     "output_type": "stream",
     "text": [
      "134it [06:22,  2.04s/it]"
     ]
    },
    {
     "name": "stdout",
     "output_type": "stream",
     "text": [
      "Platename: herent_w34_3-30_F10_51 mm_ISO160_1-15 s_IncandescentWB.png\n",
      "2/1 [==============================] - 0s 60ms/step\n"
     ]
    },
    {
     "name": "stderr",
     "output_type": "stream",
     "text": [
      "135it [06:25,  2.13s/it]"
     ]
    },
    {
     "name": "stdout",
     "output_type": "stream",
     "text": [
      "Platename: herent_w34_3-60_F10_51 mm_ISO160_1-15 s_IncandescentWB.png\n",
      "4/3 [=====================================] - 0s 42ms/step\n"
     ]
    },
    {
     "name": "stderr",
     "output_type": "stream",
     "text": [
      "136it [06:27,  2.07s/it]"
     ]
    },
    {
     "name": "stdout",
     "output_type": "stream",
     "text": [
      "Platename: herent_w34_3-90_F10_51 mm_ISO160_1-15 s_IncandescentWB.png\n",
      "4/3 [==============================] - 0s 43ms/step\n"
     ]
    },
    {
     "name": "stderr",
     "output_type": "stream",
     "text": [
      "137it [06:28,  1.98s/it]"
     ]
    },
    {
     "name": "stdout",
     "output_type": "stream",
     "text": [
      "Platename: herent_w34_4-30_F10_51 mm_ISO160_1-15 s_IncandescentWB.png\n",
      "3/2 [=================================] - 0s 55ms/step\n"
     ]
    },
    {
     "name": "stderr",
     "output_type": "stream",
     "text": [
      "138it [06:31,  2.01s/it]"
     ]
    },
    {
     "name": "stdout",
     "output_type": "stream",
     "text": [
      "Platename: herent_w34_4-60_F10_51 mm_ISO160_1-15 s_IncandescentWB.png\n",
      "5/4 [================================] - 0s 48ms/step\n"
     ]
    },
    {
     "name": "stderr",
     "output_type": "stream",
     "text": [
      "139it [06:33,  2.02s/it]"
     ]
    },
    {
     "name": "stdout",
     "output_type": "stream",
     "text": [
      "Platename: herent_w34_centroid_F10_51 mm_ISO160_1-15 s_IncandescentWB.png\n",
      "1/0 [==============================] - 0s 60ms/step\n"
     ]
    },
    {
     "name": "stderr",
     "output_type": "stream",
     "text": [
      "140it [06:35,  2.20s/it]"
     ]
    },
    {
     "name": "stdout",
     "output_type": "stream",
     "text": [
      "Platename: merchtem_20200825_B1_F10_51 mm_ISO160_1-15 s_IncandescentWB.png\n",
      "4/4 [==============================] - 0s 60ms/step\n"
     ]
    },
    {
     "name": "stderr",
     "output_type": "stream",
     "text": [
      "141it [06:38,  2.41s/it]"
     ]
    },
    {
     "name": "stdout",
     "output_type": "stream",
     "text": [
      "Platename: merchtem_20200825_B2_F10_51 mm_ISO160_1-15 s_IncandescentWB.png\n",
      "8/7 [=================================] - 0s 44ms/step\n"
     ]
    },
    {
     "name": "stderr",
     "output_type": "stream",
     "text": [
      "142it [06:40,  2.40s/it]"
     ]
    },
    {
     "name": "stdout",
     "output_type": "stream",
     "text": [
      "Platename: merchtem_20200825_B3_F10_51 mm_ISO160_1-15 s_IncandescentWB.png\n",
      "9/8 [=================================] - 0s 33ms/step\n"
     ]
    },
    {
     "name": "stderr",
     "output_type": "stream",
     "text": [
      "143it [06:42,  2.28s/it]"
     ]
    },
    {
     "name": "stdout",
     "output_type": "stream",
     "text": [
      "Platename: merchtem_20200825_M1_F10_51 mm_ISO160_1-15 s_IncandescentWB.png\n",
      "3/2 [======================================] - 0s 29ms/step\n"
     ]
    },
    {
     "name": "stderr",
     "output_type": "stream",
     "text": [
      "144it [06:44,  2.11s/it]"
     ]
    },
    {
     "name": "stdout",
     "output_type": "stream",
     "text": [
      "Platename: merchtem_20200825_M2_F10_51 mm_ISO160_1-15 s_IncandescentWB.png\n",
      "2/1 [==================================] - 0s 51ms/step\n"
     ]
    },
    {
     "name": "stderr",
     "output_type": "stream",
     "text": [
      "145it [06:46,  2.11s/it]"
     ]
    },
    {
     "name": "stdout",
     "output_type": "stream",
     "text": [
      "Platename: merchtem_20200825_M3_F10_51 mm_ISO160_1-15 s_IncandescentWB.png\n",
      "2/1 [=================================] - 0s 55ms/step\n"
     ]
    },
    {
     "name": "stderr",
     "output_type": "stream",
     "text": [
      "146it [06:48,  2.04s/it]"
     ]
    },
    {
     "name": "stdout",
     "output_type": "stream",
     "text": [
      "Platename: racour_20200824_A_F10_51 mm_ISO160_1-15 s_IncandescentWB.png\n",
      "6/5 [==================================] - 0s 47ms/step\n"
     ]
    },
    {
     "name": "stderr",
     "output_type": "stream",
     "text": [
      "147it [06:50,  2.12s/it]"
     ]
    },
    {
     "name": "stdout",
     "output_type": "stream",
     "text": [
      "Platename: racour_20200824_B_F10_51 mm_ISO160_1-15 s_IncandescentWB.png\n",
      "4/3 [====================================] - 0s 51ms/step\n"
     ]
    },
    {
     "name": "stderr",
     "output_type": "stream",
     "text": [
      "148it [06:53,  2.21s/it]"
     ]
    },
    {
     "name": "stdout",
     "output_type": "stream",
     "text": [
      "Platename: racour_20200824_C_F10_51 mm_ISO160_1-15 s_IncandescentWB.png\n",
      "4/3 [===================================] - 0s 53ms/step\n"
     ]
    },
    {
     "name": "stderr",
     "output_type": "stream",
     "text": [
      "149it [06:55,  2.21s/it]"
     ]
    },
    {
     "name": "stdout",
     "output_type": "stream",
     "text": [
      "Platename: herent_w35_1-30_F10_51 mm_ISO160_1-15 s_IncandescentWB.png\n",
      "2/1 [==============================] - 0s 60ms/step\n"
     ]
    },
    {
     "name": "stderr",
     "output_type": "stream",
     "text": [
      "150it [06:58,  2.50s/it]"
     ]
    },
    {
     "name": "stdout",
     "output_type": "stream",
     "text": [
      "Platename: herent_w35_1-60_F10_51 mm_ISO160_1-15 s_IncandescentWB.png\n",
      "3/2 [==========================================] - 0s 44ms/step\n"
     ]
    },
    {
     "name": "stderr",
     "output_type": "stream",
     "text": [
      "151it [07:00,  2.34s/it]"
     ]
    },
    {
     "name": "stdout",
     "output_type": "stream",
     "text": [
      "Platename: herent_w35_1-90_F10_51 mm_ISO160_1-15 s_IncandescentWB.png\n",
      "3/2 [===============================] - 0s 59ms/step\n"
     ]
    },
    {
     "name": "stderr",
     "output_type": "stream",
     "text": [
      "152it [07:02,  2.16s/it]"
     ]
    },
    {
     "name": "stdout",
     "output_type": "stream",
     "text": [
      "Platename: herent_w35_2-30_F10_51 mm_ISO160_1-15 s_IncandescentWB.png\n",
      "3/2 [====================================] - 0s 51ms/step\n"
     ]
    },
    {
     "name": "stderr",
     "output_type": "stream",
     "text": [
      "153it [07:04,  2.13s/it]"
     ]
    },
    {
     "name": "stdout",
     "output_type": "stream",
     "text": [
      "Platename: herent_w35_2-60_F10_51 mm_ISO160_1-15 s_IncandescentWB.png\n",
      "3/2 [====================================] - 0s 50ms/step\n"
     ]
    },
    {
     "name": "stderr",
     "output_type": "stream",
     "text": [
      "154it [07:06,  2.08s/it]"
     ]
    },
    {
     "name": "stdout",
     "output_type": "stream",
     "text": [
      "Platename: herent_w35_2-90_F10_51 mm_ISO160_1-15 s_IncandescentWB.png\n",
      "3/2 [====================================] - 0s 53ms/step\n"
     ]
    },
    {
     "name": "stderr",
     "output_type": "stream",
     "text": [
      "155it [07:08,  2.09s/it]"
     ]
    },
    {
     "name": "stdout",
     "output_type": "stream",
     "text": [
      "Platename: herent_w35_3-30_F10_51 mm_ISO160_1-15 s_IncandescentWB.png\n",
      "3/2 [===============================] - 0s 43ms/step\n"
     ]
    },
    {
     "name": "stderr",
     "output_type": "stream",
     "text": [
      "156it [07:10,  2.01s/it]"
     ]
    },
    {
     "name": "stdout",
     "output_type": "stream",
     "text": [
      "Platename: herent_w35_3-60_F10_51 mm_ISO160_1-15 s_IncandescentWB.png\n",
      "3/2 [====================================] - 0s 52ms/step\n"
     ]
    },
    {
     "name": "stderr",
     "output_type": "stream",
     "text": [
      "157it [07:12,  2.04s/it]"
     ]
    },
    {
     "name": "stdout",
     "output_type": "stream",
     "text": [
      "Platename: herent_w35_3-90_F10_51 mm_ISO160_1-15 s_IncandescentWB.png\n",
      "3/2 [=======================================] - 0s 49ms/step\n"
     ]
    },
    {
     "name": "stderr",
     "output_type": "stream",
     "text": [
      "158it [07:14,  2.01s/it]"
     ]
    },
    {
     "name": "stdout",
     "output_type": "stream",
     "text": [
      "Platename: herent_w35_4-30_F10_51 mm_ISO160_1-15 s_IncandescentWB.png\n",
      "3/2 [========================================] - 0s 49ms/step\n"
     ]
    },
    {
     "name": "stderr",
     "output_type": "stream",
     "text": [
      "159it [07:16,  2.09s/it]"
     ]
    },
    {
     "name": "stdout",
     "output_type": "stream",
     "text": [
      "Platename: herent_w35_4-60_F10_51 mm_ISO160_1-15 s_IncandescentWB.png\n",
      "3/2 [==================================] - 0s 53ms/step\n"
     ]
    },
    {
     "name": "stderr",
     "output_type": "stream",
     "text": [
      "160it [07:18,  1.96s/it]"
     ]
    },
    {
     "name": "stdout",
     "output_type": "stream",
     "text": [
      "Platename: herent_w35_4-90_F10_51 mm_ISO160_1-15 s_IncandescentWB.png\n",
      "3/2 [===================================] - 0s 50ms/step\n"
     ]
    },
    {
     "name": "stderr",
     "output_type": "stream",
     "text": [
      "161it [07:20,  1.94s/it]"
     ]
    },
    {
     "name": "stdout",
     "output_type": "stream",
     "text": [
      "Platename: herent_w35_centroid_F10_51 mm_ISO160_1-15 s_IncandescentWB.png\n",
      "2/1 [===================================] - 0s 53ms/step\n"
     ]
    },
    {
     "name": "stderr",
     "output_type": "stream",
     "text": [
      "162it [07:22,  1.97s/it]"
     ]
    },
    {
     "name": "stdout",
     "output_type": "stream",
     "text": [
      "Platename: merchtem_20200901_B1_F10_51 mm_ISO160_1-15 s_IncandescentWB.png\n",
      "7/6 [=================================] - 0s 50ms/step\n"
     ]
    },
    {
     "name": "stderr",
     "output_type": "stream",
     "text": [
      "163it [07:25,  2.28s/it]"
     ]
    },
    {
     "name": "stdout",
     "output_type": "stream",
     "text": [
      "Platename: merchtem_20200901_B2_F10_51 mm_ISO160_1-15 s_IncandescentWB.png\n",
      "7/6 [=================================] - 0s 33ms/step\n"
     ]
    },
    {
     "name": "stderr",
     "output_type": "stream",
     "text": [
      "164it [07:27,  2.17s/it]"
     ]
    },
    {
     "name": "stdout",
     "output_type": "stream",
     "text": [
      "Platename: merchtem_20200901_B3_F10_51 mm_ISO160_1-15 s_IncandescentWB.png\n",
      "5/4 [====================================] - 0s 51ms/step\n"
     ]
    },
    {
     "name": "stderr",
     "output_type": "stream",
     "text": [
      "165it [07:29,  2.27s/it]"
     ]
    },
    {
     "name": "stdout",
     "output_type": "stream",
     "text": [
      "Platename: merchtem_20200901_M1_F10_51 mm_ISO160_1-15 s_IncandescentWB.png\n",
      "2/1 [===================================] - 0s 53ms/step\n"
     ]
    },
    {
     "name": "stderr",
     "output_type": "stream",
     "text": [
      "166it [07:31,  2.17s/it]"
     ]
    },
    {
     "name": "stdout",
     "output_type": "stream",
     "text": [
      "Platename: merchtem_20200901_M2_F10_51 mm_ISO160_1-15 s_IncandescentWB.png\n",
      "2/1 [====================================] - 0s 52ms/step\n"
     ]
    },
    {
     "name": "stderr",
     "output_type": "stream",
     "text": [
      "167it [07:34,  2.23s/it]"
     ]
    },
    {
     "name": "stdout",
     "output_type": "stream",
     "text": [
      "Platename: merchtem_20200901_M3_F10_51 mm_ISO160_1-15 s_IncandescentWB.png\n",
      "2/1 [======================================] - 0s 51ms/step\n"
     ]
    },
    {
     "name": "stderr",
     "output_type": "stream",
     "text": [
      "168it [07:36,  2.37s/it]"
     ]
    },
    {
     "name": "stdout",
     "output_type": "stream",
     "text": [
      "Platename: racour_20200831_A_F10_51 mm_ISO160_1-15 s_IncandescentWB.png\n",
      "2/1 [====================================] - 0s 51ms/step\n"
     ]
    },
    {
     "name": "stderr",
     "output_type": "stream",
     "text": [
      "169it [07:40,  2.75s/it]"
     ]
    },
    {
     "name": "stdout",
     "output_type": "stream",
     "text": [
      "Platename: racour_20200831_B_F10_51 mm_ISO160_1-15 s_IncandescentWB.png\n",
      "3/2 [======================================] - 0s 50ms/step\n"
     ]
    },
    {
     "name": "stderr",
     "output_type": "stream",
     "text": [
      "170it [07:43,  2.83s/it]"
     ]
    },
    {
     "name": "stdout",
     "output_type": "stream",
     "text": [
      "Platename: racour_20200831_C_upsidedownonfield_F10_51 mm_ISO160_1-15 s_IncandescentWB.png\n",
      "2/1 [=======================================] - 0s 47ms/step\n"
     ]
    },
    {
     "name": "stderr",
     "output_type": "stream",
     "text": [
      "171it [07:45,  2.47s/it]"
     ]
    },
    {
     "name": "stdout",
     "output_type": "stream",
     "text": [
      "Platename: herent_w36_1-30_F10_51 mm_ISO160_1-15 s_IncandescentWB.png\n",
      "2/1 [==================================] - 0s 53ms/step\n"
     ]
    },
    {
     "name": "stderr",
     "output_type": "stream",
     "text": [
      "172it [07:47,  2.35s/it]"
     ]
    },
    {
     "name": "stdout",
     "output_type": "stream",
     "text": [
      "Platename: herent_w36_1-60_F10_51 mm_ISO160_1-15 s_IncandescentWB.png\n",
      "4/3 [=====================================] - 0s 51ms/step\n"
     ]
    },
    {
     "name": "stderr",
     "output_type": "stream",
     "text": [
      "173it [07:49,  2.26s/it]"
     ]
    },
    {
     "name": "stdout",
     "output_type": "stream",
     "text": [
      "Platename: herent_w36_1-90_F10_51 mm_ISO160_1-15 s_IncandescentWB.png\n",
      "6/5 [=================================] - 0s 53ms/step\n"
     ]
    },
    {
     "name": "stderr",
     "output_type": "stream",
     "text": [
      "174it [07:51,  2.32s/it]"
     ]
    },
    {
     "name": "stdout",
     "output_type": "stream",
     "text": [
      "Platename: herent_w36_2-30_F10_51 mm_ISO160_1-15 s_IncandescentWB.png\n",
      "3/2 [==========================================] - 0s 47ms/step\n"
     ]
    },
    {
     "name": "stderr",
     "output_type": "stream",
     "text": [
      "175it [07:54,  2.33s/it]"
     ]
    },
    {
     "name": "stdout",
     "output_type": "stream",
     "text": [
      "Platename: herent_w36_2-60_F10_51 mm_ISO160_1-15 s_IncandescentWB.png\n",
      "3/2 [==========================================] - 0s 46ms/step\n"
     ]
    },
    {
     "name": "stderr",
     "output_type": "stream",
     "text": [
      "176it [07:56,  2.51s/it]"
     ]
    },
    {
     "name": "stdout",
     "output_type": "stream",
     "text": [
      "Platename: herent_w36_2-90_F10_51 mm_ISO160_1-15 s_IncandescentWB.png\n",
      "3/2 [==============================] - 0s 58ms/step\n"
     ]
    },
    {
     "name": "stderr",
     "output_type": "stream",
     "text": [
      "177it [07:59,  2.39s/it]"
     ]
    },
    {
     "name": "stdout",
     "output_type": "stream",
     "text": [
      "Platename: herent_w36_3-30_F10_51 mm_ISO160_1-15 s_IncandescentWB.png\n",
      "4/3 [======================================] - 0s 48ms/step\n"
     ]
    },
    {
     "name": "stderr",
     "output_type": "stream",
     "text": [
      "178it [08:01,  2.53s/it]"
     ]
    },
    {
     "name": "stdout",
     "output_type": "stream",
     "text": [
      "Platename: herent_w36_3-60_F10_51 mm_ISO160_1-15 s_IncandescentWB.png\n",
      "3/2 [========================================] - 0s 49ms/step\n"
     ]
    },
    {
     "name": "stderr",
     "output_type": "stream",
     "text": [
      "179it [08:04,  2.50s/it]"
     ]
    },
    {
     "name": "stdout",
     "output_type": "stream",
     "text": [
      "Platename: herent_w36_3-90_F10_51 mm_ISO160_1-15 s_IncandescentWB.png\n",
      "3/2 [================================] - 0s 57ms/step\n"
     ]
    },
    {
     "name": "stderr",
     "output_type": "stream",
     "text": [
      "180it [08:06,  2.37s/it]"
     ]
    },
    {
     "name": "stdout",
     "output_type": "stream",
     "text": [
      "Platename: herent_w36_4-30_F10_51 mm_ISO160_1-15 s_IncandescentWB.png\n",
      "3/2 [=================================] - 0s 46ms/step\n"
     ]
    },
    {
     "name": "stderr",
     "output_type": "stream",
     "text": [
      "181it [08:08,  2.14s/it]"
     ]
    },
    {
     "name": "stdout",
     "output_type": "stream",
     "text": [
      "Platename: herent_w36_4-60_F10_51 mm_ISO160_1-15 s_IncandescentWB.png\n",
      "3/2 [======================================] - 0s 34ms/step\n"
     ]
    },
    {
     "name": "stderr",
     "output_type": "stream",
     "text": [
      "182it [08:09,  2.03s/it]"
     ]
    },
    {
     "name": "stdout",
     "output_type": "stream",
     "text": [
      "Platename: herent_w36_4-90_F10_51 mm_ISO160_1-15 s_IncandescentWB.png\n",
      "5/4 [===================================] - 0s 35ms/step\n"
     ]
    },
    {
     "name": "stderr",
     "output_type": "stream",
     "text": [
      "183it [08:11,  1.98s/it]"
     ]
    },
    {
     "name": "stdout",
     "output_type": "stream",
     "text": [
      "Platename: herent_w36_centroid_F10_51 mm_ISO160_1-15 s_IncandescentWB.png\n",
      "2/1 [=======================================] - 0s 30ms/step\n"
     ]
    },
    {
     "name": "stderr",
     "output_type": "stream",
     "text": [
      "184it [08:13,  1.84s/it]"
     ]
    },
    {
     "name": "stdout",
     "output_type": "stream",
     "text": [
      "Platename: merchtem_20200908_B1_F10_51 mm_ISO160_1-15 s_IncandescentWB.png\n",
      "5/4 [====================================] - 0s 51ms/step\n"
     ]
    },
    {
     "name": "stderr",
     "output_type": "stream",
     "text": [
      "185it [08:15,  1.93s/it]"
     ]
    },
    {
     "name": "stdout",
     "output_type": "stream",
     "text": [
      "Platename: merchtem_20200908_B2_F10_51 mm_ISO160_1-15 s_IncandescentWB.png\n",
      "8/7 [================================] - 0s 37ms/step\n"
     ]
    },
    {
     "name": "stderr",
     "output_type": "stream",
     "text": [
      "186it [08:17,  1.96s/it]"
     ]
    },
    {
     "name": "stdout",
     "output_type": "stream",
     "text": [
      "Platename: merchtem_20200908_B3_F10_51 mm_ISO160_1-15 s_IncandescentWB.png\n",
      "9/8 [===============================] - 0s 41ms/step\n"
     ]
    },
    {
     "name": "stderr",
     "output_type": "stream",
     "text": [
      "187it [08:19,  2.01s/it]"
     ]
    },
    {
     "name": "stdout",
     "output_type": "stream",
     "text": [
      "Platename: merchtem_20200908_M1_F10_51 mm_ISO160_1-15 s_IncandescentWB.png\n",
      "3/2 [====================================] - 0s 51ms/step\n"
     ]
    },
    {
     "name": "stderr",
     "output_type": "stream",
     "text": [
      "188it [08:21,  2.14s/it]"
     ]
    },
    {
     "name": "stdout",
     "output_type": "stream",
     "text": [
      "Platename: merchtem_20200908_M2_F10_51 mm_ISO160_1-15 s_IncandescentWB.png\n",
      "3/2 [========================================] - 0s 49ms/step\n"
     ]
    },
    {
     "name": "stderr",
     "output_type": "stream",
     "text": [
      "189it [08:24,  2.26s/it]"
     ]
    },
    {
     "name": "stdout",
     "output_type": "stream",
     "text": [
      "Platename: merchtem_20200908_M3_F10_51 mm_ISO160_1-15 s_IncandescentWB.png\n",
      "2/1 [==================================] - 0s 53ms/step\n"
     ]
    },
    {
     "name": "stderr",
     "output_type": "stream",
     "text": [
      "190it [08:26,  2.07s/it]"
     ]
    },
    {
     "name": "stdout",
     "output_type": "stream",
     "text": [
      "Platename: racour_20200907_A_F10_51 mm_ISO160_1-15 s_IncandescentWB.png\n",
      "4/3 [======================================] - 0s 45ms/step\n"
     ]
    },
    {
     "name": "stderr",
     "output_type": "stream",
     "text": [
      "191it [08:27,  2.03s/it]"
     ]
    },
    {
     "name": "stdout",
     "output_type": "stream",
     "text": [
      "Platename: racour_20200907_B_F10_51 mm_ISO160_1-15 s_IncandescentWB.png\n",
      "4/3 [=====================================] - 0s 39ms/step\n"
     ]
    },
    {
     "name": "stderr",
     "output_type": "stream",
     "text": [
      "192it [08:29,  1.95s/it]"
     ]
    },
    {
     "name": "stdout",
     "output_type": "stream",
     "text": [
      "Platename: racour_20200907_C_F10_51 mm_ISO160_1-15 s_IncandescentWB.png\n",
      "3/3 [==============================] - 0s 60ms/step\n"
     ]
    },
    {
     "name": "stderr",
     "output_type": "stream",
     "text": [
      "193it [08:31,  2.01s/it]"
     ]
    },
    {
     "name": "stdout",
     "output_type": "stream",
     "text": [
      "Platename: herent_w37_1-30_F10_51 mm_ISO160_1-15 s_IncandescentWB.png\n",
      "2/2 [==============================] - 0s 60ms/step\n"
     ]
    },
    {
     "name": "stderr",
     "output_type": "stream",
     "text": [
      "194it [08:34,  2.25s/it]"
     ]
    },
    {
     "name": "stdout",
     "output_type": "stream",
     "text": [
      "Platename: herent_w37_1-60_F10_51 mm_ISO160_1-15 s_IncandescentWB.png\n",
      "4/3 [================================] - 0s 53ms/step\n"
     ]
    },
    {
     "name": "stderr",
     "output_type": "stream",
     "text": [
      "195it [08:37,  2.40s/it]"
     ]
    },
    {
     "name": "stdout",
     "output_type": "stream",
     "text": [
      "Platename: herent_w37_1-90_F10_51 mm_ISO160_1-15 s_IncandescentWB.png\n",
      "5/4 [===================================] - 0s 51ms/step\n"
     ]
    },
    {
     "name": "stderr",
     "output_type": "stream",
     "text": [
      "196it [08:40,  2.62s/it]"
     ]
    },
    {
     "name": "stdout",
     "output_type": "stream",
     "text": [
      "Platename: herent_w37_2-30_F10_51 mm_ISO160_1-15 s_IncandescentWB.png\n",
      "3/2 [=================================] - 0s 55ms/step\n"
     ]
    },
    {
     "name": "stderr",
     "output_type": "stream",
     "text": [
      "197it [08:42,  2.53s/it]"
     ]
    },
    {
     "name": "stdout",
     "output_type": "stream",
     "text": [
      "Platename: herent_w37_2-60_F10_51 mm_ISO160_1-15 s_IncandescentWB.png\n",
      "3/2 [====================================] - 0s 43ms/step\n"
     ]
    },
    {
     "name": "stderr",
     "output_type": "stream",
     "text": [
      "198it [08:44,  2.30s/it]"
     ]
    },
    {
     "name": "stdout",
     "output_type": "stream",
     "text": [
      "Platename: herent_w37_2-90_F10_51 mm_ISO160_1-15 s_IncandescentWB.png\n",
      "3/2 [=================================] - 0s 55ms/step\n"
     ]
    },
    {
     "name": "stderr",
     "output_type": "stream",
     "text": [
      "199it [08:46,  2.10s/it]"
     ]
    },
    {
     "name": "stdout",
     "output_type": "stream",
     "text": [
      "Platename: herent_w37_3-30_F10_51 mm_ISO160_1-15 s_IncandescentWB.png\n",
      "3/2 [================================] - 0s 45ms/step\n"
     ]
    },
    {
     "name": "stderr",
     "output_type": "stream",
     "text": [
      "200it [08:48,  1.98s/it]"
     ]
    },
    {
     "name": "stdout",
     "output_type": "stream",
     "text": [
      "Platename: herent_w37_3-60_F10_51 mm_ISO160_1-15 s_IncandescentWB.png\n",
      "3/2 [======================================] - 0s 34ms/step\n"
     ]
    },
    {
     "name": "stderr",
     "output_type": "stream",
     "text": [
      "201it [08:49,  1.86s/it]"
     ]
    },
    {
     "name": "stdout",
     "output_type": "stream",
     "text": [
      "Platename: herent_w37_3-90_F10_51 mm_ISO160_1-15 s_IncandescentWB.png\n",
      "4/3 [================================] - 0s 56ms/step\n"
     ]
    },
    {
     "name": "stderr",
     "output_type": "stream",
     "text": [
      "202it [08:52,  2.25s/it]"
     ]
    },
    {
     "name": "stdout",
     "output_type": "stream",
     "text": [
      "Platename: herent_w37_4-30_F10_51 mm_ISO160_1-15 s_IncandescentWB.png\n",
      "3/2 [=====================================] - 0s 50ms/step\n"
     ]
    },
    {
     "name": "stderr",
     "output_type": "stream",
     "text": [
      "203it [08:54,  2.19s/it]"
     ]
    },
    {
     "name": "stdout",
     "output_type": "stream",
     "text": [
      "Platename: herent_w37_4-60_F10_51 mm_ISO160_1-15 s_IncandescentWB.png\n",
      "3/2 [=================================] - 0s 39ms/step\n"
     ]
    },
    {
     "name": "stderr",
     "output_type": "stream",
     "text": [
      "204it [08:56,  2.07s/it]"
     ]
    },
    {
     "name": "stdout",
     "output_type": "stream",
     "text": [
      "Platename: herent_w37_4-90_F10_51 mm_ISO160_1-15 s_IncandescentWB.png\n",
      "5/4 [=================================] - 0s 35ms/step\n"
     ]
    },
    {
     "name": "stderr",
     "output_type": "stream",
     "text": [
      "205it [08:58,  1.99s/it]"
     ]
    },
    {
     "name": "stdout",
     "output_type": "stream",
     "text": [
      "Platename: herent_w37_centroid_F10_51 mm_ISO160_1-15 s_IncandescentWB.png\n",
      "3/2 [========================================] - 0s 29ms/step\n"
     ]
    },
    {
     "name": "stderr",
     "output_type": "stream",
     "text": [
      "206it [09:00,  1.94s/it]"
     ]
    },
    {
     "name": "stdout",
     "output_type": "stream",
     "text": [
      "Platename: merchtem_20200915_M1_F10_51 mm_ISO160_1-15 s_IncandescentWB.png\n",
      "3/2 [=================================] - 0s 46ms/step\n"
     ]
    },
    {
     "name": "stderr",
     "output_type": "stream",
     "text": [
      "207it [09:01,  1.87s/it]"
     ]
    },
    {
     "name": "stdout",
     "output_type": "stream",
     "text": [
      "Platename: merchtem_20200915_M2_F10_51 mm_ISO160_1-15 s_IncandescentWB.png\n",
      "3/2 [=================================] - 0s 54ms/step\n"
     ]
    },
    {
     "name": "stderr",
     "output_type": "stream",
     "text": [
      "208it [09:04,  1.98s/it]"
     ]
    },
    {
     "name": "stdout",
     "output_type": "stream",
     "text": [
      "Platename: merchtem_20200915_M3_F10_51 mm_ISO160_1-15 s_IncandescentWB.png\n",
      "3/2 [===============================] - 0s 57ms/step\n"
     ]
    },
    {
     "name": "stderr",
     "output_type": "stream",
     "text": [
      "209it [09:06,  2.14s/it]"
     ]
    },
    {
     "name": "stdout",
     "output_type": "stream",
     "text": [
      "Platename: racour_20200914_A_F10_51 mm_ISO160_1-15 s_IncandescentWB.png\n",
      "7/6 [================================] - 0s 48ms/step\n"
     ]
    },
    {
     "name": "stderr",
     "output_type": "stream",
     "text": [
      "210it [09:11,  2.85s/it]"
     ]
    },
    {
     "name": "stdout",
     "output_type": "stream",
     "text": [
      "Platename: racour_20200914_B_F10_51 mm_ISO160_1-15 s_IncandescentWB.png\n",
      "5/4 [==================================] - 0s 53ms/step\n"
     ]
    },
    {
     "name": "stderr",
     "output_type": "stream",
     "text": [
      "211it [09:13,  2.80s/it]"
     ]
    },
    {
     "name": "stdout",
     "output_type": "stream",
     "text": [
      "Platename: racour_20200914_C_F10_51 mm_ISO160_1-15 s_IncandescentWB.png\n",
      "4/3 [=================================] - 0s 36ms/step\n"
     ]
    },
    {
     "name": "stderr",
     "output_type": "stream",
     "text": [
      "212it [09:15,  2.62s/it]"
     ]
    },
    {
     "name": "stdout",
     "output_type": "stream",
     "text": [
      "path images: /home/kalfasyan/data/images/sticky_plates//created_data/images/\n",
      "path voc annotations: /home/kalfasyan/data/images/sticky_plates//created_data/voc_annotations/\n"
     ]
    },
    {
     "name": "stderr",
     "output_type": "stream",
     "text": [
      "\n"
     ]
    }
   ],
   "source": [
    "# Loop through all plates and nested loop through all insects in the plates\n",
    "for p, platename in tqdm(enumerate(plates)):\n",
    "\n",
    "    # Defining the platename\n",
    "    pname = platename.split('/')[-1][:-4] \n",
    "    if 'empty' in pname:\n",
    "        continue\n",
    "\n",
    "    # Reading the plate image\n",
    "    plate_img = read_plate(platename) \n",
    "    H,W,_ = plate_img.shape\n",
    "\n",
    "    # Reading the specifications of the plate\n",
    "    spec = pd.read_csv(plates[p][:-4] + '.txt', sep=\"\\t\") \n",
    "    # Fetching column names (only needed once)\n",
    "    if p == 0: \n",
    "        columns = [ii for ii in spec.columns if ii.endswith('.1')]\n",
    "        colextensions = ['index', 'name plate', 'R','G','B']\n",
    "        columns.extend(colextensions) # adding extra columns\n",
    "    spec = spec[columns]\n",
    "    spec.rename(columns={'index': 'insect_idx'}, inplace=True)\n",
    "    spec.dropna(axis=0, how='any', inplace=True)\n",
    "\n",
    "    # # ADDING YOLO AND HUMAN-READABLE ANNOTATION TO COLUMNS\n",
    "    # cmap = class_map[class_map['platename'] == pname].drop_duplicates(subset='idx', keep='first')\n",
    "    # sub_map = cmap[['idx','class_encoded']].set_index('idx')\n",
    "    # sub_map2 = cmap[['idx','class']].set_index('idx')\n",
    "    # spec['yolo_class'] = sub_map\n",
    "    # spec['normal_class'] = sub_map2\n",
    "\n",
    "    # Replacing commas from labview columns with dots\n",
    "    for col in labview_cols:\n",
    "        if spec[col].dtype not in [pd.np.dtype('float64')]:\n",
    "            spec[col] = spec[col].str.replace(\",\",\".\").astype(float)\n",
    "\n",
    "    print(f\"Platename: {platename.split('/')[-1]}\")\n",
    "    spec['pname'] = pname\n",
    "    # Making extracted boxes squares (to avoid distortions in future resizing)\n",
    "    spec['width'] = 150\n",
    "    spec['height'] = 150\n",
    "\n",
    "    # Creating specifications according to 'YOLO' format\n",
    "    spec['yolo_x'] = np.abs(spec['Bounding Rect Right.1'] - np.abs(spec['Bounding Rect Left.1'] - spec['Bounding Rect Right.1']) /2) / W\n",
    "    spec['yolo_y'] = np.abs(spec['Bounding Rect Bottom.1'] - np.abs(spec['Bounding Rect Top.1'] - spec['Bounding Rect Bottom.1']) /2) / H\n",
    "    spec['yolo_width'] = pd.concat([spec['width'], spec['height']], axis=1).max(axis=1) / W \n",
    "    spec['yolo_height'] = pd.concat([spec['width'], spec['height']], axis=1).max(axis=1) / H\n",
    "\n",
    "    ann_full_new = os.path.join( path_annotations , f\"{pname}.txt\" )\n",
    "    img_full_new = os.path.join( path_images , pname ) + '.jpg'\n",
    "\n",
    "    # SAVING IMAGES\n",
    "    if not os.path.isfile( img_full_new ):\n",
    "        cv2.imwrite(img_full_new, plate_img)\n",
    "\n",
    "    if save_extractions:\n",
    "        spec['normal_class'] = f\"{platename.split('/')[-4]}/{pname}\"\n",
    "        spec['yolo_class'] = 0\n",
    "        spec['year'] = 2020\n",
    "        save_insect_crops(spec, path_crops_export, plate_img)\n",
    "\n",
    "        pltnames = pd.Series(os.listdir(f\"{path_crops_export}/{platename.split('/')[-4]}/{pname}/\"))\n",
    "        ser = pltnames.apply(lambda x: f\"{path_crops_export}/{platename.split('/')[-4]}/{pname}/{x}\")\n",
    "        y = [0 for i in range(len(ser))]\n",
    "        \n",
    "        pred = model.predict(valid_generator(ser.tolist(), y, batch_size=batch_size, nb_classes=nb_classes, img_dim=img_dim), \n",
    "                         steps= len(ser.tolist()) / batch_size, \n",
    "                         verbose=1)\n",
    "        spec['possible_wmv'] = (np.round(pred[:,-1],decimals=2) * 100).astype(int)\n",
    "        spec['possible_wmv'] = spec['possible_wmv'].apply(lambda x: \"\" if x<51 else f\"wmv?\")#_{x}%\")\n",
    "        spec['Klasse'] = ' '\n",
    "\n",
    "    spec = spec[['pname','insect_idx','Klasse','possible_wmv']]\n",
    "    spec.rename(columns={'pname': 'name plate', 'insect_idx': 'index'}, inplace=True)\n",
    "    \n",
    "    savedir = f\"{path_crops_export}/{platename.split('/')[-4]}\"\n",
    "    if not os.path.isdir(savedir):\n",
    "        os.makedirs(savedir)\n",
    "    spec.to_csv(f\"{savedir}/{pname}_specs.csv\")\n",
    "    all_specs.append(spec)\n",
    "\n",
    "df_specs = pd.concat(all_specs, axis=0)\n",
    "\n",
    "# SAVING DATAFRAMES WITH STATISTICS REGARDING THE PLATES AND BOUNDING BOXES\n",
    "df_specs.to_csv(f'{created_data_path}/df_specs.csv')\n",
    "print(f\"path images: {path_images}\")\n",
    "print(f\"path voc annotations: {path_voc_annotations}\")"
   ]
  },
  {
   "cell_type": "code",
   "execution_count": 42,
   "metadata": {},
   "outputs": [],
   "source": [
    "df_specs.to_csv(\"/home/kalfasyan/data/NEW_all_plates_together.csv\")"
   ]
  },
  {
   "cell_type": "code",
   "execution_count": 48,
   "metadata": {},
   "outputs": [
    {
     "data": {
      "text/plain": [
       "(116, 10)"
      ]
     },
     "execution_count": 48,
     "metadata": {},
     "output_type": "execute_result"
    }
   ],
   "source": [
    "# (np.round(pred[:,-1],decimals=2) * 100).astype(int)\n",
    "pred.shape"
   ]
  }
 ],
 "metadata": {
  "kernelspec": {
   "display_name": "Python 3.7.8 64-bit ('objdetect': conda)",
   "language": "python",
   "name": "python37864bitobjdetectconda8045af5fdfef4ca9b47f908473881f2a"
  },
  "language_info": {
   "codemirror_mode": {
    "name": "ipython",
    "version": 3
   },
   "file_extension": ".py",
   "mimetype": "text/x-python",
   "name": "python",
   "nbconvert_exporter": "python",
   "pygments_lexer": "ipython3",
   "version": "3.7.8"
  }
 },
 "nbformat": 4,
 "nbformat_minor": 4
}
