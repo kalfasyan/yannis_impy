{
 "cells": [
  {
   "cell_type": "code",
   "execution_count": 1,
   "metadata": {},
   "outputs": [],
   "source": [
    "%reset -f\n",
    "# import the necessary packages\n",
    "from tensorflow.keras.models import Sequential, Model\n",
    "from tensorflow.keras.layers import Conv2D, MaxPooling2D, Activation, Flatten, Dense, GlobalAveragePooling2D, Dropout\n",
    "from tensorflow.keras import backend as K\n",
    "from tensorflow.keras.callbacks import ModelCheckpoint, TensorBoard, EarlyStopping, ReduceLROnPlateau, CSVLogger\n",
    "from tensorflow.keras.applications.vgg16 import VGG16\n",
    "from tensorflow.keras.applications.inception_v3 import InceptionV3\n",
    "from tensorflow.keras.applications.densenet import DenseNet121, DenseNet201\n",
    "from tensorflow.keras.preprocessing.image import ImageDataGenerator\n",
    "from tensorflow.keras.optimizers import Adam\n",
    "from sklearn.model_selection import train_test_split\n",
    "from tensorflow.keras.utils import to_categorical\n",
    "from sklearn.metrics import confusion_matrix, balanced_accuracy_score\n",
    "import seaborn as sns\n",
    "from sklearn import preprocessing\n",
    "from sklearn.utils import shuffle\n",
    "from sklearn.preprocessing import LabelEncoder\n",
    "import matplotlib.pyplot as plt\n",
    "import pandas as pd\n",
    "import numpy as np\n",
    "import argparse\n",
    "import random\n",
    "import cv2, glob\n",
    "import os\n",
    "import numpy as np\n",
    "seed = 42\n",
    "np.random.seed(seed)\n",
    "import os, shutil, glob, cv2, sys, argparse\n",
    "from natsort import natsorted\n",
    "from insectrec.utils import *\n",
    "from tqdm import tqdm\n",
    "# sns.set()\n",
    "seed = 42\n",
    "np.random.seed(seed)\n",
    "batch_size = 32\n",
    "nb_classes = 9\n",
    "\n",
    "created_data_path = '/home/kalfasyan/data/images/sticky_plates/created_data'\n",
    "path_impy_crops_export = f'{created_data_path}/impy_crops_export/'\n",
    "path_images_augmented = f'{created_data_path}/images_augmented/'\n",
    "img_dim = 150\n",
    "modelname = 'model_platebased_DENSE121_dropout05_150.h5'\n",
    "\n",
    "from tensorflow.keras.applications import NASNetLarge\n",
    "\n",
    "base_model = DenseNet121(include_top=False, weights=None, \n",
    "                         input_shape=(img_dim,img_dim,3))\n",
    "x = base_model.output\n",
    "x = GlobalAveragePooling2D()(x)\n",
    "x = Dropout(0.5)(x)\n",
    "predictions = Dense(nb_classes, activation='softmax')(x)\n",
    "model = Model(inputs=base_model.input, outputs=predictions)\n",
    "# model.summary()\n",
    "\n",
    "import math\n",
    "top_weights_path = f\"{created_data_path}/weights/{modelname}\"\n",
    "model.load_weights(top_weights_path)\n",
    "model.compile(optimizer='adam', loss='categorical_crossentropy', metrics=['accuracy'])"
   ]
  },
  {
   "cell_type": "code",
   "execution_count": 2,
   "metadata": {},
   "outputs": [],
   "source": [
    "# pred = model.predict(valid_generator(X_test, y_test, batch_size=batch_size, nb_classes=nb_classes, img_dim=img_dim), \n",
    "#                          steps= len(X_test) / batch_size, \n",
    "#                          verbose=1)"
   ]
  },
  {
   "cell_type": "code",
   "execution_count": 3,
   "metadata": {},
   "outputs": [],
   "source": [
    "datadir = '/home/kalfasyan/data/images/sticky_plates/'\n",
    "years = ['2020']"
   ]
  },
  {
   "cell_type": "code",
   "execution_count": 4,
   "metadata": {
    "tags": []
   },
   "outputs": [
    {
     "name": "stdout",
     "output_type": "stream",
     "text": [
      "Cleaning directories..\n"
     ]
    }
   ],
   "source": [
    "created_data_path = f'{datadir}/created_data'\n",
    "\n",
    "# CREATING NECESSARY DIRECTORIES FOR THE PROJECT\n",
    "path_annotations = f'{created_data_path}/annotations/'\n",
    "path_images = f'{created_data_path}/images/'\n",
    "path_voc_annotations = f'{created_data_path}/voc_annotations/'\n",
    "path_crops_export = f'{created_data_path}/crops_export/'\n",
    "path_images_augmented = f'{created_data_path}/images_augmented/'\n",
    "path_weights = f'{created_data_path}/weights/'\n",
    "path_logs = f'{created_data_path}/logs/'\n",
    "for path in [created_data_path, path_annotations, path_images, path_voc_annotations, \n",
    "            path_crops_export, path_weights, path_logs, path_images_augmented]:\n",
    "    if not os.path.isdir(path):\n",
    "        os.mkdir(path)\t\n",
    "\n",
    "include_herent = True\n",
    "yolo_to_voc = True # In the end of the script, yolo annotations get converted to voc\n",
    "extract_boxes = True # Only works if above is true. Bounding boxes extracted and saved as images\n",
    "clean = True # Deleting previous data created here (i.e. except of logs and weights)\n",
    "save_extractions = True # Whether to save the extracted insect crops \n",
    "\n",
    "if clean:\n",
    "    print(f'Cleaning directories..')\n",
    "    clean_folder(path_annotations)\n",
    "    clean_folder(path_images)\n",
    "    clean_folder(path_voc_annotations)\n",
    "    os.system(f'rm -rf {path_crops_export}*')\n",
    "    os.system(f'rm -rf {path_images_augmented}*')\n",
    "    os.system(f'rm {created_data_path}/df_*')\n",
    "    os.system(f'rm {created_data_path}/class_mapping.csv')\n"
   ]
  },
  {
   "cell_type": "code",
   "execution_count": 5,
   "metadata": {
    "tags": []
   },
   "outputs": [
    {
     "name": "stdout",
     "output_type": "stream",
     "text": [
      "Number of plates: 212 for year: 2020\n"
     ]
    }
   ],
   "source": [
    "plates = []\n",
    "for y in years:\n",
    "\ty_plates = get_plate_names(y, base_dir=datadir)\n",
    "\tplates += y_plates\n",
    "\tprint(f\"Number of plates: {len(y_plates)} for year: {y}\")"
   ]
  },
  {
   "cell_type": "code",
   "execution_count": 6,
   "metadata": {},
   "outputs": [],
   "source": [
    "labview_cols = ['Center of Mass X.1', 'Center of Mass Y.1', 'Bounding Rect Left.1',\n",
    "       'Bounding Rect Top.1', 'Bounding Rect Right.1',\n",
    "       'Bounding Rect Bottom.1', 'Equivalent Ellipse Major Axis.1',\n",
    "       'Equivalent Ellipse Minor Axis.1', 'Area.1', 'Convex Hull Area.1',\n",
    "       'Orientation.1', 'Ratio of Equivalent Ellipse Axes.1',\n",
    "       'Ratio of Equivalent Rect Sides.1', 'Elongation Factor.1',\n",
    "       'Compactness Factor.1', 'Heywood Circularity Factor.1', 'Type Factor.1',\n",
    "       'R', 'G', 'B']\n",
    "all_specs = []"
   ]
  },
  {
   "cell_type": "code",
   "execution_count": 7,
   "metadata": {
    "scrolled": true,
    "tags": []
   },
   "outputs": [
    {
     "name": "stderr",
     "output_type": "stream",
     "text": [
      "0it [00:00, ?it/s]/home/kalfasyan/anaconda3/envs/objdetect/lib/python3.7/site-packages/ipykernel_launcher.py:33: FutureWarning: The pandas.np module is deprecated and will be removed from pandas in a future version. Import numpy directly instead\n"
     ]
    },
    {
     "name": "stdout",
     "output_type": "stream",
     "text": [
      "Platename: HerentCONTROLE_w04_F10_51 mm_ISO160_1-15 s_IncandescentWB.png\n",
      "1/0 [==============================] - 3s 3s/step\n"
     ]
    },
    {
     "name": "stderr",
     "output_type": "stream",
     "text": [
      "1it [00:03,  3.96s/it]"
     ]
    },
    {
     "name": "stdout",
     "output_type": "stream",
     "text": [
      "Platename: HerentCONTROLE_w05_F10_51 mm_ISO160_1-15 s_IncandescentWB.png\n",
      "2/1 [==========================================] - 2s 1s/step\n"
     ]
    },
    {
     "name": "stderr",
     "output_type": "stream",
     "text": [
      "2it [00:06,  3.66s/it]"
     ]
    },
    {
     "name": "stdout",
     "output_type": "stream",
     "text": [
      "Platename: HerentVAL1_w04_F10_51 mm_ISO160_1-15 s_IncandescentWB.png\n",
      "2/1 [======================================================] - 1s 473ms/step\n"
     ]
    },
    {
     "name": "stderr",
     "output_type": "stream",
     "text": [
      "3it [00:08,  3.07s/it]"
     ]
    },
    {
     "name": "stdout",
     "output_type": "stream",
     "text": [
      "Platename: HerentVAL1_w05_F10_51 mm_ISO160_1-15 s_IncandescentWB.png\n",
      "1/0 [=========================================================================] - 0s 25ms/step\n"
     ]
    },
    {
     "name": "stderr",
     "output_type": "stream",
     "text": [
      "4it [00:09,  2.39s/it]"
     ]
    },
    {
     "name": "stdout",
     "output_type": "stream",
     "text": [
      "Platename: HerentVAL2_w04_F10_51 mm_ISO160_1-15 s_IncandescentWB.png\n",
      "2/1 [=================================================] - 1s 516ms/step\n"
     ]
    },
    {
     "name": "stderr",
     "output_type": "stream",
     "text": [
      "5it [00:11,  2.23s/it]"
     ]
    },
    {
     "name": "stdout",
     "output_type": "stream",
     "text": [
      "Platename: HerentVAL2_w05_F10_51 mm_ISO160_1-15 s_IncandescentWB.png\n",
      "1/0 [=========================================] - 1s 1s/step\n"
     ]
    },
    {
     "name": "stderr",
     "output_type": "stream",
     "text": [
      "6it [00:13,  2.16s/it]"
     ]
    },
    {
     "name": "stdout",
     "output_type": "stream",
     "text": [
      "Platename: HerentVAL3_w04_F10_51 mm_ISO160_1-15 s_IncandescentWB.png\n",
      "1/0 [=========================================] - 0s 33ms/step\n"
     ]
    },
    {
     "name": "stderr",
     "output_type": "stream",
     "text": [
      "7it [00:14,  1.77s/it]"
     ]
    },
    {
     "name": "stdout",
     "output_type": "stream",
     "text": [
      "Platename: HerentVAL3_w05_F10_51 mm_ISO160_1-15 s_IncandescentWB.png\n",
      "2/1 [==========================================================] - 1s 392ms/step\n"
     ]
    },
    {
     "name": "stderr",
     "output_type": "stream",
     "text": [
      "8it [00:15,  1.72s/it]"
     ]
    },
    {
     "name": "stdout",
     "output_type": "stream",
     "text": [
      "Platename: HerentVALdelta_w04_F10_51 mm_ISO160_1-15 s_IncandescentWB.png\n",
      "2/1 [====================================] - 1s 592ms/step\n"
     ]
    },
    {
     "name": "stderr",
     "output_type": "stream",
     "text": [
      "9it [00:17,  1.80s/it]"
     ]
    },
    {
     "name": "stdout",
     "output_type": "stream",
     "text": [
      "Platename: HerentVALdelta_w05_F10_51 mm_ISO160_1-15 s_IncandescentWB.png\n",
      "2/1 [=================================================] - 0s 27ms/step\n"
     ]
    },
    {
     "name": "stderr",
     "output_type": "stream",
     "text": [
      "10it [00:18,  1.52s/it]"
     ]
    },
    {
     "name": "stdout",
     "output_type": "stream",
     "text": [
      "Platename: Herent_w26_1-30_F10_51 mm_ISO160_1-15 s_IncandescentWB.png\n",
      "7/6 [================================] - 1s 186ms/step\n"
     ]
    },
    {
     "name": "stderr",
     "output_type": "stream",
     "text": [
      "11it [00:20,  1.76s/it]"
     ]
    },
    {
     "name": "stdout",
     "output_type": "stream",
     "text": [
      "Platename: Herent_w26_1-60_F10_51 mm_ISO160_1-15 s_IncandescentWB.png\n",
      "8/7 [=================================] - 1s 154ms/step\n"
     ]
    },
    {
     "name": "stderr",
     "output_type": "stream",
     "text": [
      "12it [00:23,  1.92s/it]"
     ]
    },
    {
     "name": "stdout",
     "output_type": "stream",
     "text": [
      "Platename: Herent_w26_1-90_F10_51 mm_ISO160_1-15 s_IncandescentWB.png\n",
      "10/9 [================================] - 0s 33ms/step\n"
     ]
    },
    {
     "name": "stderr",
     "output_type": "stream",
     "text": [
      "13it [00:24,  1.78s/it]"
     ]
    },
    {
     "name": "stdout",
     "output_type": "stream",
     "text": [
      "Platename: Herent_w26_2-30_F10_51 mm_ISO160_1-15 s_IncandescentWB.png\n",
      "12/11 [================================] - 1s 112ms/step\n"
     ]
    },
    {
     "name": "stderr",
     "output_type": "stream",
     "text": [
      "14it [00:27,  2.00s/it]"
     ]
    },
    {
     "name": "stdout",
     "output_type": "stream",
     "text": [
      "Platename: Herent_w26_2-60_F10_51 mm_ISO160_1-15 s_IncandescentWB.png\n",
      "2/1 [======================================================] - 0s 27ms/step\n"
     ]
    },
    {
     "name": "stderr",
     "output_type": "stream",
     "text": [
      "15it [00:28,  1.68s/it]"
     ]
    },
    {
     "name": "stdout",
     "output_type": "stream",
     "text": [
      "Platename: Herent_w26_2-90_F10_51 mm_ISO160_1-15 s_IncandescentWB.png\n",
      "5/4 [=================================] - 0s 41ms/step\n"
     ]
    },
    {
     "name": "stderr",
     "output_type": "stream",
     "text": [
      "16it [00:29,  1.52s/it]"
     ]
    },
    {
     "name": "stdout",
     "output_type": "stream",
     "text": [
      "Platename: Herent_w26_3-30_F10_51 mm_ISO160_1-15 s_IncandescentWB.png\n",
      "9/8 [===============================] - 1s 142ms/step\n"
     ]
    },
    {
     "name": "stderr",
     "output_type": "stream",
     "text": [
      "17it [00:31,  1.76s/it]"
     ]
    },
    {
     "name": "stdout",
     "output_type": "stream",
     "text": [
      "Platename: Herent_w26_3-60_F10_51 mm_ISO160_1-15 s_IncandescentWB.png\n",
      "7/6 [=================================] - 1s 156ms/step\n"
     ]
    },
    {
     "name": "stderr",
     "output_type": "stream",
     "text": [
      "18it [00:33,  1.85s/it]"
     ]
    },
    {
     "name": "stdout",
     "output_type": "stream",
     "text": [
      "Platename: Herent_w26_3-90_F10_51 mm_ISO160_1-15 s_IncandescentWB.png\n",
      "7/6 [================================] - 1s 173ms/step\n"
     ]
    },
    {
     "name": "stderr",
     "output_type": "stream",
     "text": [
      "19it [00:35,  1.95s/it]"
     ]
    },
    {
     "name": "stdout",
     "output_type": "stream",
     "text": [
      "Platename: Herent_w26_4-30_F10_51 mm_ISO160_1-15 s_IncandescentWB.png\n",
      "11/10 [==============================] - 1s 133ms/step\n"
     ]
    },
    {
     "name": "stderr",
     "output_type": "stream",
     "text": [
      "20it [00:38,  2.13s/it]"
     ]
    },
    {
     "name": "stdout",
     "output_type": "stream",
     "text": [
      "Platename: Herent_w26_4-60_F10_51 mm_ISO160_1-15 s_IncandescentWB.png\n",
      "7/6 [================================] - 0s 33ms/step\n"
     ]
    },
    {
     "name": "stderr",
     "output_type": "stream",
     "text": [
      "21it [00:39,  1.85s/it]"
     ]
    },
    {
     "name": "stdout",
     "output_type": "stream",
     "text": [
      "Platename: Herent_w26_4-90_F10_51 mm_ISO160_1-15 s_IncandescentWB.png\n",
      "13/12 [================================] - 1s 110ms/step\n"
     ]
    },
    {
     "name": "stderr",
     "output_type": "stream",
     "text": [
      "22it [00:42,  2.07s/it]"
     ]
    },
    {
     "name": "stdout",
     "output_type": "stream",
     "text": [
      "Platename: Herent_w26_centroid_F10_51 mm_ISO160_1-15 s_IncandescentWB.png\n",
      "16/15 [==============================] - 1s 37ms/step\n"
     ]
    },
    {
     "name": "stderr",
     "output_type": "stream",
     "text": [
      "23it [00:43,  2.00s/it]"
     ]
    },
    {
     "name": "stdout",
     "output_type": "stream",
     "text": [
      "Platename: Herent_w27_1-30_F10_51 mm_ISO160_1-15 s_IncandescentWB.png\n",
      "10/9 [==============================] - 2s 158ms/step\n"
     ]
    },
    {
     "name": "stderr",
     "output_type": "stream",
     "text": [
      "24it [00:46,  2.20s/it]"
     ]
    },
    {
     "name": "stdout",
     "output_type": "stream",
     "text": [
      "Platename: Herent_w27_1-60_F10_51 mm_ISO160_1-15 s_IncandescentWB.png\n",
      "12/11 [===============================] - 1s 122ms/step\n"
     ]
    },
    {
     "name": "stderr",
     "output_type": "stream",
     "text": [
      "25it [00:49,  2.31s/it]"
     ]
    },
    {
     "name": "stdout",
     "output_type": "stream",
     "text": [
      "Platename: Herent_w27_1-90_F10_51 mm_ISO160_1-15 s_IncandescentWB.png\n",
      "10/9 [==============================] - 2s 153ms/step\n"
     ]
    },
    {
     "name": "stderr",
     "output_type": "stream",
     "text": [
      "26it [00:51,  2.40s/it]"
     ]
    },
    {
     "name": "stdout",
     "output_type": "stream",
     "text": [
      "Platename: Herent_w27_2-30_F10_51 mm_ISO160_1-15 s_IncandescentWB.png\n",
      "9/8 [=================================] - 1s 132ms/step\n"
     ]
    },
    {
     "name": "stderr",
     "output_type": "stream",
     "text": [
      "27it [00:53,  2.32s/it]"
     ]
    },
    {
     "name": "stdout",
     "output_type": "stream",
     "text": [
      "Platename: Herent_w27_2-60_F10_51 mm_ISO160_1-15 s_IncandescentWB.png\n",
      "8/7 [==============================] - 1s 183ms/step\n"
     ]
    },
    {
     "name": "stderr",
     "output_type": "stream",
     "text": [
      "28it [00:56,  2.35s/it]"
     ]
    },
    {
     "name": "stdout",
     "output_type": "stream",
     "text": [
      "Platename: Herent_w27_2-90_F10_51 mm_ISO160_1-15 s_IncandescentWB.png\n",
      "7/6 [==============================] - 0s 35ms/step\n"
     ]
    },
    {
     "name": "stderr",
     "output_type": "stream",
     "text": [
      "29it [00:57,  2.00s/it]"
     ]
    },
    {
     "name": "stdout",
     "output_type": "stream",
     "text": [
      "Platename: Herent_w27_3-30_F10_51 mm_ISO160_1-15 s_IncandescentWB.png\n",
      "11/10 [===============================] - 0s 35ms/step\n"
     ]
    },
    {
     "name": "stderr",
     "output_type": "stream",
     "text": [
      "30it [00:58,  1.83s/it]"
     ]
    },
    {
     "name": "stdout",
     "output_type": "stream",
     "text": [
      "Platename: Herent_w27_3-60_F10_51 mm_ISO160_1-15 s_IncandescentWB.png\n",
      "8/7 [===============================] - 0s 34ms/step\n"
     ]
    },
    {
     "name": "stderr",
     "output_type": "stream",
     "text": [
      "31it [01:00,  1.66s/it]"
     ]
    },
    {
     "name": "stdout",
     "output_type": "stream",
     "text": [
      "Platename: Herent_w27_3-90_F10_51 mm_ISO160_1-15 s_IncandescentWB.png\n",
      "7/6 [===============================] - 1s 190ms/step\n"
     ]
    },
    {
     "name": "stderr",
     "output_type": "stream",
     "text": [
      "32it [01:02,  1.84s/it]"
     ]
    },
    {
     "name": "stdout",
     "output_type": "stream",
     "text": [
      "Platename: Herent_w27_4-30_F10_51 mm_ISO160_1-15 s_IncandescentWB.png\n",
      "10/9 [==============================] - 0s 36ms/step\n"
     ]
    },
    {
     "name": "stderr",
     "output_type": "stream",
     "text": [
      "33it [01:03,  1.72s/it]"
     ]
    },
    {
     "name": "stdout",
     "output_type": "stream",
     "text": [
      "Platename: Herent_w27_4-60_F10_51 mm_ISO160_1-15 s_IncandescentWB.png\n",
      "5/4 [====================================] - 0s 31ms/step\n"
     ]
    },
    {
     "name": "stderr",
     "output_type": "stream",
     "text": [
      "34it [01:04,  1.51s/it]"
     ]
    },
    {
     "name": "stdout",
     "output_type": "stream",
     "text": [
      "Platename: Herent_w27_4-90_F10_51 mm_ISO160_1-15 s_IncandescentWB.png\n",
      "11/10 [==============================] - 1s 135ms/step\n"
     ]
    },
    {
     "name": "stderr",
     "output_type": "stream",
     "text": [
      "35it [01:07,  1.83s/it]"
     ]
    },
    {
     "name": "stdout",
     "output_type": "stream",
     "text": [
      "Platename: Herent_w27_centroid_F10_51 mm_ISO160_1-15 s_IncandescentWB.png\n",
      "4/3 [======================================] - 0s 30ms/step\n"
     ]
    },
    {
     "name": "stderr",
     "output_type": "stream",
     "text": [
      "36it [01:08,  1.57s/it]"
     ]
    },
    {
     "name": "stdout",
     "output_type": "stream",
     "text": [
      "Platename: Herent_w28_1-30_F10_51 mm_ISO160_1-15 s_IncandescentWB.png\n",
      "8/7 [==============================] - 0s 35ms/step\n"
     ]
    },
    {
     "name": "stderr",
     "output_type": "stream",
     "text": [
      "37it [01:09,  1.47s/it]"
     ]
    },
    {
     "name": "stdout",
     "output_type": "stream",
     "text": [
      "Platename: Herent_w28_1-60_F10_51 mm_ISO160_1-15 s_IncandescentWB.png\n",
      "9/8 [===============================] - 1s 151ms/step\n"
     ]
    },
    {
     "name": "stderr",
     "output_type": "stream",
     "text": [
      "38it [01:12,  1.73s/it]"
     ]
    },
    {
     "name": "stdout",
     "output_type": "stream",
     "text": [
      "Platename: Herent_w28_1-90_F10_51 mm_ISO160_1-15 s_IncandescentWB.png\n",
      "13/12 [===============================] - 0s 34ms/step\n"
     ]
    },
    {
     "name": "stderr",
     "output_type": "stream",
     "text": [
      "39it [01:13,  1.66s/it]"
     ]
    },
    {
     "name": "stdout",
     "output_type": "stream",
     "text": [
      "Platename: Herent_w28_2-30_F10_51 mm_ISO160_1-15 s_IncandescentWB.png\n",
      "7/6 [===============================] - 0s 34ms/step\n"
     ]
    },
    {
     "name": "stderr",
     "output_type": "stream",
     "text": [
      "40it [01:14,  1.51s/it]"
     ]
    },
    {
     "name": "stdout",
     "output_type": "stream",
     "text": [
      "Platename: Herent_w28_2-60_F10_51 mm_ISO160_1-15 s_IncandescentWB.png\n",
      "5/4 [==================================] - 1s 226ms/step\n"
     ]
    },
    {
     "name": "stderr",
     "output_type": "stream",
     "text": [
      "41it [01:16,  1.65s/it]"
     ]
    },
    {
     "name": "stdout",
     "output_type": "stream",
     "text": [
      "Platename: Herent_w28_2-90_F10_51 mm_ISO160_1-15 s_IncandescentWB.png\n",
      "15/14 [==============================] - 1s 35ms/step\n"
     ]
    },
    {
     "name": "stderr",
     "output_type": "stream",
     "text": [
      "42it [01:18,  1.64s/it]"
     ]
    },
    {
     "name": "stdout",
     "output_type": "stream",
     "text": [
      "Platename: Herent_w28_3-30_F10_51 mm_ISO160_1-15 s_IncandescentWB.png\n",
      "11/10 [==============================] - 0s 35ms/step\n"
     ]
    },
    {
     "name": "stderr",
     "output_type": "stream",
     "text": [
      "43it [01:19,  1.56s/it]"
     ]
    },
    {
     "name": "stdout",
     "output_type": "stream",
     "text": [
      "Platename: Herent_w28_3-60_F10_51 mm_ISO160_1-15 s_IncandescentWB.png\n",
      "9/8 [===============================] - 0s 33ms/step\n"
     ]
    },
    {
     "name": "stderr",
     "output_type": "stream",
     "text": [
      "44it [01:20,  1.47s/it]"
     ]
    },
    {
     "name": "stdout",
     "output_type": "stream",
     "text": [
      "Platename: Herent_w28_3-90_F10_51 mm_ISO160_1-15 s_IncandescentWB.png\n",
      "9/8 [================================] - 0s 33ms/step\n"
     ]
    },
    {
     "name": "stderr",
     "output_type": "stream",
     "text": [
      "45it [01:22,  1.40s/it]"
     ]
    },
    {
     "name": "stdout",
     "output_type": "stream",
     "text": [
      "Platename: Herent_w28_4-30_F10_51 mm_ISO160_1-15 s_IncandescentWB.png\n",
      "7/6 [================================] - 1s 182ms/step\n"
     ]
    },
    {
     "name": "stderr",
     "output_type": "stream",
     "text": [
      "46it [01:24,  1.62s/it]"
     ]
    },
    {
     "name": "stdout",
     "output_type": "stream",
     "text": [
      "Platename: Herent_w28_4-60_F10_51 mm_ISO160_1-15 s_IncandescentWB.png\n",
      "5/4 [================================] - 0s 34ms/step\n"
     ]
    },
    {
     "name": "stderr",
     "output_type": "stream",
     "text": [
      "47it [01:25,  1.44s/it]"
     ]
    },
    {
     "name": "stdout",
     "output_type": "stream",
     "text": [
      "Platename: Herent_w28_4-90_F10_51 mm_ISO160_1-15 s_IncandescentWB.png\n",
      "14/13 [==============================] - 2s 120ms/step\n"
     ]
    },
    {
     "name": "stderr",
     "output_type": "stream",
     "text": [
      "48it [01:28,  1.85s/it]"
     ]
    },
    {
     "name": "stdout",
     "output_type": "stream",
     "text": [
      "Platename: Herent_w28_centroid_F10_51 mm_ISO160_1-15 s_IncandescentWB.png\n",
      "5/4 [====================================] - 0s 31ms/step\n"
     ]
    },
    {
     "name": "stderr",
     "output_type": "stream",
     "text": [
      "49it [01:29,  1.60s/it]"
     ]
    },
    {
     "name": "stdout",
     "output_type": "stream",
     "text": [
      "Platename: Herent_w29_1-30_F10_51 mm_ISO160_1-15 s_IncandescentWB.png\n",
      "9/8 [=================================] - 0s 36ms/step\n"
     ]
    },
    {
     "name": "stderr",
     "output_type": "stream",
     "text": [
      "50it [01:30,  1.50s/it]"
     ]
    },
    {
     "name": "stdout",
     "output_type": "stream",
     "text": [
      "Platename: Herent_w29_1-60_F10_51 mm_ISO160_1-15 s_IncandescentWB.png\n",
      "13/12 [===============================] - 0s 34ms/step\n"
     ]
    },
    {
     "name": "stderr",
     "output_type": "stream",
     "text": [
      "51it [01:31,  1.49s/it]"
     ]
    },
    {
     "name": "stdout",
     "output_type": "stream",
     "text": [
      "Platename: Herent_w29_1-90_F10_51 mm_ISO160_1-15 s_IncandescentWB.png\n",
      "21/20 [==============================] - 1s 34ms/step\n"
     ]
    },
    {
     "name": "stderr",
     "output_type": "stream",
     "text": [
      "52it [01:33,  1.64s/it]"
     ]
    },
    {
     "name": "stdout",
     "output_type": "stream",
     "text": [
      "Platename: Herent_w29_2-30_F10_51 mm_ISO160_1-15 s_IncandescentWB_1.png\n",
      "8/7 [==============================] - 0s 35ms/step\n"
     ]
    },
    {
     "name": "stderr",
     "output_type": "stream",
     "text": [
      "53it [01:35,  1.51s/it]"
     ]
    },
    {
     "name": "stdout",
     "output_type": "stream",
     "text": [
      "Platename: Herent_w29_2-60_F10_51 mm_ISO160_1-15 s_IncandescentWB.png\n",
      "9/8 [================================] - 0s 33ms/step\n"
     ]
    },
    {
     "name": "stderr",
     "output_type": "stream",
     "text": [
      "54it [01:36,  1.44s/it]"
     ]
    },
    {
     "name": "stdout",
     "output_type": "stream",
     "text": [
      "Platename: Herent_w29_2-90_F10_51 mm_ISO160_1-15 s_IncandescentWB.png\n",
      "14/13 [===============================] - 1s 104ms/step\n"
     ]
    },
    {
     "name": "stderr",
     "output_type": "stream",
     "text": [
      "55it [01:38,  1.77s/it]"
     ]
    },
    {
     "name": "stdout",
     "output_type": "stream",
     "text": [
      "Platename: Herent_w29_3-30_F10_51 mm_ISO160_1-15 s_IncandescentWB.png\n",
      "14/13 [==============================] - 0s 35ms/step\n"
     ]
    },
    {
     "name": "stderr",
     "output_type": "stream",
     "text": [
      "56it [01:40,  1.72s/it]"
     ]
    },
    {
     "name": "stdout",
     "output_type": "stream",
     "text": [
      "Platename: Herent_w29_3-60_F10_51 mm_ISO160_1-15 s_IncandescentWB.png\n",
      "10/9 [==============================] - 0s 35ms/step\n"
     ]
    },
    {
     "name": "stderr",
     "output_type": "stream",
     "text": [
      "57it [01:41,  1.61s/it]"
     ]
    },
    {
     "name": "stdout",
     "output_type": "stream",
     "text": [
      "Platename: Herent_w29_3-90_F10_51 mm_ISO160_1-15 s_IncandescentWB.png\n",
      "15/14 [===============================] - 1s 34ms/step\n"
     ]
    },
    {
     "name": "stderr",
     "output_type": "stream",
     "text": [
      "58it [01:43,  1.62s/it]"
     ]
    },
    {
     "name": "stdout",
     "output_type": "stream",
     "text": [
      "Platename: Herent_w29_4-30_F10_51 mm_ISO160_1-15 s_IncandescentWB.png\n",
      "8/7 [=================================] - 0s 33ms/step\n"
     ]
    },
    {
     "name": "stderr",
     "output_type": "stream",
     "text": [
      "59it [01:44,  1.49s/it]"
     ]
    },
    {
     "name": "stdout",
     "output_type": "stream",
     "text": [
      "Platename: Herent_w29_4-60_F10_51 mm_ISO160_1-15 s_IncandescentWB.png\n",
      "7/6 [=================================] - 1s 170ms/step\n"
     ]
    },
    {
     "name": "stderr",
     "output_type": "stream",
     "text": [
      "60it [01:46,  1.68s/it]"
     ]
    },
    {
     "name": "stdout",
     "output_type": "stream",
     "text": [
      "Platename: Herent_w29_4-90_F10_51 mm_ISO160_1-15 s_IncandescentWB.png\n",
      "15/14 [==============================] - 1s 34ms/step\n"
     ]
    },
    {
     "name": "stderr",
     "output_type": "stream",
     "text": [
      "61it [01:48,  1.68s/it]"
     ]
    },
    {
     "name": "stdout",
     "output_type": "stream",
     "text": [
      "Platename: Herent_w29_centroid_F10_51 mm_ISO160_1-15 s_IncandescentWB.png\n",
      "6/5 [================================] - 0s 33ms/step\n"
     ]
    },
    {
     "name": "stderr",
     "output_type": "stream",
     "text": [
      "62it [01:49,  1.49s/it]"
     ]
    },
    {
     "name": "stdout",
     "output_type": "stream",
     "text": [
      "Platename: Racour_20200702_A_F10_51 mm_ISO160_1-15 s_IncandescentWB.png\n",
      "15/14 [==============================] - 1s 34ms/step\n"
     ]
    },
    {
     "name": "stderr",
     "output_type": "stream",
     "text": [
      "63it [01:51,  1.52s/it]"
     ]
    },
    {
     "name": "stdout",
     "output_type": "stream",
     "text": [
      "Platename: Racour_20200702_B_F10_51 mm_ISO160_1-15 s_IncandescentWB.png\n",
      "19/18 [==============================] - 2s 94ms/step\n"
     ]
    },
    {
     "name": "stderr",
     "output_type": "stream",
     "text": [
      "64it [01:54,  1.96s/it]"
     ]
    },
    {
     "name": "stdout",
     "output_type": "stream",
     "text": [
      "Platename: Racour_20200702_C_F10_51 mm_ISO160_1-15 s_IncandescentWB.png\n",
      "21/20 [==============================] - 1s 34ms/step\n"
     ]
    },
    {
     "name": "stderr",
     "output_type": "stream",
     "text": [
      "65it [01:56,  1.96s/it]"
     ]
    },
    {
     "name": "stdout",
     "output_type": "stream",
     "text": [
      "Platename: Racour_20200713_A_F10_51 mm_ISO160_1-15 s_IncandescentWB.png\n",
      "25/24 [==============================] - 1s 34ms/step\n"
     ]
    },
    {
     "name": "stderr",
     "output_type": "stream",
     "text": [
      "66it [01:58,  2.03s/it]"
     ]
    },
    {
     "name": "stdout",
     "output_type": "stream",
     "text": [
      "Platename: Racour_20200713_B_F10_51 mm_ISO160_1-15 s_IncandescentWB.png\n",
      "25/24 [==============================] - 1s 34ms/step\n"
     ]
    },
    {
     "name": "stderr",
     "output_type": "stream",
     "text": [
      "67it [02:00,  2.09s/it]"
     ]
    },
    {
     "name": "stdout",
     "output_type": "stream",
     "text": [
      "Platename: Racour_20200713_C_F10_51 mm_ISO160_1-15 s_IncandescentWB.png\n",
      "23/22 [==============================] - 1s 35ms/step\n"
     ]
    },
    {
     "name": "stderr",
     "output_type": "stream",
     "text": [
      "68it [02:02,  2.11s/it]"
     ]
    },
    {
     "name": "stdout",
     "output_type": "stream",
     "text": [
      "Platename: Herent_w30_1-30_F10_51 mm_ISO160_1-15 s_IncandescentWB.png\n",
      "6/5 [==============================] - 0s 35ms/step\n"
     ]
    },
    {
     "name": "stderr",
     "output_type": "stream",
     "text": [
      "69it [02:03,  1.83s/it]"
     ]
    },
    {
     "name": "stdout",
     "output_type": "stream",
     "text": [
      "Platename: Herent_w30_1-60_F10_51 mm_ISO160_1-15 s_IncandescentWB.png\n",
      "10/9 [================================] - 0s 33ms/step\n"
     ]
    },
    {
     "name": "stderr",
     "output_type": "stream",
     "text": [
      "70it [02:05,  1.70s/it]"
     ]
    },
    {
     "name": "stdout",
     "output_type": "stream",
     "text": [
      "Platename: Herent_w30_1-90_F10_51 mm_ISO160_1-15 s_IncandescentWB.png\n",
      "15/14 [==============================] - 1s 35ms/step\n"
     ]
    },
    {
     "name": "stderr",
     "output_type": "stream",
     "text": [
      "71it [02:07,  1.72s/it]"
     ]
    },
    {
     "name": "stdout",
     "output_type": "stream",
     "text": [
      "Platename: Herent_w30_2-30_F10_51 mm_ISO160_1-15 s_IncandescentWB.png\n",
      "9/8 [================================] - 0s 34ms/step\n"
     ]
    },
    {
     "name": "stderr",
     "output_type": "stream",
     "text": [
      "72it [02:08,  1.58s/it]"
     ]
    },
    {
     "name": "stdout",
     "output_type": "stream",
     "text": [
      "Platename: Herent_w30_2-60_F10_51 mm_ISO160_1-15 s_IncandescentWB.png\n",
      "9/8 [================================] - 0s 33ms/step\n"
     ]
    },
    {
     "name": "stderr",
     "output_type": "stream",
     "text": [
      "73it [02:09,  1.49s/it]"
     ]
    },
    {
     "name": "stdout",
     "output_type": "stream",
     "text": [
      "Platename: Herent_w30_2-90_F10_51 mm_ISO160_1-15 s_IncandescentWB.png\n",
      "10/9 [================================] - 0s 33ms/step\n"
     ]
    },
    {
     "name": "stderr",
     "output_type": "stream",
     "text": [
      "74it [02:10,  1.44s/it]"
     ]
    },
    {
     "name": "stdout",
     "output_type": "stream",
     "text": [
      "Platename: Herent_w30_3-30_F10_51 mm_ISO160_1-15 s_IncandescentWB.png\n",
      "10/9 [==============================] - 0s 35ms/step\n"
     ]
    },
    {
     "name": "stderr",
     "output_type": "stream",
     "text": [
      "75it [02:12,  1.42s/it]"
     ]
    },
    {
     "name": "stdout",
     "output_type": "stream",
     "text": [
      "Platename: Herent_w30_3-60_F10_51 mm_ISO160_1-15 s_IncandescentWB.png\n",
      "9/8 [=================================] - 0s 33ms/step\n"
     ]
    },
    {
     "name": "stderr",
     "output_type": "stream",
     "text": [
      "76it [02:13,  1.37s/it]"
     ]
    },
    {
     "name": "stdout",
     "output_type": "stream",
     "text": [
      "Platename: Herent_w30_3-90_F10_51 mm_ISO160_1-15 s_IncandescentWB.png\n",
      "10/9 [================================] - 0s 33ms/step\n"
     ]
    },
    {
     "name": "stderr",
     "output_type": "stream",
     "text": [
      "77it [02:14,  1.35s/it]"
     ]
    },
    {
     "name": "stdout",
     "output_type": "stream",
     "text": [
      "Platename: Herent_w30_4-30_F10_51 mm_ISO160_1-15 s_IncandescentWB.png\n",
      "9/8 [================================] - 0s 33ms/step\n"
     ]
    },
    {
     "name": "stderr",
     "output_type": "stream",
     "text": [
      "78it [02:16,  1.33s/it]"
     ]
    },
    {
     "name": "stdout",
     "output_type": "stream",
     "text": [
      "Platename: Herent_w30_4-60_F10_51 mm_ISO160_1-15 s_IncandescentWB.png\n",
      "10/9 [================================] - 0s 34ms/step\n"
     ]
    },
    {
     "name": "stderr",
     "output_type": "stream",
     "text": [
      "79it [02:17,  1.33s/it]"
     ]
    },
    {
     "name": "stdout",
     "output_type": "stream",
     "text": [
      "Platename: Herent_w30_4-90_F10_51 mm_ISO160_1-15 s_IncandescentWB.png\n",
      "16/15 [===============================] - 1s 33ms/step\n"
     ]
    },
    {
     "name": "stderr",
     "output_type": "stream",
     "text": [
      "80it [02:19,  1.44s/it]"
     ]
    },
    {
     "name": "stdout",
     "output_type": "stream",
     "text": [
      "Platename: Herent_w30_centroid_F10_51 mm_ISO160_1-15 s_IncandescentWB.png\n",
      "2/1 [==================================] - 1s 566ms/step\n"
     ]
    },
    {
     "name": "stderr",
     "output_type": "stream",
     "text": [
      "81it [02:21,  1.59s/it]"
     ]
    },
    {
     "name": "stdout",
     "output_type": "stream",
     "text": [
      "Platename: Merchtem_20200727_A_F10_51 mm_ISO160_1-15 s_IncandescentWB.png\n",
      "5/4 [===============================] - 0s 34ms/step\n"
     ]
    },
    {
     "name": "stderr",
     "output_type": "stream",
     "text": [
      "82it [02:22,  1.42s/it]"
     ]
    },
    {
     "name": "stdout",
     "output_type": "stream",
     "text": [
      "Platename: Merchtem_20200727_B_F10_51 mm_ISO160_1-15 s_IncandescentWB.png\n",
      "8/7 [==============================] - 0s 39ms/step\n"
     ]
    },
    {
     "name": "stderr",
     "output_type": "stream",
     "text": [
      "83it [02:23,  1.37s/it]"
     ]
    },
    {
     "name": "stdout",
     "output_type": "stream",
     "text": [
      "Platename: Merchtem_20200727_C_F10_51 mm_ISO160_1-15 s_IncandescentWB.png\n",
      "6/5 [================================] - 0s 33ms/step\n"
     ]
    },
    {
     "name": "stderr",
     "output_type": "stream",
     "text": [
      "84it [02:24,  1.28s/it]"
     ]
    },
    {
     "name": "stdout",
     "output_type": "stream",
     "text": [
      "Platename: Merchtem_20200728_B1_F10_51 mm_ISO160_1-15 s_IncandescentWB.png\n",
      "15/14 [===============================] - 1s 34ms/step\n"
     ]
    },
    {
     "name": "stderr",
     "output_type": "stream",
     "text": [
      "85it [02:26,  1.39s/it]"
     ]
    },
    {
     "name": "stdout",
     "output_type": "stream",
     "text": [
      "Platename: Merchtem_20200728_B2_F10_51 mm_ISO160_1-15 s_IncandescentWB.png\n",
      "14/14 [==============================] - 0s 35ms/step\n"
     ]
    },
    {
     "name": "stderr",
     "output_type": "stream",
     "text": [
      "86it [02:27,  1.45s/it]"
     ]
    },
    {
     "name": "stdout",
     "output_type": "stream",
     "text": [
      "Platename: Merchtem_20200728_B3_F10_51 mm_ISO160_1-15 s_IncandescentWB.png\n",
      "12/11 [==============================] - 0s 34ms/step\n"
     ]
    },
    {
     "name": "stderr",
     "output_type": "stream",
     "text": [
      "87it [02:29,  1.46s/it]"
     ]
    },
    {
     "name": "stdout",
     "output_type": "stream",
     "text": [
      "Platename: Merchtem_20200728_M1_F10_51 mm_ISO160_1-15 s_IncandescentWB.png\n",
      "6/5 [==================================] - 0s 31ms/step\n"
     ]
    },
    {
     "name": "stderr",
     "output_type": "stream",
     "text": [
      "88it [02:30,  1.34s/it]"
     ]
    },
    {
     "name": "stdout",
     "output_type": "stream",
     "text": [
      "Platename: Merchtem_20200728_M2_F10_51 mm_ISO160_1-15 s_IncandescentWB.png\n",
      "3/2 [================================] - 0s 34ms/step\n"
     ]
    },
    {
     "name": "stderr",
     "output_type": "stream",
     "text": [
      "89it [02:31,  1.21s/it]"
     ]
    },
    {
     "name": "stdout",
     "output_type": "stream",
     "text": [
      "Platename: Merchtem_20200728_M3_F10_51 mm_ISO160_1-15 s_IncandescentWB.png\n",
      "4/3 [==============================] - 0s 36ms/step\n"
     ]
    },
    {
     "name": "stderr",
     "output_type": "stream",
     "text": [
      "90it [02:32,  1.14s/it]"
     ]
    },
    {
     "name": "stdout",
     "output_type": "stream",
     "text": [
      "Platename: Herent_W31_1-30_F10_51 mm_ISO160_1-15 s_incandescent_17.png\n",
      "4/3 [===============================] - 0s 34ms/step\n"
     ]
    },
    {
     "name": "stderr",
     "output_type": "stream",
     "text": [
      "91it [02:33,  1.08s/it]"
     ]
    },
    {
     "name": "stdout",
     "output_type": "stream",
     "text": [
      "Platename: Herent_W31_1-60_F10_51 mm_ISO160_1-15 s_incandescent_27.png\n",
      "10/9 [===============================] - 0s 33ms/step\n"
     ]
    },
    {
     "name": "stderr",
     "output_type": "stream",
     "text": [
      "92it [02:34,  1.15s/it]"
     ]
    },
    {
     "name": "stdout",
     "output_type": "stream",
     "text": [
      "Platename: Herent_W31_1-90_F10_51 mm_ISO160_1-15 s_incandescent_28.png\n",
      "16/15 [==============================] - 1s 35ms/step\n"
     ]
    },
    {
     "name": "stderr",
     "output_type": "stream",
     "text": [
      "93it [02:36,  1.32s/it]"
     ]
    },
    {
     "name": "stdout",
     "output_type": "stream",
     "text": [
      "Platename: Herent_W31_2-30_F10_51 mm_ISO160_1-15 s_incandescent_21.png\n",
      "4/3 [======================================] - 0s 30ms/step\n"
     ]
    },
    {
     "name": "stderr",
     "output_type": "stream",
     "text": [
      "94it [02:37,  1.23s/it]"
     ]
    },
    {
     "name": "stdout",
     "output_type": "stream",
     "text": [
      "Platename: Herent_W31_2-60_F10_51 mm_ISO160_1-15 s_incandescent_22.png\n",
      "7/6 [=================================] - 0s 32ms/step\n"
     ]
    },
    {
     "name": "stderr",
     "output_type": "stream",
     "text": [
      "95it [02:38,  1.20s/it]"
     ]
    },
    {
     "name": "stdout",
     "output_type": "stream",
     "text": [
      "Platename: Herent_W31_2-90_F10_51 mm_ISO160_1-15 s_incandescent_23.png\n",
      "9/8 [================================] - 0s 33ms/step\n"
     ]
    },
    {
     "name": "stderr",
     "output_type": "stream",
     "text": [
      "96it [02:39,  1.22s/it]"
     ]
    },
    {
     "name": "stdout",
     "output_type": "stream",
     "text": [
      "Platename: Herent_W31_3-30_F10_51 mm_ISO160_1-15 s_incandescent_20.png\n",
      "10/9 [================================] - 0s 33ms/step\n"
     ]
    },
    {
     "name": "stderr",
     "output_type": "stream",
     "text": [
      "97it [02:40,  1.25s/it]"
     ]
    },
    {
     "name": "stdout",
     "output_type": "stream",
     "text": [
      "Platename: Herent_W31_3-60_F10_51 mm_ISO160_1-15 s_incandescent_19.png\n",
      "6/5 [=================================] - 0s 33ms/step\n"
     ]
    },
    {
     "name": "stderr",
     "output_type": "stream",
     "text": [
      "98it [02:41,  1.20s/it]"
     ]
    },
    {
     "name": "stdout",
     "output_type": "stream",
     "text": [
      "Platename: Herent_W31_3-90_F10_51 mm_ISO160_1-15 s_incandescent_18.png\n",
      "7/6 [===============================] - 0s 33ms/step\n"
     ]
    },
    {
     "name": "stderr",
     "output_type": "stream",
     "text": [
      "99it [02:43,  1.19s/it]"
     ]
    },
    {
     "name": "stdout",
     "output_type": "stream",
     "text": [
      "Platename: Herent_W31_4-30_F10_51 mm_ISO160_1-15 s_incandescent_26.png\n",
      "4/3 [=================================] - 0s 33ms/step\n"
     ]
    },
    {
     "name": "stderr",
     "output_type": "stream",
     "text": [
      "100it [02:44,  1.13s/it]"
     ]
    },
    {
     "name": "stdout",
     "output_type": "stream",
     "text": [
      "Platename: Herent_W31_4-60_F10_51 mm_ISO160_1-15 s_incandescent_25.png\n",
      "5/4 [===================================] - 0s 35ms/step\n"
     ]
    },
    {
     "name": "stderr",
     "output_type": "stream",
     "text": [
      "101it [02:45,  1.10s/it]"
     ]
    },
    {
     "name": "stdout",
     "output_type": "stream",
     "text": [
      "Platename: Herent_W31_4-90_F10_51 mm_ISO160_1-15 s_incandescent_24.png\n",
      "11/10 [==============================] - 0s 35ms/step\n"
     ]
    },
    {
     "name": "stderr",
     "output_type": "stream",
     "text": [
      "102it [02:46,  1.20s/it]"
     ]
    },
    {
     "name": "stdout",
     "output_type": "stream",
     "text": [
      "Platename: Herent_W31_centroid_F10_51 mm_ISO160_1-15 s_incandescent_29.png\n",
      "2/1 [=====================================================] - 0s 25ms/step\n"
     ]
    },
    {
     "name": "stderr",
     "output_type": "stream",
     "text": [
      "103it [02:47,  1.09s/it]"
     ]
    },
    {
     "name": "stdout",
     "output_type": "stream",
     "text": [
      "Platename: Racour_20200803_A_F10_51 mm_ISO160_1-15 s_incandescent_14.png\n",
      "10/9 [================================] - 0s 38ms/step\n"
     ]
    },
    {
     "name": "stderr",
     "output_type": "stream",
     "text": [
      "104it [02:48,  1.18s/it]"
     ]
    },
    {
     "name": "stdout",
     "output_type": "stream",
     "text": [
      "Platename: Racour_20200803_B_F10_51 mm_ISO160_1-15 s_incandescent_15.png\n",
      "12/11 [================================] - 0s 33ms/step\n"
     ]
    },
    {
     "name": "stderr",
     "output_type": "stream",
     "text": [
      "105it [02:50,  1.25s/it]"
     ]
    },
    {
     "name": "stdout",
     "output_type": "stream",
     "text": [
      "Platename: Racour_20200803_C_F10_51 mm_ISO160_1-15 s_incandescent_16.png\n",
      "11/10 [================================] - 0s 33ms/step\n"
     ]
    },
    {
     "name": "stderr",
     "output_type": "stream",
     "text": [
      "106it [02:51,  1.29s/it]"
     ]
    },
    {
     "name": "stdout",
     "output_type": "stream",
     "text": [
      "Platename: herent_w33_1-30_F10_51 mm_ISO160_1-15 s_IncandescentWB.png\n",
      "7/6 [=================================] - 0s 32ms/step\n"
     ]
    },
    {
     "name": "stderr",
     "output_type": "stream",
     "text": [
      "107it [02:52,  1.24s/it]"
     ]
    },
    {
     "name": "stdout",
     "output_type": "stream",
     "text": [
      "Platename: herent_w33_1-60_F10_51 mm_ISO160_1-15 s_IncandescentWB.png\n",
      "8/7 [=================================] - 0s 32ms/step\n"
     ]
    },
    {
     "name": "stderr",
     "output_type": "stream",
     "text": [
      "108it [02:53,  1.23s/it]"
     ]
    },
    {
     "name": "stdout",
     "output_type": "stream",
     "text": [
      "Platename: herent_w33_1-90_F10_51 mm_ISO160_1-15 s_IncandescentWB.png\n",
      "14/13 [==============================] - 0s 34ms/step\n"
     ]
    },
    {
     "name": "stderr",
     "output_type": "stream",
     "text": [
      "109it [02:55,  1.34s/it]"
     ]
    },
    {
     "name": "stdout",
     "output_type": "stream",
     "text": [
      "Platename: herent_w33_2-30_F10_51 mm_ISO160_1-15 s_IncandescentWB.png\n",
      "7/6 [===============================] - 0s 34ms/step\n"
     ]
    },
    {
     "name": "stderr",
     "output_type": "stream",
     "text": [
      "110it [02:56,  1.28s/it]"
     ]
    },
    {
     "name": "stdout",
     "output_type": "stream",
     "text": [
      "Platename: herent_w33_2-60_F10_51 mm_ISO160_1-15 s_IncandescentWB.png\n",
      "6/5 [==============================] - 0s 35ms/step\n"
     ]
    },
    {
     "name": "stderr",
     "output_type": "stream",
     "text": [
      "111it [02:57,  1.23s/it]"
     ]
    },
    {
     "name": "stdout",
     "output_type": "stream",
     "text": [
      "Platename: herent_w33_2-90_F10_51 mm_ISO160_1-15 s_IncandescentWB.png\n",
      "11/10 [================================] - 0s 33ms/step\n"
     ]
    },
    {
     "name": "stderr",
     "output_type": "stream",
     "text": [
      "112it [02:59,  1.27s/it]"
     ]
    },
    {
     "name": "stdout",
     "output_type": "stream",
     "text": [
      "Platename: herent_w33_3-30_F10_51 mm_ISO160_1-15 s_IncandescentWB.png\n",
      "6/6 [==============================] - 0s 35ms/step\n"
     ]
    },
    {
     "name": "stderr",
     "output_type": "stream",
     "text": [
      "113it [03:00,  1.22s/it]"
     ]
    },
    {
     "name": "stdout",
     "output_type": "stream",
     "text": [
      "Platename: herent_w33_3-60_F10_51 mm_ISO160_1-15 s_IncandescentWB.png\n",
      "6/5 [=================================] - 0s 33ms/step\n"
     ]
    },
    {
     "name": "stderr",
     "output_type": "stream",
     "text": [
      "114it [03:01,  1.17s/it]"
     ]
    },
    {
     "name": "stdout",
     "output_type": "stream",
     "text": [
      "Platename: herent_w33_3-90_F10_51 mm_ISO160_1-15 s_IncandescentWB.png\n",
      "5/4 [==================================] - 0s 33ms/step\n"
     ]
    },
    {
     "name": "stderr",
     "output_type": "stream",
     "text": [
      "115it [03:02,  1.13s/it]"
     ]
    },
    {
     "name": "stdout",
     "output_type": "stream",
     "text": [
      "Platename: herent_w33_4-30_F10_51 mm_ISO160_1-15 s_IncandescentWB.png\n",
      "7/6 [===============================] - 0s 34ms/step\n"
     ]
    },
    {
     "name": "stderr",
     "output_type": "stream",
     "text": [
      "116it [03:03,  1.13s/it]"
     ]
    },
    {
     "name": "stdout",
     "output_type": "stream",
     "text": [
      "Platename: herent_w33_4-60_F10_51 mm_ISO160_1-15 s_IncandescentWB.png\n",
      "7/6 [==============================] - 1s 201ms/step\n"
     ]
    },
    {
     "name": "stderr",
     "output_type": "stream",
     "text": [
      "117it [03:05,  1.47s/it]"
     ]
    },
    {
     "name": "stdout",
     "output_type": "stream",
     "text": [
      "Platename: herent_w33_4-90_F10_51 mm_ISO160_1-15 s_IncandescentWB.png\n",
      "12/11 [==============================] - 0s 35ms/step\n"
     ]
    },
    {
     "name": "stderr",
     "output_type": "stream",
     "text": [
      "118it [03:07,  1.45s/it]"
     ]
    },
    {
     "name": "stdout",
     "output_type": "stream",
     "text": [
      "Platename: herent_w33_centroid_F10_51 mm_ISO160_1-15 s_IncandescentWB.png\n",
      "5/4 [==============================] - 0s 35ms/step\n"
     ]
    },
    {
     "name": "stderr",
     "output_type": "stream",
     "text": [
      "119it [03:08,  1.32s/it]"
     ]
    },
    {
     "name": "stdout",
     "output_type": "stream",
     "text": [
      "Platename: merchtem_20200818_B1_F10_51 mm_ISO160_1-15 s_IncandescentWB.png\n",
      "12/11 [==============================] - 0s 35ms/step\n"
     ]
    },
    {
     "name": "stderr",
     "output_type": "stream",
     "text": [
      "120it [03:09,  1.36s/it]"
     ]
    },
    {
     "name": "stdout",
     "output_type": "stream",
     "text": [
      "Platename: merchtem_20200818_B2_F10_51 mm_ISO160_1-15 s_IncandescentWB.png\n",
      "7/6 [=================================] - 0s 32ms/step\n"
     ]
    },
    {
     "name": "stderr",
     "output_type": "stream",
     "text": [
      "121it [03:10,  1.30s/it]"
     ]
    },
    {
     "name": "stdout",
     "output_type": "stream",
     "text": [
      "Platename: merchtem_20200818_B3_F10_51 mm_ISO160_1-15 s_IncandescentWB.png\n",
      "8/7 [===============================] - 0s 34ms/step\n"
     ]
    },
    {
     "name": "stderr",
     "output_type": "stream",
     "text": [
      "122it [03:11,  1.27s/it]"
     ]
    },
    {
     "name": "stdout",
     "output_type": "stream",
     "text": [
      "Platename: merchtem_20200818_M1_F10_51 mm_ISO160_1-15 s_IncandescentWB.png\n",
      "9/8 [===============================] - 0s 35ms/step\n"
     ]
    },
    {
     "name": "stderr",
     "output_type": "stream",
     "text": [
      "123it [03:13,  1.27s/it]"
     ]
    },
    {
     "name": "stdout",
     "output_type": "stream",
     "text": [
      "Platename: merchtem_20200818_M2_F10_51 mm_ISO160_1-15 s_IncandescentWB.png\n",
      "8/7 [=================================] - 0s 32ms/step\n"
     ]
    },
    {
     "name": "stderr",
     "output_type": "stream",
     "text": [
      "124it [03:14,  1.24s/it]"
     ]
    },
    {
     "name": "stdout",
     "output_type": "stream",
     "text": [
      "Platename: merchtem_20200818_M3_F10_51 mm_ISO160_1-15 s_IncandescentWB.png\n",
      "9/8 [================================] - 0s 33ms/step\n"
     ]
    },
    {
     "name": "stderr",
     "output_type": "stream",
     "text": [
      "125it [03:15,  1.24s/it]"
     ]
    },
    {
     "name": "stdout",
     "output_type": "stream",
     "text": [
      "Platename: racour_20200817_A_F10_51 mm_ISO160_1-15 s_IncandescentWB.png\n",
      "7/6 [==============================] - 0s 34ms/step\n"
     ]
    },
    {
     "name": "stderr",
     "output_type": "stream",
     "text": [
      "126it [03:16,  1.21s/it]"
     ]
    },
    {
     "name": "stdout",
     "output_type": "stream",
     "text": [
      "Platename: racour_20200817_B_F10_51 mm_ISO160_1-15 s_IncandescentWB.png\n",
      "8/7 [================================] - 0s 33ms/step\n"
     ]
    },
    {
     "name": "stderr",
     "output_type": "stream",
     "text": [
      "127it [03:17,  1.20s/it]"
     ]
    },
    {
     "name": "stdout",
     "output_type": "stream",
     "text": [
      "Platename: racour_20200817_C_F10_51 mm_ISO160_1-15 s_IncandescentWB.png\n",
      "7/6 [==================================] - 0s 32ms/step\n"
     ]
    },
    {
     "name": "stderr",
     "output_type": "stream",
     "text": [
      "128it [03:18,  1.17s/it]"
     ]
    },
    {
     "name": "stdout",
     "output_type": "stream",
     "text": [
      "Platename: herent_w34_1-30_F10_51 mm_ISO160_1-15 s_IncandescentWB.png\n",
      "4/3 [===============================] - 0s 35ms/step\n"
     ]
    },
    {
     "name": "stderr",
     "output_type": "stream",
     "text": [
      "129it [03:19,  1.11s/it]"
     ]
    },
    {
     "name": "stdout",
     "output_type": "stream",
     "text": [
      "Platename: herent_w34_1-60_F10_51 mm_ISO160_1-15 s_IncandescentWB.png\n",
      "3/2 [================================] - 0s 35ms/step\n"
     ]
    },
    {
     "name": "stderr",
     "output_type": "stream",
     "text": [
      "130it [03:20,  1.05s/it]"
     ]
    },
    {
     "name": "stdout",
     "output_type": "stream",
     "text": [
      "Platename: herent_w34_1-90_F10_51 mm_ISO160_1-15 s_IncandescentWB.png\n",
      "4/3 [=======================================] - 0s 30ms/step\n"
     ]
    },
    {
     "name": "stderr",
     "output_type": "stream",
     "text": [
      "131it [03:21,  1.01s/it]"
     ]
    },
    {
     "name": "stdout",
     "output_type": "stream",
     "text": [
      "Platename: herent_w34_2-30_F10_51 mm_ISO160_1-15 s_IncandescentWB.png\n",
      "4/3 [===================================] - 0s 31ms/step\n"
     ]
    },
    {
     "name": "stderr",
     "output_type": "stream",
     "text": [
      "132it [03:22,  1.01it/s]"
     ]
    },
    {
     "name": "stdout",
     "output_type": "stream",
     "text": [
      "Platename: herent_w34_2-60_F10_51 mm_ISO160_1-15 s_IncandescentWB.png\n",
      "2/1 [=======================================] - 0s 30ms/step\n"
     ]
    },
    {
     "name": "stderr",
     "output_type": "stream",
     "text": [
      "133it [03:23,  1.06it/s]"
     ]
    },
    {
     "name": "stdout",
     "output_type": "stream",
     "text": [
      "Platename: herent_w34_2-90_F10_51 mm_ISO160_1-15 s_IncandescentWB.png\n",
      "5/4 [================================] - 0s 32ms/step\n"
     ]
    },
    {
     "name": "stderr",
     "output_type": "stream",
     "text": [
      "134it [03:24,  1.04it/s]"
     ]
    },
    {
     "name": "stdout",
     "output_type": "stream",
     "text": [
      "Platename: herent_w34_3-30_F10_51 mm_ISO160_1-15 s_IncandescentWB.png\n",
      "2/1 [==============================] - 0s 36ms/step\n"
     ]
    },
    {
     "name": "stderr",
     "output_type": "stream",
     "text": [
      "135it [03:25,  1.09it/s]"
     ]
    },
    {
     "name": "stdout",
     "output_type": "stream",
     "text": [
      "Platename: herent_w34_3-60_F10_51 mm_ISO160_1-15 s_IncandescentWB.png\n",
      "4/3 [=====================================] - 0s 30ms/step\n"
     ]
    },
    {
     "name": "stderr",
     "output_type": "stream",
     "text": [
      "136it [03:26,  1.08it/s]"
     ]
    },
    {
     "name": "stdout",
     "output_type": "stream",
     "text": [
      "Platename: herent_w34_3-90_F10_51 mm_ISO160_1-15 s_IncandescentWB.png\n",
      "4/3 [==============================] - 0s 35ms/step\n"
     ]
    },
    {
     "name": "stderr",
     "output_type": "stream",
     "text": [
      "137it [03:27,  1.06it/s]"
     ]
    },
    {
     "name": "stdout",
     "output_type": "stream",
     "text": [
      "Platename: herent_w34_4-30_F10_51 mm_ISO160_1-15 s_IncandescentWB.png\n",
      "3/2 [=================================] - 0s 34ms/step\n"
     ]
    },
    {
     "name": "stderr",
     "output_type": "stream",
     "text": [
      "138it [03:28,  1.07it/s]"
     ]
    },
    {
     "name": "stdout",
     "output_type": "stream",
     "text": [
      "Platename: herent_w34_4-60_F10_51 mm_ISO160_1-15 s_IncandescentWB.png\n",
      "5/4 [================================] - 0s 33ms/step\n"
     ]
    },
    {
     "name": "stderr",
     "output_type": "stream",
     "text": [
      "139it [03:29,  1.04it/s]"
     ]
    },
    {
     "name": "stdout",
     "output_type": "stream",
     "text": [
      "Platename: herent_w34_centroid_F10_51 mm_ISO160_1-15 s_IncandescentWB.png\n",
      "1/0 [==============================] - 0s 38ms/step\n"
     ]
    },
    {
     "name": "stderr",
     "output_type": "stream",
     "text": [
      "140it [03:30,  1.09it/s]"
     ]
    },
    {
     "name": "stdout",
     "output_type": "stream",
     "text": [
      "Platename: merchtem_20200825_B1_F10_51 mm_ISO160_1-15 s_IncandescentWB.png\n",
      "4/4 [==============================] - 0s 35ms/step\n"
     ]
    },
    {
     "name": "stderr",
     "output_type": "stream",
     "text": [
      "141it [03:31,  1.07it/s]"
     ]
    },
    {
     "name": "stdout",
     "output_type": "stream",
     "text": [
      "Platename: merchtem_20200825_B2_F10_51 mm_ISO160_1-15 s_IncandescentWB.png\n",
      "8/7 [=================================] - 0s 32ms/step\n"
     ]
    },
    {
     "name": "stderr",
     "output_type": "stream",
     "text": [
      "142it [03:32,  1.02s/it]"
     ]
    },
    {
     "name": "stdout",
     "output_type": "stream",
     "text": [
      "Platename: merchtem_20200825_B3_F10_51 mm_ISO160_1-15 s_IncandescentWB.png\n",
      "9/8 [=================================] - 0s 33ms/step\n"
     ]
    },
    {
     "name": "stderr",
     "output_type": "stream",
     "text": [
      "143it [03:33,  1.10s/it]"
     ]
    },
    {
     "name": "stdout",
     "output_type": "stream",
     "text": [
      "Platename: merchtem_20200825_M1_F10_51 mm_ISO160_1-15 s_IncandescentWB.png\n",
      "3/2 [======================================] - 0s 30ms/step\n"
     ]
    },
    {
     "name": "stderr",
     "output_type": "stream",
     "text": [
      "144it [03:34,  1.03s/it]"
     ]
    },
    {
     "name": "stdout",
     "output_type": "stream",
     "text": [
      "Platename: merchtem_20200825_M2_F10_51 mm_ISO160_1-15 s_IncandescentWB.png\n",
      "2/1 [==================================] - 0s 33ms/step\n"
     ]
    },
    {
     "name": "stderr",
     "output_type": "stream",
     "text": [
      "145it [03:35,  1.02it/s]"
     ]
    },
    {
     "name": "stdout",
     "output_type": "stream",
     "text": [
      "Platename: merchtem_20200825_M3_F10_51 mm_ISO160_1-15 s_IncandescentWB.png\n",
      "2/1 [=================================] - 0s 47ms/step\n"
     ]
    },
    {
     "name": "stderr",
     "output_type": "stream",
     "text": [
      "146it [03:36,  1.06it/s]"
     ]
    },
    {
     "name": "stdout",
     "output_type": "stream",
     "text": [
      "Platename: racour_20200824_A_F10_51 mm_ISO160_1-15 s_IncandescentWB.png\n",
      "6/5 [==================================] - 0s 49ms/step\n"
     ]
    },
    {
     "name": "stderr",
     "output_type": "stream",
     "text": [
      "147it [03:37,  1.01s/it]"
     ]
    },
    {
     "name": "stdout",
     "output_type": "stream",
     "text": [
      "Platename: racour_20200824_B_F10_51 mm_ISO160_1-15 s_IncandescentWB.png\n",
      "4/3 [====================================] - 0s 34ms/step\n"
     ]
    },
    {
     "name": "stderr",
     "output_type": "stream",
     "text": [
      "148it [03:38,  1.01it/s]"
     ]
    },
    {
     "name": "stdout",
     "output_type": "stream",
     "text": [
      "Platename: racour_20200824_C_F10_51 mm_ISO160_1-15 s_IncandescentWB.png\n",
      "4/3 [===================================] - 0s 32ms/step\n"
     ]
    },
    {
     "name": "stderr",
     "output_type": "stream",
     "text": [
      "149it [03:39,  1.02it/s]"
     ]
    },
    {
     "name": "stdout",
     "output_type": "stream",
     "text": [
      "Platename: herent_w35_1-30_F10_51 mm_ISO160_1-15 s_IncandescentWB.png\n",
      "2/1 [==============================] - 0s 37ms/step\n"
     ]
    },
    {
     "name": "stderr",
     "output_type": "stream",
     "text": [
      "150it [03:40,  1.04it/s]"
     ]
    },
    {
     "name": "stdout",
     "output_type": "stream",
     "text": [
      "Platename: herent_w35_1-60_F10_51 mm_ISO160_1-15 s_IncandescentWB.png\n",
      "3/2 [==========================================] - 0s 28ms/step\n"
     ]
    },
    {
     "name": "stderr",
     "output_type": "stream",
     "text": [
      "151it [03:40,  1.06it/s]"
     ]
    },
    {
     "name": "stdout",
     "output_type": "stream",
     "text": [
      "Platename: herent_w35_1-90_F10_51 mm_ISO160_1-15 s_IncandescentWB.png\n",
      "3/2 [===============================] - 0s 41ms/step\n"
     ]
    },
    {
     "name": "stderr",
     "output_type": "stream",
     "text": [
      "152it [03:41,  1.05it/s]"
     ]
    },
    {
     "name": "stdout",
     "output_type": "stream",
     "text": [
      "Platename: herent_w35_2-30_F10_51 mm_ISO160_1-15 s_IncandescentWB.png\n",
      "3/2 [====================================] - 0s 35ms/step\n"
     ]
    },
    {
     "name": "stderr",
     "output_type": "stream",
     "text": [
      "153it [03:42,  1.07it/s]"
     ]
    },
    {
     "name": "stdout",
     "output_type": "stream",
     "text": [
      "Platename: herent_w35_2-60_F10_51 mm_ISO160_1-15 s_IncandescentWB.png\n",
      "3/2 [====================================] - 0s 34ms/step\n"
     ]
    },
    {
     "name": "stderr",
     "output_type": "stream",
     "text": [
      "154it [03:43,  1.08it/s]"
     ]
    },
    {
     "name": "stdout",
     "output_type": "stream",
     "text": [
      "Platename: herent_w35_2-90_F10_51 mm_ISO160_1-15 s_IncandescentWB.png\n",
      "3/2 [====================================] - 0s 34ms/step\n"
     ]
    },
    {
     "name": "stderr",
     "output_type": "stream",
     "text": [
      "155it [03:44,  1.08it/s]"
     ]
    },
    {
     "name": "stdout",
     "output_type": "stream",
     "text": [
      "Platename: herent_w35_3-30_F10_51 mm_ISO160_1-15 s_IncandescentWB.png\n",
      "3/2 [===============================] - 0s 37ms/step\n"
     ]
    },
    {
     "name": "stderr",
     "output_type": "stream",
     "text": [
      "156it [03:45,  1.08it/s]"
     ]
    },
    {
     "name": "stdout",
     "output_type": "stream",
     "text": [
      "Platename: herent_w35_3-60_F10_51 mm_ISO160_1-15 s_IncandescentWB.png\n",
      "3/2 [====================================] - 0s 32ms/step\n"
     ]
    },
    {
     "name": "stderr",
     "output_type": "stream",
     "text": [
      "157it [03:46,  1.09it/s]"
     ]
    },
    {
     "name": "stdout",
     "output_type": "stream",
     "text": [
      "Platename: herent_w35_3-90_F10_51 mm_ISO160_1-15 s_IncandescentWB.png\n",
      "3/2 [=======================================] - 0s 30ms/step\n"
     ]
    },
    {
     "name": "stderr",
     "output_type": "stream",
     "text": [
      "158it [03:47,  1.11it/s]"
     ]
    },
    {
     "name": "stdout",
     "output_type": "stream",
     "text": [
      "Platename: herent_w35_4-30_F10_51 mm_ISO160_1-15 s_IncandescentWB.png\n",
      "3/2 [========================================] - 0s 35ms/step\n"
     ]
    },
    {
     "name": "stderr",
     "output_type": "stream",
     "text": [
      "159it [03:48,  1.12it/s]"
     ]
    },
    {
     "name": "stdout",
     "output_type": "stream",
     "text": [
      "Platename: herent_w35_4-60_F10_51 mm_ISO160_1-15 s_IncandescentWB.png\n",
      "3/2 [==================================] - 0s 38ms/step\n"
     ]
    },
    {
     "name": "stderr",
     "output_type": "stream",
     "text": [
      "160it [03:49,  1.12it/s]"
     ]
    },
    {
     "name": "stdout",
     "output_type": "stream",
     "text": [
      "Platename: herent_w35_4-90_F10_51 mm_ISO160_1-15 s_IncandescentWB.png\n",
      "3/2 [===================================] - 0s 38ms/step\n"
     ]
    },
    {
     "name": "stderr",
     "output_type": "stream",
     "text": [
      "161it [03:50,  1.12it/s]"
     ]
    },
    {
     "name": "stdout",
     "output_type": "stream",
     "text": [
      "Platename: herent_w35_centroid_F10_51 mm_ISO160_1-15 s_IncandescentWB.png\n",
      "2/1 [===================================] - 0s 35ms/step\n"
     ]
    },
    {
     "name": "stderr",
     "output_type": "stream",
     "text": [
      "162it [03:50,  1.15it/s]"
     ]
    },
    {
     "name": "stdout",
     "output_type": "stream",
     "text": [
      "Platename: merchtem_20200901_B1_F10_51 mm_ISO160_1-15 s_IncandescentWB.png\n",
      "7/6 [=================================] - 0s 34ms/step\n"
     ]
    },
    {
     "name": "stderr",
     "output_type": "stream",
     "text": [
      "163it [03:51,  1.06it/s]"
     ]
    },
    {
     "name": "stdout",
     "output_type": "stream",
     "text": [
      "Platename: merchtem_20200901_B2_F10_51 mm_ISO160_1-15 s_IncandescentWB.png\n",
      "7/6 [=================================] - 0s 33ms/step\n"
     ]
    },
    {
     "name": "stderr",
     "output_type": "stream",
     "text": [
      "164it [03:53,  1.01s/it]"
     ]
    },
    {
     "name": "stdout",
     "output_type": "stream",
     "text": [
      "Platename: merchtem_20200901_B3_F10_51 mm_ISO160_1-15 s_IncandescentWB.png\n",
      "5/4 [====================================] - 0s 30ms/step\n"
     ]
    },
    {
     "name": "stderr",
     "output_type": "stream",
     "text": [
      "165it [03:54,  1.00s/it]"
     ]
    },
    {
     "name": "stdout",
     "output_type": "stream",
     "text": [
      "Platename: merchtem_20200901_M1_F10_51 mm_ISO160_1-15 s_IncandescentWB.png\n",
      "2/1 [===================================] - 0s 31ms/step\n"
     ]
    },
    {
     "name": "stderr",
     "output_type": "stream",
     "text": [
      "166it [03:54,  1.04it/s]"
     ]
    },
    {
     "name": "stdout",
     "output_type": "stream",
     "text": [
      "Platename: merchtem_20200901_M2_F10_51 mm_ISO160_1-15 s_IncandescentWB.png\n",
      "2/1 [====================================] - 0s 31ms/step\n"
     ]
    },
    {
     "name": "stderr",
     "output_type": "stream",
     "text": [
      "167it [03:55,  1.08it/s]"
     ]
    },
    {
     "name": "stdout",
     "output_type": "stream",
     "text": [
      "Platename: merchtem_20200901_M3_F10_51 mm_ISO160_1-15 s_IncandescentWB.png\n",
      "2/1 [======================================] - 0s 40ms/step\n"
     ]
    },
    {
     "name": "stderr",
     "output_type": "stream",
     "text": [
      "168it [03:56,  1.11it/s]"
     ]
    },
    {
     "name": "stdout",
     "output_type": "stream",
     "text": [
      "Platename: racour_20200831_A_F10_51 mm_ISO160_1-15 s_IncandescentWB.png\n",
      "2/1 [====================================] - 0s 49ms/step\n"
     ]
    },
    {
     "name": "stderr",
     "output_type": "stream",
     "text": [
      "169it [03:57,  1.12it/s]"
     ]
    },
    {
     "name": "stdout",
     "output_type": "stream",
     "text": [
      "Platename: racour_20200831_B_F10_51 mm_ISO160_1-15 s_IncandescentWB.png\n",
      "3/2 [======================================] - 0s 50ms/step\n"
     ]
    },
    {
     "name": "stderr",
     "output_type": "stream",
     "text": [
      "170it [03:58,  1.10it/s]"
     ]
    },
    {
     "name": "stdout",
     "output_type": "stream",
     "text": [
      "Platename: racour_20200831_C_upsidedownonfield_F10_51 mm_ISO160_1-15 s_IncandescentWB.png\n",
      "2/1 [=======================================] - 0s 38ms/step\n"
     ]
    },
    {
     "name": "stderr",
     "output_type": "stream",
     "text": [
      "171it [03:59,  1.13it/s]"
     ]
    },
    {
     "name": "stdout",
     "output_type": "stream",
     "text": [
      "Platename: herent_w36_1-30_F10_51 mm_ISO160_1-15 s_IncandescentWB.png\n",
      "2/1 [==================================] - 0s 40ms/step\n"
     ]
    },
    {
     "name": "stderr",
     "output_type": "stream",
     "text": [
      "172it [04:00,  1.15it/s]"
     ]
    },
    {
     "name": "stdout",
     "output_type": "stream",
     "text": [
      "Platename: herent_w36_1-60_F10_51 mm_ISO160_1-15 s_IncandescentWB.png\n",
      "4/3 [=====================================] - 0s 50ms/step\n"
     ]
    },
    {
     "name": "stderr",
     "output_type": "stream",
     "text": [
      "173it [04:01,  1.10it/s]"
     ]
    },
    {
     "name": "stdout",
     "output_type": "stream",
     "text": [
      "Platename: herent_w36_1-90_F10_51 mm_ISO160_1-15 s_IncandescentWB.png\n",
      "6/5 [=================================] - 0s 35ms/step\n"
     ]
    },
    {
     "name": "stderr",
     "output_type": "stream",
     "text": [
      "174it [04:02,  1.04it/s]"
     ]
    },
    {
     "name": "stdout",
     "output_type": "stream",
     "text": [
      "Platename: herent_w36_2-30_F10_51 mm_ISO160_1-15 s_IncandescentWB.png\n",
      "3/2 [==========================================] - 0s 29ms/step\n"
     ]
    },
    {
     "name": "stderr",
     "output_type": "stream",
     "text": [
      "175it [04:03,  1.06it/s]"
     ]
    },
    {
     "name": "stdout",
     "output_type": "stream",
     "text": [
      "Platename: herent_w36_2-60_F10_51 mm_ISO160_1-15 s_IncandescentWB.png\n",
      "3/2 [==========================================] - 0s 34ms/step\n"
     ]
    },
    {
     "name": "stderr",
     "output_type": "stream",
     "text": [
      "176it [04:04,  1.08it/s]"
     ]
    },
    {
     "name": "stdout",
     "output_type": "stream",
     "text": [
      "Platename: herent_w36_2-90_F10_51 mm_ISO160_1-15 s_IncandescentWB.png\n",
      "3/2 [==============================] - 0s 54ms/step\n"
     ]
    },
    {
     "name": "stderr",
     "output_type": "stream",
     "text": [
      "177it [04:04,  1.06it/s]"
     ]
    },
    {
     "name": "stdout",
     "output_type": "stream",
     "text": [
      "Platename: herent_w36_3-30_F10_51 mm_ISO160_1-15 s_IncandescentWB.png\n",
      "4/3 [======================================] - 0s 43ms/step\n"
     ]
    },
    {
     "name": "stderr",
     "output_type": "stream",
     "text": [
      "178it [04:06,  1.03it/s]"
     ]
    },
    {
     "name": "stdout",
     "output_type": "stream",
     "text": [
      "Platename: herent_w36_3-60_F10_51 mm_ISO160_1-15 s_IncandescentWB.png\n",
      "3/2 [========================================] - 0s 41ms/step\n"
     ]
    },
    {
     "name": "stderr",
     "output_type": "stream",
     "text": [
      "179it [04:06,  1.05it/s]"
     ]
    },
    {
     "name": "stdout",
     "output_type": "stream",
     "text": [
      "Platename: herent_w36_3-90_F10_51 mm_ISO160_1-15 s_IncandescentWB.png\n",
      "3/2 [================================] - 0s 40ms/step\n"
     ]
    },
    {
     "name": "stderr",
     "output_type": "stream",
     "text": [
      "180it [04:07,  1.06it/s]"
     ]
    },
    {
     "name": "stdout",
     "output_type": "stream",
     "text": [
      "Platename: herent_w36_4-30_F10_51 mm_ISO160_1-15 s_IncandescentWB.png\n",
      "3/2 [=================================] - 0s 37ms/step\n"
     ]
    },
    {
     "name": "stderr",
     "output_type": "stream",
     "text": [
      "181it [04:08,  1.07it/s]"
     ]
    },
    {
     "name": "stdout",
     "output_type": "stream",
     "text": [
      "Platename: herent_w36_4-60_F10_51 mm_ISO160_1-15 s_IncandescentWB.png\n",
      "3/2 [======================================] - 0s 32ms/step\n"
     ]
    },
    {
     "name": "stderr",
     "output_type": "stream",
     "text": [
      "182it [04:09,  1.09it/s]"
     ]
    },
    {
     "name": "stdout",
     "output_type": "stream",
     "text": [
      "Platename: herent_w36_4-90_F10_51 mm_ISO160_1-15 s_IncandescentWB.png\n",
      "5/4 [===================================] - 0s 35ms/step\n"
     ]
    },
    {
     "name": "stderr",
     "output_type": "stream",
     "text": [
      "183it [04:10,  1.06it/s]"
     ]
    },
    {
     "name": "stdout",
     "output_type": "stream",
     "text": [
      "Platename: herent_w36_centroid_F10_51 mm_ISO160_1-15 s_IncandescentWB.png\n",
      "2/1 [=======================================] - 0s 35ms/step\n"
     ]
    },
    {
     "name": "stderr",
     "output_type": "stream",
     "text": [
      "184it [04:11,  1.09it/s]"
     ]
    },
    {
     "name": "stdout",
     "output_type": "stream",
     "text": [
      "Platename: merchtem_20200908_B1_F10_51 mm_ISO160_1-15 s_IncandescentWB.png\n",
      "5/4 [====================================] - 0s 35ms/step\n"
     ]
    },
    {
     "name": "stderr",
     "output_type": "stream",
     "text": [
      "185it [04:12,  1.06it/s]"
     ]
    },
    {
     "name": "stdout",
     "output_type": "stream",
     "text": [
      "Platename: merchtem_20200908_B2_F10_51 mm_ISO160_1-15 s_IncandescentWB.png\n",
      "8/7 [================================] - 0s 33ms/step\n"
     ]
    },
    {
     "name": "stderr",
     "output_type": "stream",
     "text": [
      "186it [04:13,  1.02s/it]"
     ]
    },
    {
     "name": "stdout",
     "output_type": "stream",
     "text": [
      "Platename: merchtem_20200908_B3_F10_51 mm_ISO160_1-15 s_IncandescentWB.png\n",
      "9/8 [===============================] - 0s 34ms/step\n"
     ]
    },
    {
     "name": "stderr",
     "output_type": "stream",
     "text": [
      "187it [04:14,  1.09s/it]"
     ]
    },
    {
     "name": "stdout",
     "output_type": "stream",
     "text": [
      "Platename: merchtem_20200908_M1_F10_51 mm_ISO160_1-15 s_IncandescentWB.png\n",
      "3/2 [====================================] - 0s 31ms/step\n"
     ]
    },
    {
     "name": "stderr",
     "output_type": "stream",
     "text": [
      "188it [04:15,  1.03s/it]"
     ]
    },
    {
     "name": "stdout",
     "output_type": "stream",
     "text": [
      "Platename: merchtem_20200908_M2_F10_51 mm_ISO160_1-15 s_IncandescentWB.png\n",
      "3/2 [========================================] - 0s 29ms/step\n"
     ]
    },
    {
     "name": "stderr",
     "output_type": "stream",
     "text": [
      "189it [04:16,  1.02it/s]"
     ]
    },
    {
     "name": "stdout",
     "output_type": "stream",
     "text": [
      "Platename: merchtem_20200908_M3_F10_51 mm_ISO160_1-15 s_IncandescentWB.png\n",
      "2/1 [==================================] - 0s 36ms/step\n"
     ]
    },
    {
     "name": "stderr",
     "output_type": "stream",
     "text": [
      "190it [04:17,  1.06it/s]"
     ]
    },
    {
     "name": "stdout",
     "output_type": "stream",
     "text": [
      "Platename: racour_20200907_A_F10_51 mm_ISO160_1-15 s_IncandescentWB.png\n",
      "4/3 [======================================] - 0s 42ms/step\n"
     ]
    },
    {
     "name": "stderr",
     "output_type": "stream",
     "text": [
      "191it [04:18,  1.04it/s]"
     ]
    },
    {
     "name": "stdout",
     "output_type": "stream",
     "text": [
      "Platename: racour_20200907_B_F10_51 mm_ISO160_1-15 s_IncandescentWB.png\n",
      "4/3 [=====================================] - 0s 33ms/step\n"
     ]
    },
    {
     "name": "stderr",
     "output_type": "stream",
     "text": [
      "192it [04:19,  1.04it/s]"
     ]
    },
    {
     "name": "stdout",
     "output_type": "stream",
     "text": [
      "Platename: racour_20200907_C_F10_51 mm_ISO160_1-15 s_IncandescentWB.png\n",
      "3/3 [==============================] - 0s 37ms/step\n"
     ]
    },
    {
     "name": "stderr",
     "output_type": "stream",
     "text": [
      "193it [04:20,  1.05it/s]"
     ]
    },
    {
     "name": "stdout",
     "output_type": "stream",
     "text": [
      "Platename: herent_w37_1-30_F10_51 mm_ISO160_1-15 s_IncandescentWB.png\n",
      "2/2 [==============================] - 0s 36ms/step\n"
     ]
    },
    {
     "name": "stderr",
     "output_type": "stream",
     "text": [
      "194it [04:21,  1.10it/s]"
     ]
    },
    {
     "name": "stdout",
     "output_type": "stream",
     "text": [
      "Platename: herent_w37_1-60_F10_51 mm_ISO160_1-15 s_IncandescentWB.png\n",
      "4/3 [================================] - 0s 40ms/step\n"
     ]
    },
    {
     "name": "stderr",
     "output_type": "stream",
     "text": [
      "195it [04:22,  1.08it/s]"
     ]
    },
    {
     "name": "stdout",
     "output_type": "stream",
     "text": [
      "Platename: herent_w37_1-90_F10_51 mm_ISO160_1-15 s_IncandescentWB.png\n",
      "5/4 [===================================] - 0s 32ms/step\n"
     ]
    },
    {
     "name": "stderr",
     "output_type": "stream",
     "text": [
      "196it [04:23,  1.06it/s]"
     ]
    },
    {
     "name": "stdout",
     "output_type": "stream",
     "text": [
      "Platename: herent_w37_2-30_F10_51 mm_ISO160_1-15 s_IncandescentWB.png\n",
      "3/2 [=================================] - 0s 32ms/step\n"
     ]
    },
    {
     "name": "stderr",
     "output_type": "stream",
     "text": [
      "197it [04:24,  1.08it/s]"
     ]
    },
    {
     "name": "stdout",
     "output_type": "stream",
     "text": [
      "Platename: herent_w37_2-60_F10_51 mm_ISO160_1-15 s_IncandescentWB.png\n",
      "3/2 [====================================] - 0s 30ms/step\n"
     ]
    },
    {
     "name": "stderr",
     "output_type": "stream",
     "text": [
      "198it [04:24,  1.09it/s]"
     ]
    },
    {
     "name": "stdout",
     "output_type": "stream",
     "text": [
      "Platename: herent_w37_2-90_F10_51 mm_ISO160_1-15 s_IncandescentWB.png\n",
      "3/2 [=================================] - 0s 37ms/step\n"
     ]
    },
    {
     "name": "stderr",
     "output_type": "stream",
     "text": [
      "199it [04:25,  1.10it/s]"
     ]
    },
    {
     "name": "stdout",
     "output_type": "stream",
     "text": [
      "Platename: herent_w37_3-30_F10_51 mm_ISO160_1-15 s_IncandescentWB.png\n",
      "3/2 [================================] - 0s 45ms/step\n"
     ]
    },
    {
     "name": "stderr",
     "output_type": "stream",
     "text": [
      "200it [04:26,  1.09it/s]"
     ]
    },
    {
     "name": "stdout",
     "output_type": "stream",
     "text": [
      "Platename: herent_w37_3-60_F10_51 mm_ISO160_1-15 s_IncandescentWB.png\n",
      "3/2 [======================================] - 0s 33ms/step\n"
     ]
    },
    {
     "name": "stderr",
     "output_type": "stream",
     "text": [
      "201it [04:27,  1.11it/s]"
     ]
    },
    {
     "name": "stdout",
     "output_type": "stream",
     "text": [
      "Platename: herent_w37_3-90_F10_51 mm_ISO160_1-15 s_IncandescentWB.png\n",
      "4/3 [================================] - 0s 37ms/step\n"
     ]
    },
    {
     "name": "stderr",
     "output_type": "stream",
     "text": [
      "202it [04:28,  1.09it/s]"
     ]
    },
    {
     "name": "stdout",
     "output_type": "stream",
     "text": [
      "Platename: herent_w37_4-30_F10_51 mm_ISO160_1-15 s_IncandescentWB.png\n",
      "3/2 [=====================================] - 0s 30ms/step\n"
     ]
    },
    {
     "name": "stderr",
     "output_type": "stream",
     "text": [
      "203it [04:29,  1.10it/s]"
     ]
    },
    {
     "name": "stdout",
     "output_type": "stream",
     "text": [
      "Platename: herent_w37_4-60_F10_51 mm_ISO160_1-15 s_IncandescentWB.png\n",
      "3/2 [=================================] - 0s 33ms/step\n"
     ]
    },
    {
     "name": "stderr",
     "output_type": "stream",
     "text": [
      "204it [04:30,  1.11it/s]"
     ]
    },
    {
     "name": "stdout",
     "output_type": "stream",
     "text": [
      "Platename: herent_w37_4-90_F10_51 mm_ISO160_1-15 s_IncandescentWB.png\n",
      "5/4 [=================================] - 0s 36ms/step\n"
     ]
    },
    {
     "name": "stderr",
     "output_type": "stream",
     "text": [
      "205it [04:31,  1.07it/s]"
     ]
    },
    {
     "name": "stdout",
     "output_type": "stream",
     "text": [
      "Platename: herent_w37_centroid_F10_51 mm_ISO160_1-15 s_IncandescentWB.png\n",
      "3/2 [========================================] - 0s 29ms/step\n"
     ]
    },
    {
     "name": "stderr",
     "output_type": "stream",
     "text": [
      "206it [04:32,  1.10it/s]"
     ]
    },
    {
     "name": "stdout",
     "output_type": "stream",
     "text": [
      "Platename: merchtem_20200915_M1_F10_51 mm_ISO160_1-15 s_IncandescentWB.png\n",
      "3/2 [=================================] - 0s 33ms/step\n"
     ]
    },
    {
     "name": "stderr",
     "output_type": "stream",
     "text": [
      "207it [04:33,  1.11it/s]"
     ]
    },
    {
     "name": "stdout",
     "output_type": "stream",
     "text": [
      "Platename: merchtem_20200915_M2_F10_51 mm_ISO160_1-15 s_IncandescentWB.png\n",
      "3/2 [=================================] - 0s 36ms/step\n"
     ]
    },
    {
     "name": "stderr",
     "output_type": "stream",
     "text": [
      "208it [04:34,  1.12it/s]"
     ]
    },
    {
     "name": "stdout",
     "output_type": "stream",
     "text": [
      "Platename: merchtem_20200915_M3_F10_51 mm_ISO160_1-15 s_IncandescentWB.png\n",
      "3/2 [===============================] - 0s 36ms/step\n"
     ]
    },
    {
     "name": "stderr",
     "output_type": "stream",
     "text": [
      "209it [04:34,  1.12it/s]"
     ]
    },
    {
     "name": "stdout",
     "output_type": "stream",
     "text": [
      "Platename: racour_20200914_A_F10_51 mm_ISO160_1-15 s_IncandescentWB.png\n",
      "7/6 [================================] - 0s 40ms/step\n"
     ]
    },
    {
     "name": "stderr",
     "output_type": "stream",
     "text": [
      "210it [04:36,  1.02it/s]"
     ]
    },
    {
     "name": "stdout",
     "output_type": "stream",
     "text": [
      "Platename: racour_20200914_B_F10_51 mm_ISO160_1-15 s_IncandescentWB.png\n",
      "5/4 [==================================] - 0s 32ms/step\n"
     ]
    },
    {
     "name": "stderr",
     "output_type": "stream",
     "text": [
      "211it [04:37,  1.02it/s]"
     ]
    },
    {
     "name": "stdout",
     "output_type": "stream",
     "text": [
      "Platename: racour_20200914_C_F10_51 mm_ISO160_1-15 s_IncandescentWB.png\n",
      "4/3 [=================================] - 0s 33ms/step\n"
     ]
    },
    {
     "name": "stderr",
     "output_type": "stream",
     "text": [
      "212it [04:38,  1.31s/it]"
     ]
    },
    {
     "name": "stdout",
     "output_type": "stream",
     "text": [
      "path images: /home/kalfasyan/data/images/sticky_plates//created_data/images/\n",
      "path voc annotations: /home/kalfasyan/data/images/sticky_plates//created_data/voc_annotations/\n"
     ]
    },
    {
     "name": "stderr",
     "output_type": "stream",
     "text": [
      "\n"
     ]
    }
   ],
   "source": [
    "# Loop through all plates and nested loop through all insects in the plates\n",
    "for p, platename in tqdm(enumerate(plates)):\n",
    "\n",
    "    # Defining the platename\n",
    "    pname = platename.split('/')[-1][:-4] \n",
    "    if 'empty' in pname:\n",
    "        continue\n",
    "\n",
    "    # Reading the plate image\n",
    "    plate_img = read_plate(platename) \n",
    "    H,W,_ = plate_img.shape\n",
    "\n",
    "    # Reading the specifications of the plate\n",
    "    spec = pd.read_csv(plates[p][:-4] + '.txt', sep=\"\\t\") \n",
    "    # Fetching column names (only needed once)\n",
    "    if p == 0: \n",
    "        columns = [ii for ii in spec.columns if ii.endswith('.1')]\n",
    "        colextensions = ['index', 'name plate', 'R','G','B']\n",
    "        columns.extend(colextensions) # adding extra columns\n",
    "    spec = spec[columns]\n",
    "    spec.rename(columns={'index': 'insect_idx'}, inplace=True)\n",
    "    spec.dropna(axis=0, how='any', inplace=True)\n",
    "\n",
    "    # # ADDING YOLO AND HUMAN-READABLE ANNOTATION TO COLUMNS\n",
    "    # cmap = class_map[class_map['platename'] == pname].drop_duplicates(subset='idx', keep='first')\n",
    "    # sub_map = cmap[['idx','class_encoded']].set_index('idx')\n",
    "    # sub_map2 = cmap[['idx','class']].set_index('idx')\n",
    "    # spec['yolo_class'] = sub_map\n",
    "    # spec['normal_class'] = sub_map2\n",
    "\n",
    "    # Replacing commas from labview columns with dots\n",
    "    for col in labview_cols:\n",
    "        if spec[col].dtype not in [pd.np.dtype('float64')]:\n",
    "            spec[col] = spec[col].str.replace(\",\",\".\").astype(float)\n",
    "\n",
    "    print(f\"Platename: {platename.split('/')[-1]}\")\n",
    "    spec['pname'] = pname\n",
    "    # Making extracted boxes squares (to avoid distortions in future resizing)\n",
    "    spec['width'] = 150\n",
    "    spec['height'] = 150\n",
    "\n",
    "    # Creating specifications according to 'YOLO' format\n",
    "    spec['yolo_x'] = np.abs(spec['Bounding Rect Right.1'] - np.abs(spec['Bounding Rect Left.1'] - spec['Bounding Rect Right.1']) /2) / W\n",
    "    spec['yolo_y'] = np.abs(spec['Bounding Rect Bottom.1'] - np.abs(spec['Bounding Rect Top.1'] - spec['Bounding Rect Bottom.1']) /2) / H\n",
    "    spec['yolo_width'] = pd.concat([spec['width'], spec['height']], axis=1).max(axis=1) / W \n",
    "    spec['yolo_height'] = pd.concat([spec['width'], spec['height']], axis=1).max(axis=1) / H\n",
    "\n",
    "    ann_full_new = os.path.join( path_annotations , f\"{pname}.txt\" )\n",
    "    img_full_new = os.path.join( path_images , pname ) + '.jpg'\n",
    "\n",
    "    # SAVING IMAGES\n",
    "    if not os.path.isfile( img_full_new ):\n",
    "        cv2.imwrite(img_full_new, plate_img)\n",
    "\n",
    "    if save_extractions:\n",
    "        spec['normal_class'] = f\"{platename.split('/')[-4]}/{pname}\"\n",
    "        spec['yolo_class'] = 0\n",
    "        save_insect_crops(spec, path_crops_export, plate_img)\n",
    "\n",
    "        pltnames = pd.Series(os.listdir(f\"{path_crops_export}/{platename.split('/')[-4]}/{pname}/\"))\n",
    "        ser = pltnames.apply(lambda x: f\"{path_crops_export}/{platename.split('/')[-4]}/{pname}/{x}\")\n",
    "        y = [0 for i in range(len(ser))]\n",
    "        \n",
    "        pred = model.predict(valid_generator(ser.tolist(), y, batch_size=batch_size, nb_classes=nb_classes, img_dim=img_dim), \n",
    "                         steps= len(ser.tolist()) / batch_size, \n",
    "                         verbose=1)\n",
    "        spec['possible_wmv'] = (np.round(pred[:,-1],decimals=2) * 100).astype(int)\n",
    "        spec['possible_wmv'] = spec['possible_wmv'].apply(lambda x: \"\" if x<51 else f\"wmv?\")#_{x}%\")\n",
    "        spec['Klasse'] = ' '\n",
    "\n",
    "    spec = spec[['pname','insect_idx','Klasse','possible_wmv']]\n",
    "    spec.rename(columns={'pname': 'name plate', 'insect_idx': 'index'}, inplace=True)\n",
    "    \n",
    "    savedir = f\"{path_crops_export}/{platename.split('/')[-4]}\"\n",
    "    if not os.path.isdir(savedir):\n",
    "        os.makedirs(savedir)\n",
    "    spec.to_csv(f\"{savedir}/{pname}_specs.csv\")\n",
    "    all_specs.append(spec)\n",
    "\n",
    "df_specs = pd.concat(all_specs, axis=0)\n",
    "\n",
    "# SAVING DATAFRAMES WITH STATISTICS REGARDING THE PLATES AND BOUNDING BOXES\n",
    "df_specs.to_csv(f'{created_data_path}/df_specs.csv')\n",
    "print(f\"path images: {path_images}\")\n",
    "print(f\"path voc annotations: {path_voc_annotations}\")"
   ]
  },
  {
   "cell_type": "code",
   "execution_count": null,
   "metadata": {},
   "outputs": [],
   "source": []
  },
  {
   "cell_type": "code",
   "execution_count": null,
   "metadata": {},
   "outputs": [],
   "source": []
  }
 ],
 "metadata": {
  "kernelspec": {
   "display_name": "Python 3.7.8 64-bit ('objdetect': conda)",
   "language": "python",
   "name": "python37864bitobjdetectconda8045af5fdfef4ca9b47f908473881f2a"
  },
  "language_info": {
   "codemirror_mode": {
    "name": "ipython",
    "version": 3
   },
   "file_extension": ".py",
   "mimetype": "text/x-python",
   "name": "python",
   "nbconvert_exporter": "python",
   "pygments_lexer": "ipython3",
   "version": "3.7.8"
  }
 },
 "nbformat": 4,
 "nbformat_minor": 4
}
