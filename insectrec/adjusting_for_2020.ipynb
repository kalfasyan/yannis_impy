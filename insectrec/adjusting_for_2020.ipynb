{
 "cells": [
  {
   "cell_type": "code",
   "execution_count": 1,
   "metadata": {},
   "outputs": [
    {
     "name": "stdout",
     "output_type": "stream",
     "text": [
      "/home/kalfasyan/projects/yannis_impy\n",
      "/home/kalfasyan/projects/yannis_impy/insectrec\n"
     ]
    }
   ],
   "source": [
    "%reset -f\n",
    "import os\n",
    "print(os.getcwd())\n",
    "os.chdir(f\"{os.getcwd()}/insectrec/\")\n",
    "print(os.getcwd())"
   ]
  },
  {
   "cell_type": "code",
   "execution_count": null,
   "metadata": {},
   "outputs": [],
   "source": [
    "import numpy as np\n",
    "seed = 42\n",
    "np.random.seed(seed)\n",
    "import pandas as pd\n",
    "import os, shutil, glob, cv2, sys, argparse, git\n",
    "from natsort import natsorted\n",
    "from utils import clean_folder, get_plate_names, export_labels_2019, SAVE_DIR, read_plate\n",
    "from tqdm import tqdm\n",
    "repo = git.Repo('.', search_parent_directories=True)\n",
    "created_data_path = f'{repo.working_tree_dir}/insectrec/created_data'\n"
   ]
  },
  {
   "cell_type": "code",
   "execution_count": 3,
   "metadata": {},
   "outputs": [
    {
     "data": {
      "text/plain": [
       "'/home/kalfasyan/projects/yannis_impy/insectrec/created_data'"
      ]
     },
     "execution_count": 3,
     "metadata": {},
     "output_type": "execute_result"
    }
   ],
   "source": [
    "created_data_path"
   ]
  },
  {
   "cell_type": "code",
   "execution_count": 4,
   "metadata": {},
   "outputs": [],
   "source": [
    "# parser = argparse.ArgumentParser()\n",
    "# parser.add_argument(\"--datadir\", help=\"directory of sticky plate images\")\n",
    "# args = parser.parse_args()\n",
    "# assert isinstance(args.datadir, str) and os.path.isdir(args.datadir), 'Provide a valid path'\n",
    "# if not len(args.datadir): # /home/kalfasyan/data/images/sticky_plates/\n",
    "# \traise ValueError(\"Please provide a datadir argument.\")\n",
    "# datadir = '/home/kalfasyan/data/images/sticky_plates/2019/'\n",
    "datadir = '/home/kalfasyan/data/images/sticky_plates/2020/'"
   ]
  },
  {
   "cell_type": "code",
   "execution_count": 5,
   "metadata": {},
   "outputs": [],
   "source": [
    "# CREATING NECESSARY DIRECTORIES FOR THE PROJECT\n",
    "path_annotations = f'{created_data_path}/annotations/'\n",
    "path_images = f'{created_data_path}/images/'\n",
    "path_voc_annotations = f'{created_data_path}/voc_annotations/'\n",
    "path_impy_crops_export = f'{created_data_path}/impy_crops_export/'\n",
    "path_images_augmented = f'{created_data_path}/images_augmented/'\n",
    "path_weights = f'{created_data_path}/weights/'\n",
    "path_logs = f'{created_data_path}/logs/'\n",
    "for path in [path_annotations, path_images, path_voc_annotations, \n",
    "\t\t\tpath_impy_crops_export, path_weights, path_logs, path_images_augmented]:\n",
    "\tif not os.path.isdir(path):\n",
    "\t\tos.mkdir(path)\t"
   ]
  },
  {
   "cell_type": "code",
   "execution_count": 6,
   "metadata": {},
   "outputs": [
    {
     "name": "stdout",
     "output_type": "stream",
     "text": [
      "Cleaning directories..\n"
     ]
    }
   ],
   "source": [
    "include_herent = True\n",
    "yolo_to_voc = True # In the end of the script, yolo annotations get converted to voc\n",
    "extract_boxes = True # Only works if above is true. Bounding boxes extracted and saved as images\n",
    "clean = True # Deleting previous data created here (i.e. except of logs and weights)\n",
    "if clean:\n",
    "\tprint(f'Cleaning directories..')\n",
    "\tclean_folder(path_annotations)\n",
    "\tclean_folder(path_images)\n",
    "\tclean_folder(path_voc_annotations)\n",
    "\tos.system(f'rm -rf {path_impy_crops_export}*')\n",
    "\tos.system(f'rm -rf {path_images_augmented}*')\n",
    "\tos.system(f'rm {created_data_path}/df_*')\n",
    "\tos.system(f'rm {created_data_path}/class_mapping.csv')"
   ]
  },
  {
   "cell_type": "code",
   "execution_count": 7,
   "metadata": {},
   "outputs": [
    {
     "name": "stdout",
     "output_type": "stream",
     "text": [
      "2020\n"
     ]
    }
   ],
   "source": [
    "# Get name data from the sticky plates (their names)\n",
    "BASE_DATA_DIR = f\"{datadir}\"\n",
    "year = datadir.split('/')[-2] if datadir.endswith('/') else datadir.split('/')[-2]\n",
    "print(year)\n",
    "assert year in ['2019','2020'], 'Wrong year given'\n",
    "plates = get_plate_names(year, base_dir=BASE_DATA_DIR)"
   ]
  },
  {
   "cell_type": "code",
   "execution_count": 8,
   "metadata": {},
   "outputs": [
    {
     "name": "stdout",
     "output_type": "stream",
     "text": [
      "Found these excel annotation files: ['./created_data/results_20200212_W40 .xlsx', './created_data/results_20200810_w31&Racour3aug .xlsx', './created_data/results_20200724_w29&Racour2en13juli .xlsx', './created_data/results_datageleplaten_w00.xlsx', './created_data/results_20190730_20190806.xlsx', './created_data/results_2019_annotations_yannis.xlsx', './created_data/results_20190821.xlsx', './created_data/results_20191004_W38_en_W39.xlsx', './created_data/results_20191001_W35.xlsx', './created_data/results_20200129_W41 .xlsx', './created_data/results_20190809_ W31.xlsx', './created_data/results_20191001_W36.xlsx', './created_data/results_may_june.xlsx', './created_data/results_20191001_W34.xlsx', './created_data/results _20200707_w26 & Herent Controle, val 1, 2, 3 en delta.xlsx', './created_data/results_20191001_W37.xlsx', './created_data/results_20180806_W29.xlsx']\n",
      "Processing annotation file: ./created_data/results_20200212_W40 .xlsx\n",
      "Processing annotation file: ./created_data/results_20200810_w31&Racour3aug .xlsx\n",
      "Processing annotation file: ./created_data/results_20200724_w29&Racour2en13juli .xlsx\n",
      "Processing annotation file: ./created_data/results_datageleplaten_w00.xlsx\n",
      "Skipping file: ./created_data/results_datageleplaten_w00.xlsx\n",
      "Processing annotation file: ./created_data/results_20190730_20190806.xlsx\n",
      "Processing annotation file: ./created_data/results_2019_annotations_yannis.xlsx\n",
      "Processing annotation file: ./created_data/results_20190821.xlsx\n",
      "Processing annotation file: ./created_data/results_20191004_W38_en_W39.xlsx\n",
      "Processing annotation file: ./created_data/results_20191001_W35.xlsx\n",
      "Processing annotation file: ./created_data/results_20200129_W41 .xlsx\n",
      "Processing annotation file: ./created_data/results_20190809_ W31.xlsx\n",
      "Processing annotation file: ./created_data/results_20191001_W36.xlsx\n",
      "Processing annotation file: ./created_data/results_may_june.xlsx\n",
      "Processing annotation file: ./created_data/results_20191001_W34.xlsx\n",
      "Processing annotation file: ./created_data/results _20200707_w26 & Herent Controle, val 1, 2, 3 en delta.xlsx\n",
      "Processing annotation file: ./created_data/results_20191001_W37.xlsx\n",
      "Processing annotation file: ./created_data/results_20180806_W29.xlsx\n"
     ]
    }
   ],
   "source": [
    "# Create classes.txt for yolo annotations \n",
    "# and a class_mapping.csv with the human readable labels\n",
    "export_labels_2019(base_dir=SAVE_DIR)\n",
    "class_map = pd.read_csv('created_data/class_mapping.csv')\n",
    "assert len(class_map), \"Couldn't read class mapping\"\n",
    "sub = class_map[['class', 'class_encoded']].drop_duplicates()\n",
    "nan_code = sub[sub['class'].isnull()]['class_encoded'].iloc[0]"
   ]
  },
  {
   "cell_type": "code",
   "execution_count": 9,
   "metadata": {},
   "outputs": [
    {
     "name": "stderr",
     "output_type": "stream",
     "text": [
      "0it [00:00, ?it/s]"
     ]
    },
    {
     "name": "stdout",
     "output_type": "stream",
     "text": [
      "\n",
      "Found annotated data: True ----> COPYING IT\n",
      "/home/kalfasyan/data/images/sticky_plates/2020/20200706/plates/results/HerentCONTROLE_w04_F10_51 mm_ISO160_1-15 s_IncandescentWB.png\n",
      "Copying HerentCONTROLE_w04_F10_51 mm_ISO160_1-15 s_IncandescentWB\n"
     ]
    },
    {
     "name": "stderr",
     "output_type": "stream",
     "text": [
      "1it [00:01,  1.22s/it]"
     ]
    },
    {
     "name": "stdout",
     "output_type": "stream",
     "text": [
      "\n",
      "Found annotated data: True ----> COPYING IT\n",
      "/home/kalfasyan/data/images/sticky_plates/2020/20200706/plates/results/HerentCONTROLE_w05_F10_51 mm_ISO160_1-15 s_IncandescentWB.png\n",
      "Copying HerentCONTROLE_w05_F10_51 mm_ISO160_1-15 s_IncandescentWB\n"
     ]
    },
    {
     "name": "stderr",
     "output_type": "stream",
     "text": [
      "2it [00:01,  1.08s/it]"
     ]
    },
    {
     "name": "stdout",
     "output_type": "stream",
     "text": [
      "\n",
      "Found annotated data: True ----> COPYING IT\n",
      "/home/kalfasyan/data/images/sticky_plates/2020/20200706/plates/results/HerentVAL1_w04_F10_51 mm_ISO160_1-15 s_IncandescentWB.png\n",
      "Copying HerentVAL1_w04_F10_51 mm_ISO160_1-15 s_IncandescentWB\n"
     ]
    },
    {
     "name": "stderr",
     "output_type": "stream",
     "text": [
      "4it [00:02,  1.40it/s]"
     ]
    },
    {
     "name": "stdout",
     "output_type": "stream",
     "text": [
      "\n",
      "Found annotated data: True ----> COPYING IT\n",
      "/home/kalfasyan/data/images/sticky_plates/2020/20200706/plates/results/HerentVAL2_w04_F10_51 mm_ISO160_1-15 s_IncandescentWB.png\n",
      "Copying HerentVAL2_w04_F10_51 mm_ISO160_1-15 s_IncandescentWB\n"
     ]
    },
    {
     "name": "stderr",
     "output_type": "stream",
     "text": [
      "5it [00:03,  1.40it/s]"
     ]
    },
    {
     "name": "stdout",
     "output_type": "stream",
     "text": [
      "\n",
      "Found annotated data: True ----> COPYING IT\n",
      "/home/kalfasyan/data/images/sticky_plates/2020/20200706/plates/results/HerentVAL2_w05_F10_51 mm_ISO160_1-15 s_IncandescentWB.png\n",
      "Copying HerentVAL2_w05_F10_51 mm_ISO160_1-15 s_IncandescentWB\n"
     ]
    },
    {
     "name": "stderr",
     "output_type": "stream",
     "text": [
      "10it [00:04,  3.45it/s]"
     ]
    },
    {
     "name": "stdout",
     "output_type": "stream",
     "text": [
      "\n",
      "Found annotated data: True ----> COPYING IT\n",
      "/home/kalfasyan/data/images/sticky_plates/2020/20200706/plates/results/Herent_w26_1-30_F10_51 mm_ISO160_1-15 s_IncandescentWB.png\n",
      "Copying Herent_w26_1-30_F10_51 mm_ISO160_1-15 s_IncandescentWB\n"
     ]
    },
    {
     "name": "stderr",
     "output_type": "stream",
     "text": [
      "11it [00:05,  2.28it/s]"
     ]
    },
    {
     "name": "stdout",
     "output_type": "stream",
     "text": [
      "\n",
      "Found annotated data: True ----> COPYING IT\n",
      "/home/kalfasyan/data/images/sticky_plates/2020/20200706/plates/results/Herent_w26_1-60_F10_51 mm_ISO160_1-15 s_IncandescentWB.png\n",
      "Copying Herent_w26_1-60_F10_51 mm_ISO160_1-15 s_IncandescentWB\n"
     ]
    },
    {
     "name": "stderr",
     "output_type": "stream",
     "text": [
      "18it [00:07,  4.83it/s]"
     ]
    },
    {
     "name": "stdout",
     "output_type": "stream",
     "text": [
      "\n",
      "Found annotated data: True ----> COPYING IT\n",
      "/home/kalfasyan/data/images/sticky_plates/2020/20200706/plates/results/Herent_w26_3-90_F10_51 mm_ISO160_1-15 s_IncandescentWB.png\n",
      "Copying Herent_w26_3-90_F10_51 mm_ISO160_1-15 s_IncandescentWB\n"
     ]
    },
    {
     "name": "stderr",
     "output_type": "stream",
     "text": [
      "19it [00:08,  2.67it/s]"
     ]
    },
    {
     "name": "stdout",
     "output_type": "stream",
     "text": [
      "\n",
      "Found annotated data: True ----> COPYING IT\n",
      "/home/kalfasyan/data/images/sticky_plates/2020/20200706/plates/results/Herent_w26_4-30_F10_51 mm_ISO160_1-15 s_IncandescentWB.png\n",
      "Copying Herent_w26_4-30_F10_51 mm_ISO160_1-15 s_IncandescentWB\n"
     ]
    },
    {
     "name": "stderr",
     "output_type": "stream",
     "text": [
      "20it [00:08,  1.98it/s]"
     ]
    },
    {
     "name": "stdout",
     "output_type": "stream",
     "text": [
      "\n",
      "Found annotated data: True ----> COPYING IT\n",
      "/home/kalfasyan/data/images/sticky_plates/2020/20200706/plates/results/Herent_w26_4-60_F10_51 mm_ISO160_1-15 s_IncandescentWB.png\n",
      "Copying Herent_w26_4-60_F10_51 mm_ISO160_1-15 s_IncandescentWB\n"
     ]
    },
    {
     "name": "stderr",
     "output_type": "stream",
     "text": [
      "21it [00:09,  1.71it/s]"
     ]
    },
    {
     "name": "stdout",
     "output_type": "stream",
     "text": [
      "\n",
      "Found annotated data: True ----> COPYING IT\n",
      "/home/kalfasyan/data/images/sticky_plates/2020/20200706/plates/results/Herent_w26_4-90_F10_51 mm_ISO160_1-15 s_IncandescentWB.png\n",
      "Copying Herent_w26_4-90_F10_51 mm_ISO160_1-15 s_IncandescentWB\n"
     ]
    },
    {
     "name": "stderr",
     "output_type": "stream",
     "text": [
      "22it [00:10,  1.52it/s]"
     ]
    },
    {
     "name": "stdout",
     "output_type": "stream",
     "text": [
      "\n",
      "Found annotated data: True ----> COPYING IT\n",
      "/home/kalfasyan/data/images/sticky_plates/2020/20200706/plates/results/Herent_w26_centroid_F10_51 mm_ISO160_1-15 s_IncandescentWB.png\n",
      "Copying Herent_w26_centroid_F10_51 mm_ISO160_1-15 s_IncandescentWB\n"
     ]
    },
    {
     "name": "stderr",
     "output_type": "stream",
     "text": [
      "66it [00:18,  6.25it/s]"
     ]
    },
    {
     "name": "stdout",
     "output_type": "stream",
     "text": [
      "\n",
      "Found annotated data: True ----> COPYING IT\n",
      "/home/kalfasyan/data/images/sticky_plates/2020/20200723/plates/results/Racour_20200713_B_F10_51 mm_ISO160_1-15 s_IncandescentWB.png\n",
      "Copying Racour_20200713_B_F10_51 mm_ISO160_1-15 s_IncandescentWB\n"
     ]
    },
    {
     "name": "stderr",
     "output_type": "stream",
     "text": [
      "90it [00:22,  4.00it/s]\n"
     ]
    }
   ],
   "source": [
    "\n",
    "# Create a dataframe to save some statistics about the plates\n",
    "# such as the number of nans and number of unique insects per plate\n",
    "short_platenames = pd.Series(plates).apply(lambda x: x.split(\"/\")[-1][:-4])\n",
    "df_stats = pd.DataFrame(columns=['nr_nans','unique_insects','annotated'], index=short_platenames)\n",
    "all_specs = []\n",
    "\n",
    "annotated_plates, incomplete_plates = [], []\n",
    "# Extra pixels around the image to crop\n",
    "extra_pixels = 20\n",
    "\n",
    "# Plates to ignore, since they were found to contain bad data (blurred/misclassified etc.)\n",
    "bad_plates = []\n",
    "# \"['brainlal_w27_A_58_160_1-15 s_11_48 mm_Manual_Manual_6240 x 4160', \n",
    "# \t\t\t'brainelal_8719_B_81_160_1-15 s_11_48 mm_Manual_Manual_6240 x 4160',\n",
    "# \t\t\t'kampen_w25_C_72_160_1-15 s_11_48 mm_Manual_Manual_6240 x 4160',\n",
    "# \t\t\t'kampen_w25_B_71_160_1-15 s_11_48 mm_Manual_Manual_6240 x 4160']\"\n",
    "\n",
    "# Loop through all plates and nested loop through all insects in the plates\n",
    "for p, platename in tqdm(enumerate(plates)):\n",
    "    # Skip very early plates from herent that were imaged with old Canon \n",
    "    if not include_herent:\n",
    "        if platename.split('/')[-1].startswith('her'):\n",
    "            print(\"SKIPPING HERENT PLATE\")\n",
    "            continue\n",
    "    if platename.split('/')[-1][:-4] in bad_plates:\n",
    "        print(\"SKIPPING BAD PLATE\")\n",
    "        continue\n",
    "\n",
    "    pname = platename.split('/')[-1][:-4] # defining the platename\n",
    "    if 'empty' in pname:\n",
    "        continue\n",
    "    plate_img = read_plate(platename) # reading the plate image\n",
    "\n",
    "    H,W,_ = plate_img.shape\n",
    "\n",
    "    spec = pd.read_csv(plates[p][:-4] + '.txt', sep=\"\\t\") # reading the specifications of the plate\n",
    "\n",
    "    if p == 0: # fetching column names (only once needed)\n",
    "        columns = [ii for ii in spec.columns if ii.endswith('.1')]\n",
    "        colextensions = ['index', 'name plate', 'R','G','B']\n",
    "        columns.extend(colextensions) # adding extra columns\n",
    "\n",
    "    spec = spec[columns]\n",
    "    spec.dropna(axis=0, how='any', inplace=True) # cleaning up\n",
    "\n",
    "    # REPLACING COMMAS WITH DOTS\n",
    "    tmp = [spec[col].str.replace(',','.').astype(float) for col in columns if col not in colextensions]\n",
    "    spec = pd.concat(tmp, axis=1) # changing type to float\n",
    "    del tmp\n",
    "\n",
    "    # ADDING YOLO AND HUMAN-READABLE ANNOTATION TO COLUMNS\n",
    "    cmap = class_map[class_map['platename'] == pname].drop_duplicates(subset='idx', keep='first')\n",
    "    sub_map = cmap[['idx','class_encoded']].set_index('idx')\n",
    "    sub_map2 = cmap[['idx','class']].set_index('idx')\n",
    "    spec['yolo_class'] = sub_map\n",
    "    spec['normal_class'] = sub_map2\n",
    "\n",
    "    # REMOVING UNWANTED CLASSES \n",
    "    spec = spec[spec.normal_class != 'st'] # removing \"stuk\" class\n",
    "    spec = spec[spec.normal_class != 'vuil'] # removing \"vuil\" class\n",
    "    spec = spec[spec.normal_class.apply(lambda x: '+' not in str(x))]\n",
    "    # SELECTING WANTED CLASSES\n",
    "    # spec = spec[spec.normal_class.isin(['m','v','bl','c','wmv','v(cy)'])]\n",
    "    # spec = spec[spec.normal_class.isin(['m','v','bl','c','wmv','v(cy)',\n",
    "    # \t\t\t\t\t\t\t\t\t'bv','gaasvlieg','grv','k','kever','nl','psylloidea','sp','sst','sw','t','vlieg','weg','wnv','wswl'])]\n",
    "    # spec = spec[spec.normal_class.isin(['m','v','bl','c','wmv','v(cy)',\n",
    "    # \t\t\t\t\t\t\t\t\t'bv','sw','t'])]\n",
    "    spec = spec[spec.normal_class.isin(['m','v','c','wmv','v(cy)','t'])]\n",
    "\n",
    "    spec_nr_classes = spec['yolo_class'].unique().shape[0]\n",
    "    condition1 = (spec_nr_classes >= 1)\n",
    "    condition2 = True # (spec['yolo_class'].unique()[0] not in [nan_code, np.nan])\n",
    "    condition3 = (spec['yolo_class'].isnull().sum() != spec['yolo_class'].shape[0])\n",
    "\n",
    "    df_stats.loc[pname] = pd.Series({'nr_nans': spec[spec['yolo_class'] == nan_code].shape[0], \n",
    "                                        'unique_insects': spec['yolo_class'][spec['yolo_class'] != nan_code].unique().shape[0],\n",
    "                                        'annotated': False})\n",
    "\n",
    "    # finding the annotated plates - i.e the ones that don't have all nans in 'class'\n",
    "    if condition1 and condition2 and condition3:\n",
    "        print(f'\\nFound annotated data: {condition1 and condition2} ----> COPYING IT')\n",
    "        annotated_plates.append(platename)\n",
    "        print(platename)\n",
    "        spec['pname'] = pname\n",
    "\n",
    "        spec['yolo_class'].fillna(0, inplace=True)\n",
    "        spec['yolo_class'] = spec['yolo_class'].astype(int)\n",
    "        spec['yolo_x'] = np.abs(spec['Bounding Rect Right.1'] - np.abs(spec['Bounding Rect Left.1'] - spec['Bounding Rect Right.1']) /2) / W\n",
    "        spec['yolo_y'] = np.abs(spec['Bounding Rect Bottom.1'] - np.abs(spec['Bounding Rect Top.1'] - spec['Bounding Rect Bottom.1']) /2) / H\n",
    "        spec['width'] = 150#np.abs(spec['Bounding Rect Left.1'] - spec['Bounding Rect Right.1']) + extra_pixels\n",
    "        spec['height'] = 150#np.abs(spec['Bounding Rect Top.1'] - spec['Bounding Rect Bottom.1']) + extra_pixels\n",
    "\n",
    "        # Making extracted boxes squares (to avoid distortions in future resizing)\n",
    "        spec['yolo_width'] = pd.concat([spec['width'], spec['height']], axis=1).max(axis=1) / W \n",
    "        spec['yolo_height'] = pd.concat([spec['width'], spec['height']], axis=1).max(axis=1) / H\n",
    "\n",
    "\n",
    "        ann_full_new = os.path.join( path_annotations , f\"{pname}.txt\" )\n",
    "        img_full_new = os.path.join( path_images , pname ) + '.jpg'\n",
    "\n",
    "        # SAVING IMAGES\n",
    "        if not os.path.isfile( img_full_new ):\n",
    "            print(f\"Copying {pname}\")\n",
    "            cv2.imwrite(img_full_new, plate_img)\n",
    "        # SAVING ANNOTATIONS\n",
    "        if not len(spec) and not os.path.isfile( ann_full_new ):\n",
    "            print('Empty file', ann_full_new)\n",
    "            break\n",
    "        else:#if not os.path.isfile( ann_full_new ):\n",
    "            spec[['yolo_class','yolo_x','yolo_y','yolo_width','yolo_height']].to_csv(ann_full_new, sep=' ', index=False, header=False)\n",
    "\n",
    "        df_stats.loc[pname] = pd.Series({'nr_nans': spec[spec['yolo_class'] == nan_code].shape[0], \n",
    "                                            'unique_insects': spec['yolo_class'][spec['yolo_class'] != nan_code].unique().shape[0],\n",
    "                                            'annotated': True})\n",
    "\n",
    "        all_specs.append(spec)\n",
    "\n",
    "    else:\n",
    "        incomplete_plates.append(platename)\n",
    "\n",
    "df_specs = pd.concat(all_specs, axis=0)\n",
    "\n",
    "# SAVING DATAFRAMES WITH STATISTICS REGARDING THE PLATES AND BOUNDING BOXES\n",
    "df_stats.to_csv(f'{created_data_path}/df_stats.csv')\n",
    "df_specs.to_csv(f'{created_data_path}/df_specs.csv')"
   ]
  },
  {
   "cell_type": "code",
   "execution_count": 10,
   "metadata": {},
   "outputs": [
    {
     "name": "stderr",
     "output_type": "stream",
     "text": [
      "  0%|          | 0/13 [00:00<?, ?it/s]../impy/ImageAnnotation.py:76: FutureWarning: The behavior of this method will change in future versions.  Use specific 'len(elem)' or 'elem is not None' test instead.\n",
      "  if (root.find(\"size\")):\n",
      "../impy/ImageAnnotation.py:49: FutureWarning: The behavior of this method will change in future versions.  Use specific 'len(elem)' or 'elem is not None' test instead.\n",
      "  if (root.find(\"object\")):\n"
     ]
    },
    {
     "name": "stdout",
     "output_type": "stream",
     "text": [
      "HerentCONTROLE_w04_F10_51 mm_ISO160_1-15 s_IncandescentWB\n",
      "img:/home/kalfasyan/projects/yannis_impy/insectrec/created_data/images/HerentCONTROLE_w04_F10_51 mm_ISO160_1-15 s_IncandescentWB.jpg\n"
     ]
    },
    {
     "name": "stderr",
     "output_type": "stream",
     "text": [
      "  8%|▊         | 1/13 [00:00<00:03,  3.46it/s]"
     ]
    },
    {
     "name": "stdout",
     "output_type": "stream",
     "text": [
      "HerentCONTROLE_w05_F10_51 mm_ISO160_1-15 s_IncandescentWB\n",
      "img:/home/kalfasyan/projects/yannis_impy/insectrec/created_data/images/HerentCONTROLE_w05_F10_51 mm_ISO160_1-15 s_IncandescentWB.jpg\n"
     ]
    },
    {
     "name": "stderr",
     "output_type": "stream",
     "text": [
      " 15%|█▌        | 2/13 [00:00<00:03,  3.50it/s]"
     ]
    },
    {
     "name": "stdout",
     "output_type": "stream",
     "text": [
      "HerentVAL1_w04_F10_51 mm_ISO160_1-15 s_IncandescentWB\n",
      "img:/home/kalfasyan/projects/yannis_impy/insectrec/created_data/images/HerentVAL1_w04_F10_51 mm_ISO160_1-15 s_IncandescentWB.jpg\n"
     ]
    },
    {
     "name": "stderr",
     "output_type": "stream",
     "text": [
      " 23%|██▎       | 3/13 [00:00<00:02,  3.53it/s]"
     ]
    },
    {
     "name": "stdout",
     "output_type": "stream",
     "text": [
      "HerentVAL2_w04_F10_51 mm_ISO160_1-15 s_IncandescentWB\n",
      "img:/home/kalfasyan/projects/yannis_impy/insectrec/created_data/images/HerentVAL2_w04_F10_51 mm_ISO160_1-15 s_IncandescentWB.jpg\n"
     ]
    },
    {
     "name": "stderr",
     "output_type": "stream",
     "text": [
      " 31%|███       | 4/13 [00:01<00:02,  3.61it/s]"
     ]
    },
    {
     "name": "stdout",
     "output_type": "stream",
     "text": [
      "HerentVAL2_w05_F10_51 mm_ISO160_1-15 s_IncandescentWB\n",
      "img:/home/kalfasyan/projects/yannis_impy/insectrec/created_data/images/HerentVAL2_w05_F10_51 mm_ISO160_1-15 s_IncandescentWB.jpg\n"
     ]
    },
    {
     "name": "stderr",
     "output_type": "stream",
     "text": [
      " 38%|███▊      | 5/13 [00:01<00:02,  3.62it/s]"
     ]
    },
    {
     "name": "stdout",
     "output_type": "stream",
     "text": [
      "Herent_w26_1-30_F10_51 mm_ISO160_1-15 s_IncandescentWB\n",
      "img:/home/kalfasyan/projects/yannis_impy/insectrec/created_data/images/Herent_w26_1-30_F10_51 mm_ISO160_1-15 s_IncandescentWB.jpg\n"
     ]
    },
    {
     "name": "stderr",
     "output_type": "stream",
     "text": [
      " 46%|████▌     | 6/13 [00:01<00:02,  3.44it/s]"
     ]
    },
    {
     "name": "stdout",
     "output_type": "stream",
     "text": [
      "Herent_w26_1-60_F10_51 mm_ISO160_1-15 s_IncandescentWB\n",
      "img:/home/kalfasyan/projects/yannis_impy/insectrec/created_data/images/Herent_w26_1-60_F10_51 mm_ISO160_1-15 s_IncandescentWB.jpg\n"
     ]
    },
    {
     "name": "stderr",
     "output_type": "stream",
     "text": [
      " 54%|█████▍    | 7/13 [00:02<00:01,  3.35it/s]"
     ]
    },
    {
     "name": "stdout",
     "output_type": "stream",
     "text": [
      "Herent_w26_3-90_F10_51 mm_ISO160_1-15 s_IncandescentWB\n",
      "img:/home/kalfasyan/projects/yannis_impy/insectrec/created_data/images/Herent_w26_3-90_F10_51 mm_ISO160_1-15 s_IncandescentWB.jpg\n"
     ]
    },
    {
     "name": "stderr",
     "output_type": "stream",
     "text": [
      " 62%|██████▏   | 8/13 [00:02<00:01,  3.29it/s]"
     ]
    },
    {
     "name": "stdout",
     "output_type": "stream",
     "text": [
      "Herent_w26_4-30_F10_51 mm_ISO160_1-15 s_IncandescentWB\n",
      "img:/home/kalfasyan/projects/yannis_impy/insectrec/created_data/images/Herent_w26_4-30_F10_51 mm_ISO160_1-15 s_IncandescentWB.jpg\n"
     ]
    },
    {
     "name": "stderr",
     "output_type": "stream",
     "text": [
      " 69%|██████▉   | 9/13 [00:02<00:01,  3.27it/s]"
     ]
    },
    {
     "name": "stdout",
     "output_type": "stream",
     "text": [
      "Herent_w26_4-60_F10_51 mm_ISO160_1-15 s_IncandescentWB\n",
      "img:/home/kalfasyan/projects/yannis_impy/insectrec/created_data/images/Herent_w26_4-60_F10_51 mm_ISO160_1-15 s_IncandescentWB.jpg\n"
     ]
    },
    {
     "name": "stderr",
     "output_type": "stream",
     "text": [
      " 77%|███████▋  | 10/13 [00:02<00:00,  3.32it/s]"
     ]
    },
    {
     "name": "stdout",
     "output_type": "stream",
     "text": [
      "Herent_w26_4-90_F10_51 mm_ISO160_1-15 s_IncandescentWB\n",
      "img:/home/kalfasyan/projects/yannis_impy/insectrec/created_data/images/Herent_w26_4-90_F10_51 mm_ISO160_1-15 s_IncandescentWB.jpg\n"
     ]
    },
    {
     "name": "stderr",
     "output_type": "stream",
     "text": [
      " 85%|████████▍ | 11/13 [00:03<00:00,  3.15it/s]"
     ]
    },
    {
     "name": "stdout",
     "output_type": "stream",
     "text": [
      "Herent_w26_centroid_F10_51 mm_ISO160_1-15 s_IncandescentWB\n",
      "img:/home/kalfasyan/projects/yannis_impy/insectrec/created_data/images/Herent_w26_centroid_F10_51 mm_ISO160_1-15 s_IncandescentWB.jpg\n"
     ]
    },
    {
     "name": "stderr",
     "output_type": "stream",
     "text": [
      " 92%|█████████▏| 12/13 [00:03<00:00,  3.23it/s]"
     ]
    },
    {
     "name": "stdout",
     "output_type": "stream",
     "text": [
      "Racour_20200713_B_F10_51 mm_ISO160_1-15 s_IncandescentWB\n",
      "img:/home/kalfasyan/projects/yannis_impy/insectrec/created_data/images/Racour_20200713_B_F10_51 mm_ISO160_1-15 s_IncandescentWB.jpg\n"
     ]
    },
    {
     "name": "stderr",
     "output_type": "stream",
     "text": [
      "100%|██████████| 13/13 [00:04<00:00,  3.20it/s]\n"
     ]
    }
   ],
   "source": [
    "if yolo_to_voc:\n",
    "    # CONVERTING LABELS FROM YOLO ANNOTATIONS (txt) TO VOC (xml)\n",
    "    os.system(\"python yolo_to_voc.py\")\n",
    "    # EXTRACTING BOUNDING BOXES AS IMAGES\n",
    "    if extract_boxes:\n",
    "        import sys\n",
    "        sys.path.insert(0, '..')\n",
    "        from impy.ObjectDetectionDataset import ObjectDetectionDataset\n",
    "        sticky = ObjectDetectionDataset(imagesDirectory=path_images, \n",
    "                                        annotationsDirectory=path_voc_annotations,\n",
    "                                        databaseName='sticky_plates')\n",
    "        sticky.saveBoundingBoxes(outputDirectory=path_impy_crops_export)"
   ]
  },
  {
   "cell_type": "code",
   "execution_count": null,
   "metadata": {},
   "outputs": [],
   "source": []
  }
 ],
 "metadata": {
  "kernelspec": {
   "display_name": "Python 3",
   "language": "python",
   "name": "python3"
  },
  "language_info": {
   "codemirror_mode": {
    "name": "ipython",
    "version": 3
   },
   "file_extension": ".py",
   "mimetype": "text/x-python",
   "name": "python",
   "nbconvert_exporter": "python",
   "pygments_lexer": "ipython3",
   "version": "3.7.8"
  }
 },
 "nbformat": 4,
 "nbformat_minor": 4
}
