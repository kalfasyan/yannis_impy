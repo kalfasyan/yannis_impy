{
 "cells": [
  {
   "cell_type": "code",
   "execution_count": 3,
   "metadata": {},
   "outputs": [
    {
     "name": "stderr",
     "output_type": "stream",
     "text": [
      "ERROR:root:Invalid alias: The name clear can't be aliased because it is another magic command.\n",
      "ERROR:root:Invalid alias: The name more can't be aliased because it is another magic command.\n",
      "ERROR:root:Invalid alias: The name less can't be aliased because it is another magic command.\n",
      "ERROR:root:Invalid alias: The name man can't be aliased because it is another magic command.\n"
     ]
    }
   ],
   "source": [
    "%reset -f\n",
    "%matplotlib inline\n",
    "import numpy as np\n",
    "import matplotlib.pyplot as plt\n",
    "from six.moves import cPickle \n",
    "import os\n",
    "from natsort import natsorted\n",
    "from PIL import Image\n",
    "from tqdm import tqdm\n",
    "\n",
    "DATA_DIR = '/home/kalfasyan/data/imagenet/imgs_32x32/Imagenet32_train/'\n",
    "batch_files = natsorted(os.listdir(DATA_DIR))\n",
    "\n",
    "f = open(DATA_DIR + 'train_data_batch_1', 'rb') \n",
    "datadict = cPickle.load(f,encoding='latin1')\n",
    "f.close()\n",
    "X = datadict[\"data\"] \n",
    "Y = datadict['labels']\n",
    "X = X.reshape(X.shape[0], 3, 32, 32).transpose(0,2,3,1).astype(\"uint8\")\n",
    "Y = np.array(Y)\n",
    "\n",
    "# fig, axes1 = plt.subplots(5,5,figsize=(13,13))\n",
    "# for j in range(5):\n",
    "#     for k in range(5):\n",
    "#         i = np.random.choice(range(len(X)))\n",
    "#         axes1[j][k].set_axis_off()\n",
    "#         axes1[j][k].imshow(X[i:i+1][0])\n",
    "# X.shape"
   ]
  },
  {
   "cell_type": "code",
   "execution_count": 4,
   "metadata": {},
   "outputs": [
    {
     "name": "stderr",
     "output_type": "stream",
     "text": [
      "128116it [00:26, 4864.92it/s]\n",
      "128116it [00:27, 4684.82it/s]\n",
      "128116it [00:26, 4786.19it/s]\n",
      "128116it [00:26, 4828.10it/s]\n",
      "128116it [00:27, 4635.78it/s]\n",
      "128116it [00:26, 4812.92it/s]\n",
      "128116it [00:26, 4815.10it/s]\n",
      "128116it [00:26, 4796.66it/s]\n",
      "128116it [00:27, 4743.64it/s]\n",
      "128116it [00:27, 4731.45it/s]\n"
     ]
    }
   ],
   "source": [
    "for b in batch_files:\n",
    "    savedir = DATA_DIR + b + '_dir/'\n",
    "    if not os.path.exists(savedir):\n",
    "        os.mkdir(savedir)\n",
    "    for i, img in tqdm(enumerate(X)):\n",
    "        im = Image.fromarray(img)\n",
    "        im.save(savedir + 'img_' + str(i) + '_' + str(Y[i]) + \".jpeg\")"
   ]
  },
  {
   "cell_type": "code",
   "execution_count": null,
   "metadata": {},
   "outputs": [],
   "source": []
  }
 ],
 "metadata": {
  "kernelspec": {
   "display_name": "Python 3",
   "language": "python",
   "name": "python3"
  },
  "language_info": {
   "codemirror_mode": {
    "name": "ipython",
    "version": 3
   },
   "file_extension": ".py",
   "mimetype": "text/x-python",
   "name": "python",
   "nbconvert_exporter": "python",
   "pygments_lexer": "ipython3",
   "version": "3.6.8"
  }
 },
 "nbformat": 4,
 "nbformat_minor": 2
}
