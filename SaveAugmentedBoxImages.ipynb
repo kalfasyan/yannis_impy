{
 "cells": [
  {
   "cell_type": "code",
   "execution_count": 5,
   "metadata": {},
   "outputs": [],
   "source": [
    "%reset -f\n",
    "from tensorflow.keras.models import Sequential, Model\n",
    "from tensorflow.keras.layers import Conv2D, MaxPooling2D, Activation, Flatten, Dense, GlobalAveragePooling2D\n",
    "from tensorflow.keras import backend as K\n",
    "from tensorflow.keras.preprocessing.image import ImageDataGenerator\n",
    "from tensorflow.keras.optimizers import Adam\n",
    "from sklearn.model_selection import train_test_split\n",
    "from tensorflow.keras.preprocessing.image import img_to_array\n",
    "from tensorflow.keras.utils import to_categorical\n",
    "from imutils import paths\n",
    "import matplotlib.pyplot as plt\n",
    "import numpy as np\n",
    "from numpy import random\n",
    "seed = 42\n",
    "np.random.seed(seed)\n",
    "from natsort import natsorted\n",
    "import pandas as pd\n",
    "import git, glob, os, cv2 \n",
    "from sklearn.model_selection import train_test_split\n",
    "from sklearn.preprocessing import LabelEncoder\n",
    "\n",
    "repo = git.Repo('.', search_parent_directories=True)\n",
    "root_path = f'{repo.working_tree_dir}/insectrec/created_data/'\n",
    "original_datapath = f'{root_path}impy_crops_export'\n",
    "aug_datapath = f'{root_path}images_augmented'\n",
    "\n",
    "img_dim = 80"
   ]
  },
  {
   "cell_type": "code",
   "execution_count": 6,
   "metadata": {},
   "outputs": [
    {
     "name": "stdout",
     "output_type": "stream",
     "text": [
      " loading images...\n",
      "(11282, 80, 80, 3)\n",
      "{0: 'bl', 1: 'c', 2: 'm', 3: 'v', 4: 'v(cy)', 5: 'wmv'}\n"
     ]
    }
   ],
   "source": [
    "# Creating le for encoding labels\n",
    "le = LabelEncoder()\n",
    "\n",
    "# Creating dataframe with all the original data (x: filenames, textlabels, y: nummerical labels)\n",
    "df_orig = pd.DataFrame()\n",
    "df_orig['x'] = pd.Series(glob.glob(f\"{original_datapath}/*/*.jpg\"))\n",
    "df_orig['textlabels'] = df_orig['x'].apply(lambda x: x.split('/')[-2])\n",
    "df_orig['y'] = le.fit_transform(df_orig.textlabels)\n",
    "\n",
    "# Splitting into train/val/test\n",
    "X_train, X_test, y_train, y_test = train_test_split(df_orig.x, df_orig.y, test_size=0.2, random_state=seed, shuffle=True)\n",
    "X_train, X_val, y_train, y_val = train_test_split(X_train, y_train, test_size=0.2, random_state=seed, shuffle=True)\n",
    "\n",
    "print(\" loading images...\")\n",
    "data = []\n",
    "labels = []\n",
    "\n",
    "imagePaths = natsorted(X_train.tolist())\n",
    "np.random.seed(42)\n",
    "np.random.shuffle(imagePaths)\n",
    "for imagePath in imagePaths:\n",
    "    # load the image, pre-process it, and store it in the data list\n",
    "    image = cv2.imread(imagePath)\n",
    "    image = cv2.cvtColor(image, cv2.COLOR_BGR2RGB)\n",
    "    image = cv2.resize(image, (img_dim, img_dim))\n",
    "    image = img_to_array(image)\n",
    "    data.append(image)\n",
    "\n",
    "    # extract the class label from the image path and update the\n",
    "    # labels list\n",
    "    label = imagePath.split(os.path.sep)[-2]\n",
    "    labels.append(label)\n",
    "    \n",
    "data = np.array(data, dtype=\"float\") / 255.0\n",
    "print(data.shape)\n",
    "\n",
    "aug = ImageDataGenerator(rotation_range=30, \n",
    "                         width_shift_range=0.1,\n",
    "                         height_shift_range=0.1, \n",
    "#                          zoom_range=0.3, \n",
    "                         horizontal_flip=True, \n",
    "                         vertical_flip=True, \n",
    "#                          brightness_range=[0.8,1.2],\n",
    "#                          zca_whitening=True,\n",
    "                         fill_mode=\"nearest\")\n",
    "\n",
    "name_map = dict(zip(le.transform(le.classes_), le.classes_))\n",
    "print(name_map)\n",
    "y = np.array(y_train.tolist(), dtype=\"float\")\n",
    "\n",
    "aug_imgs_path = './insectrec/created_data/images_augmented/'\n",
    "\n",
    "rdm = np.random.randint(0,1e6)\n",
    "for i in np.unique(df_orig.textlabels.unique().tolist()):\n",
    "    if not os.path.isdir(f'{aug_imgs_path}/{i}'):\n",
    "        os.mkdir(f'{aug_imgs_path}/{i}')\n",
    "\n",
    "aug.fit(data)\n",
    "nb_batches = 0\n",
    "for X_batch, y_batch in aug.flow(data, y, batch_size=512, seed=42):\n",
    "    for i, mat in enumerate(X_batch):\n",
    "        rdm = np.random.randint(0,1e6)\n",
    "        cv2.imwrite(f'{aug_imgs_path}/{name_map[y_batch[i]]}/{name_map[y_batch[i]]}_{rdm}{i}.jpg', cv2.cvtColor(mat*255, cv2.COLOR_RGB2BGR))\n",
    "    nb_batches += 1\n",
    "\n",
    "    if nb_batches > 100:\n",
    "        break"
   ]
  },
  {
   "cell_type": "code",
   "execution_count": 5,
   "metadata": {},
   "outputs": [
    {
     "name": "stdout",
     "output_type": "stream",
     "text": [
      "{0: 'bl', 1: 'c', 2: 'm', 3: 'v', 4: 'v(cy)', 5: 'wmv'}\n"
     ]
    }
   ],
   "source": []
  },
  {
   "cell_type": "code",
   "execution_count": 6,
   "metadata": {},
   "outputs": [],
   "source": []
  }
 ],
 "metadata": {
  "kernelspec": {
   "display_name": "Python 3",
   "language": "python",
   "name": "python3"
  },
  "language_info": {
   "codemirror_mode": {
    "name": "ipython",
    "version": 3
   },
   "file_extension": ".py",
   "mimetype": "text/x-python",
   "name": "python",
   "nbconvert_exporter": "python",
   "pygments_lexer": "ipython3",
   "version": "3.7.8"
  }
 },
 "nbformat": 4,
 "nbformat_minor": 4
}
